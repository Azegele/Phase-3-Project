{
 "cells": [
  {
   "cell_type": "markdown",
   "metadata": {},
   "source": [
    "## Data Understanding"
   ]
  },
  {
   "cell_type": "code",
   "execution_count": 1,
   "metadata": {},
   "outputs": [],
   "source": [
    "#Importing Libraries\n",
    "import pandas as pd \n",
    "import numpy as np"
   ]
  },
  {
   "cell_type": "code",
   "execution_count": 2,
   "metadata": {},
   "outputs": [
    {
     "data": {
      "text/html": [
       "<div>\n",
       "<style scoped>\n",
       "    .dataframe tbody tr th:only-of-type {\n",
       "        vertical-align: middle;\n",
       "    }\n",
       "\n",
       "    .dataframe tbody tr th {\n",
       "        vertical-align: top;\n",
       "    }\n",
       "\n",
       "    .dataframe thead th {\n",
       "        text-align: right;\n",
       "    }\n",
       "</style>\n",
       "<table border=\"1\" class=\"dataframe\">\n",
       "  <thead>\n",
       "    <tr style=\"text-align: right;\">\n",
       "      <th></th>\n",
       "      <th>Subject Age Group</th>\n",
       "      <th>Subject ID</th>\n",
       "      <th>GO / SC Num</th>\n",
       "      <th>Terry Stop ID</th>\n",
       "      <th>Stop Resolution</th>\n",
       "      <th>Weapon Type</th>\n",
       "      <th>Officer ID</th>\n",
       "      <th>Officer YOB</th>\n",
       "      <th>Officer Gender</th>\n",
       "      <th>Officer Race</th>\n",
       "      <th>...</th>\n",
       "      <th>Reported Time</th>\n",
       "      <th>Initial Call Type</th>\n",
       "      <th>Final Call Type</th>\n",
       "      <th>Call Type</th>\n",
       "      <th>Officer Squad</th>\n",
       "      <th>Arrest Flag</th>\n",
       "      <th>Frisk Flag</th>\n",
       "      <th>Precinct</th>\n",
       "      <th>Sector</th>\n",
       "      <th>Beat</th>\n",
       "    </tr>\n",
       "  </thead>\n",
       "  <tbody>\n",
       "    <tr>\n",
       "      <th>0</th>\n",
       "      <td>-</td>\n",
       "      <td>-8</td>\n",
       "      <td>20220000063036</td>\n",
       "      <td>32023419019</td>\n",
       "      <td>Field Contact</td>\n",
       "      <td>-</td>\n",
       "      <td>6805</td>\n",
       "      <td>1973</td>\n",
       "      <td>M</td>\n",
       "      <td>White</td>\n",
       "      <td>...</td>\n",
       "      <td>09:34:02.0000000</td>\n",
       "      <td>SUSPICIOUS STOP - OFFICER INITIATED ONVIEW</td>\n",
       "      <td>--SUSPICIOUS CIRCUM. - SUSPICIOUS PERSON</td>\n",
       "      <td>ONVIEW</td>\n",
       "      <td>WEST PCT 1ST W - KQ/DM RELIEF</td>\n",
       "      <td>N</td>\n",
       "      <td>Y</td>\n",
       "      <td>West</td>\n",
       "      <td>K</td>\n",
       "      <td>K3</td>\n",
       "    </tr>\n",
       "    <tr>\n",
       "      <th>1</th>\n",
       "      <td>-</td>\n",
       "      <td>-8</td>\n",
       "      <td>20220000233868</td>\n",
       "      <td>35877423282</td>\n",
       "      <td>Field Contact</td>\n",
       "      <td>-</td>\n",
       "      <td>8881</td>\n",
       "      <td>1988</td>\n",
       "      <td>M</td>\n",
       "      <td>Asian</td>\n",
       "      <td>...</td>\n",
       "      <td>19:20:16.0000000</td>\n",
       "      <td>THREATS (INCLS IN-PERSON/BY PHONE/IN WRITING)</td>\n",
       "      <td>--DISTURBANCE - OTHER</td>\n",
       "      <td>911</td>\n",
       "      <td>TRAINING - FIELD TRAINING SQUAD</td>\n",
       "      <td>N</td>\n",
       "      <td>Y</td>\n",
       "      <td>South</td>\n",
       "      <td>O</td>\n",
       "      <td>O1</td>\n",
       "    </tr>\n",
       "    <tr>\n",
       "      <th>2</th>\n",
       "      <td>-</td>\n",
       "      <td>-1</td>\n",
       "      <td>20140000120677</td>\n",
       "      <td>92317</td>\n",
       "      <td>Arrest</td>\n",
       "      <td>None</td>\n",
       "      <td>7500</td>\n",
       "      <td>1984</td>\n",
       "      <td>M</td>\n",
       "      <td>Black or African American</td>\n",
       "      <td>...</td>\n",
       "      <td>11:32:00.0000000</td>\n",
       "      <td>-</td>\n",
       "      <td>-</td>\n",
       "      <td>-</td>\n",
       "      <td>SOUTH PCT 1ST W - ROBERT</td>\n",
       "      <td>N</td>\n",
       "      <td>N</td>\n",
       "      <td>South</td>\n",
       "      <td>O</td>\n",
       "      <td>O2</td>\n",
       "    </tr>\n",
       "    <tr>\n",
       "      <th>3</th>\n",
       "      <td>-</td>\n",
       "      <td>-1</td>\n",
       "      <td>20150000001463</td>\n",
       "      <td>28806</td>\n",
       "      <td>Field Contact</td>\n",
       "      <td>None</td>\n",
       "      <td>5670</td>\n",
       "      <td>1965</td>\n",
       "      <td>M</td>\n",
       "      <td>White</td>\n",
       "      <td>...</td>\n",
       "      <td>07:59:00.0000000</td>\n",
       "      <td>-</td>\n",
       "      <td>-</td>\n",
       "      <td>-</td>\n",
       "      <td>NaN</td>\n",
       "      <td>N</td>\n",
       "      <td>N</td>\n",
       "      <td>-</td>\n",
       "      <td>-</td>\n",
       "      <td>-</td>\n",
       "    </tr>\n",
       "    <tr>\n",
       "      <th>4</th>\n",
       "      <td>-</td>\n",
       "      <td>-1</td>\n",
       "      <td>20150000001516</td>\n",
       "      <td>29599</td>\n",
       "      <td>Field Contact</td>\n",
       "      <td>None</td>\n",
       "      <td>4844</td>\n",
       "      <td>1961</td>\n",
       "      <td>M</td>\n",
       "      <td>White</td>\n",
       "      <td>...</td>\n",
       "      <td>19:12:00.0000000</td>\n",
       "      <td>-</td>\n",
       "      <td>-</td>\n",
       "      <td>-</td>\n",
       "      <td>NaN</td>\n",
       "      <td>N</td>\n",
       "      <td>-</td>\n",
       "      <td>-</td>\n",
       "      <td>-</td>\n",
       "      <td>-</td>\n",
       "    </tr>\n",
       "    <tr>\n",
       "      <th>...</th>\n",
       "      <td>...</td>\n",
       "      <td>...</td>\n",
       "      <td>...</td>\n",
       "      <td>...</td>\n",
       "      <td>...</td>\n",
       "      <td>...</td>\n",
       "      <td>...</td>\n",
       "      <td>...</td>\n",
       "      <td>...</td>\n",
       "      <td>...</td>\n",
       "      <td>...</td>\n",
       "      <td>...</td>\n",
       "      <td>...</td>\n",
       "      <td>...</td>\n",
       "      <td>...</td>\n",
       "      <td>...</td>\n",
       "      <td>...</td>\n",
       "      <td>...</td>\n",
       "      <td>...</td>\n",
       "      <td>...</td>\n",
       "      <td>...</td>\n",
       "    </tr>\n",
       "    <tr>\n",
       "      <th>53649</th>\n",
       "      <td>56 and Above</td>\n",
       "      <td>35908211663</td>\n",
       "      <td>20220000238170</td>\n",
       "      <td>35908320953</td>\n",
       "      <td>Field Contact</td>\n",
       "      <td>-</td>\n",
       "      <td>8889</td>\n",
       "      <td>1977</td>\n",
       "      <td>M</td>\n",
       "      <td>White</td>\n",
       "      <td>...</td>\n",
       "      <td>04:11:19.0000000</td>\n",
       "      <td>DISTURBANCE, MISCELLANEOUS/OTHER</td>\n",
       "      <td>DISTURBANCE, MISCELLANEOUS/OTHER</td>\n",
       "      <td>911</td>\n",
       "      <td>TRAINING - FIELD TRAINING SQUAD</td>\n",
       "      <td>N</td>\n",
       "      <td>N</td>\n",
       "      <td>West</td>\n",
       "      <td>Q</td>\n",
       "      <td>Q3</td>\n",
       "    </tr>\n",
       "    <tr>\n",
       "      <th>53650</th>\n",
       "      <td>56 and Above</td>\n",
       "      <td>36244081163</td>\n",
       "      <td>20220000243193</td>\n",
       "      <td>36244016178</td>\n",
       "      <td>Arrest</td>\n",
       "      <td>-</td>\n",
       "      <td>8857</td>\n",
       "      <td>1996</td>\n",
       "      <td>M</td>\n",
       "      <td>White</td>\n",
       "      <td>...</td>\n",
       "      <td>01:53:14.0000000</td>\n",
       "      <td>-</td>\n",
       "      <td>-</td>\n",
       "      <td>-</td>\n",
       "      <td>WEST PCT 2ND W - D/M RELIEF</td>\n",
       "      <td>Y</td>\n",
       "      <td>N</td>\n",
       "      <td>East</td>\n",
       "      <td>E</td>\n",
       "      <td>E3</td>\n",
       "    </tr>\n",
       "    <tr>\n",
       "      <th>53651</th>\n",
       "      <td>56 and Above</td>\n",
       "      <td>36540999080</td>\n",
       "      <td>20220000250573</td>\n",
       "      <td>36541078424</td>\n",
       "      <td>Field Contact</td>\n",
       "      <td>-</td>\n",
       "      <td>6805</td>\n",
       "      <td>1973</td>\n",
       "      <td>M</td>\n",
       "      <td>White</td>\n",
       "      <td>...</td>\n",
       "      <td>12:57:21.0000000</td>\n",
       "      <td>SUSPICIOUS PERSON, VEHICLE OR INCIDENT</td>\n",
       "      <td>--MISCHIEF OR NUISANCE - GENERAL</td>\n",
       "      <td>ONVIEW</td>\n",
       "      <td>WEST PCT 1ST W - KQ/DM RELIEF</td>\n",
       "      <td>N</td>\n",
       "      <td>N</td>\n",
       "      <td>West</td>\n",
       "      <td>K</td>\n",
       "      <td>K3</td>\n",
       "    </tr>\n",
       "    <tr>\n",
       "      <th>53652</th>\n",
       "      <td>56 and Above</td>\n",
       "      <td>36545542648</td>\n",
       "      <td>20220000251229</td>\n",
       "      <td>36545507606</td>\n",
       "      <td>Field Contact</td>\n",
       "      <td>-</td>\n",
       "      <td>7773</td>\n",
       "      <td>1978</td>\n",
       "      <td>M</td>\n",
       "      <td>White</td>\n",
       "      <td>...</td>\n",
       "      <td>02:33:21.0000000</td>\n",
       "      <td>FOUND - PERSON</td>\n",
       "      <td>FOUND - PERSON</td>\n",
       "      <td>911</td>\n",
       "      <td>NORTH PCT 3RD W - LINCOLN</td>\n",
       "      <td>N</td>\n",
       "      <td>N</td>\n",
       "      <td>North</td>\n",
       "      <td>J</td>\n",
       "      <td>J3</td>\n",
       "    </tr>\n",
       "    <tr>\n",
       "      <th>53653</th>\n",
       "      <td>56 and Above</td>\n",
       "      <td>37030489079</td>\n",
       "      <td>20220000261253</td>\n",
       "      <td>37030461857</td>\n",
       "      <td>Field Contact</td>\n",
       "      <td>-</td>\n",
       "      <td>8890</td>\n",
       "      <td>1995</td>\n",
       "      <td>M</td>\n",
       "      <td>White</td>\n",
       "      <td>...</td>\n",
       "      <td>23:21:54.0000000</td>\n",
       "      <td>TRESPASS</td>\n",
       "      <td>TRESPASS</td>\n",
       "      <td>911</td>\n",
       "      <td>TRAINING - FIELD TRAINING SQUAD</td>\n",
       "      <td>N</td>\n",
       "      <td>N</td>\n",
       "      <td>West</td>\n",
       "      <td>M</td>\n",
       "      <td>M1</td>\n",
       "    </tr>\n",
       "  </tbody>\n",
       "</table>\n",
       "<p>53654 rows × 23 columns</p>\n",
       "</div>"
      ],
      "text/plain": [
       "      Subject Age Group   Subject ID     GO / SC Num  Terry Stop ID  \\\n",
       "0                     -           -8  20220000063036    32023419019   \n",
       "1                     -           -8  20220000233868    35877423282   \n",
       "2                     -           -1  20140000120677          92317   \n",
       "3                     -           -1  20150000001463          28806   \n",
       "4                     -           -1  20150000001516          29599   \n",
       "...                 ...          ...             ...            ...   \n",
       "53649      56 and Above  35908211663  20220000238170    35908320953   \n",
       "53650      56 and Above  36244081163  20220000243193    36244016178   \n",
       "53651      56 and Above  36540999080  20220000250573    36541078424   \n",
       "53652      56 and Above  36545542648  20220000251229    36545507606   \n",
       "53653      56 and Above  37030489079  20220000261253    37030461857   \n",
       "\n",
       "      Stop Resolution Weapon Type Officer ID  Officer YOB Officer Gender  \\\n",
       "0       Field Contact           -       6805         1973              M   \n",
       "1       Field Contact           -       8881         1988              M   \n",
       "2              Arrest        None       7500         1984              M   \n",
       "3       Field Contact        None       5670         1965              M   \n",
       "4       Field Contact        None       4844         1961              M   \n",
       "...               ...         ...        ...          ...            ...   \n",
       "53649   Field Contact           -       8889         1977              M   \n",
       "53650          Arrest           -       8857         1996              M   \n",
       "53651   Field Contact           -       6805         1973              M   \n",
       "53652   Field Contact           -       7773         1978              M   \n",
       "53653   Field Contact           -       8890         1995              M   \n",
       "\n",
       "                    Officer Race  ...     Reported Time  \\\n",
       "0                          White  ...  09:34:02.0000000   \n",
       "1                          Asian  ...  19:20:16.0000000   \n",
       "2      Black or African American  ...  11:32:00.0000000   \n",
       "3                          White  ...  07:59:00.0000000   \n",
       "4                          White  ...  19:12:00.0000000   \n",
       "...                          ...  ...               ...   \n",
       "53649                      White  ...  04:11:19.0000000   \n",
       "53650                      White  ...  01:53:14.0000000   \n",
       "53651                      White  ...  12:57:21.0000000   \n",
       "53652                      White  ...  02:33:21.0000000   \n",
       "53653                      White  ...  23:21:54.0000000   \n",
       "\n",
       "                                   Initial Call Type  \\\n",
       "0         SUSPICIOUS STOP - OFFICER INITIATED ONVIEW   \n",
       "1      THREATS (INCLS IN-PERSON/BY PHONE/IN WRITING)   \n",
       "2                                                  -   \n",
       "3                                                  -   \n",
       "4                                                  -   \n",
       "...                                              ...   \n",
       "53649               DISTURBANCE, MISCELLANEOUS/OTHER   \n",
       "53650                                              -   \n",
       "53651         SUSPICIOUS PERSON, VEHICLE OR INCIDENT   \n",
       "53652                                 FOUND - PERSON   \n",
       "53653                                       TRESPASS   \n",
       "\n",
       "                                Final Call Type Call Type  \\\n",
       "0      --SUSPICIOUS CIRCUM. - SUSPICIOUS PERSON    ONVIEW   \n",
       "1                         --DISTURBANCE - OTHER       911   \n",
       "2                                             -         -   \n",
       "3                                             -         -   \n",
       "4                                             -         -   \n",
       "...                                         ...       ...   \n",
       "53649          DISTURBANCE, MISCELLANEOUS/OTHER       911   \n",
       "53650                                         -         -   \n",
       "53651          --MISCHIEF OR NUISANCE - GENERAL    ONVIEW   \n",
       "53652                            FOUND - PERSON       911   \n",
       "53653                                  TRESPASS       911   \n",
       "\n",
       "                         Officer Squad Arrest Flag Frisk Flag Precinct Sector  \\\n",
       "0        WEST PCT 1ST W - KQ/DM RELIEF           N          Y     West      K   \n",
       "1      TRAINING - FIELD TRAINING SQUAD           N          Y    South      O   \n",
       "2             SOUTH PCT 1ST W - ROBERT           N          N    South      O   \n",
       "3                                  NaN           N          N        -      -   \n",
       "4                                  NaN           N          -        -      -   \n",
       "...                                ...         ...        ...      ...    ...   \n",
       "53649  TRAINING - FIELD TRAINING SQUAD           N          N     West      Q   \n",
       "53650      WEST PCT 2ND W - D/M RELIEF           Y          N     East      E   \n",
       "53651    WEST PCT 1ST W - KQ/DM RELIEF           N          N     West      K   \n",
       "53652        NORTH PCT 3RD W - LINCOLN           N          N    North      J   \n",
       "53653  TRAINING - FIELD TRAINING SQUAD           N          N     West      M   \n",
       "\n",
       "      Beat  \n",
       "0       K3  \n",
       "1       O1  \n",
       "2       O2  \n",
       "3        -  \n",
       "4        -  \n",
       "...    ...  \n",
       "53649   Q3  \n",
       "53650   E3  \n",
       "53651   K3  \n",
       "53652   J3  \n",
       "53653   M1  \n",
       "\n",
       "[53654 rows x 23 columns]"
      ]
     },
     "execution_count": 2,
     "metadata": {},
     "output_type": "execute_result"
    }
   ],
   "source": [
    "data = pd.read_csv('Data/Terry_Stops.csv')\n",
    "data"
   ]
  },
  {
   "cell_type": "markdown",
   "metadata": {},
   "source": [
    "\n",
    "The data can be lumped into four categories:\n",
    "\n",
    "#### Demographics: race, age, gender\n",
    "\n",
    "#### Situation: weapons involved, date, time\n",
    "\n",
    "#### Administrative: report type, precinct, officer squad, officer IDs\n",
    "\n",
    "#### Outcome: arrest, citation, field contact, offense report\n",
    "\n",
    "\n",
    "There are 53654 rows and 23 columns in our dataset. Below is a brief description of the data each column represents:\n",
    "\n",
    "#### Subject Age Group\n",
    "Subject Age Group (10 year increments) as reported by the officer.\n",
    "  \n",
    "#### Subject ID\n",
    "Key, generated daily, identifying unique subjects in the dataset using a character to character match of first name and last name. \"Null\" values indicate an \"anonymous\" or \"unidentified\" subject. Subjects of a Terry Stop are not required to present identification.\n",
    "    \n",
    "#### GO/SC Num\n",
    "General Offense or Street Check number, relating the Terry Stop to the parent report. This field may have a one to many relationship in the data.\n",
    "    \n",
    "#### Terry Stop ID\n",
    "Key identifying unique Terry Stop reports.\n",
    "\n",
    "#### Stop Resolution\n",
    "Resolution of the stop as reported by the officer.\n",
    "    \n",
    "#### Weapon Type\n",
    "Type of weapon, if any, identified during a search or frisk of the subject. Indicates \"None\"     if no weapons was found.\n",
    "    \n",
    "#### Officer ID\n",
    "Key identifying unique officers in the dataset.\n",
    "    \n",
    "#### Officer YOB: \n",
    "Year of birth, as reported by the officer.\n",
    "    \n",
    "#### Officer Gender\n",
    "Gender of the officer, as reported by the officer.\n",
    "    \n",
    "#### Officer Race\n",
    "Race of the officer, as reported by the officer.\n",
    "    \n",
    "#### Subject Perceived Race\n",
    "Perceived race of the subject, as reported by the officer.\n",
    "\n",
    "#### Subject Perceived Gender\n",
    "Perceived gender of the subject, as reported by the officer.\n",
    "    \n",
    "#### Reported Date\n",
    "Date the report was filed in the Records Management System (RMS). Not necessarily the date the stop occurred but generally within 1 day.\n",
    "    \n",
    "#### Reported Time\n",
    "Time the stop was reported in the Records Management System (RMS). Not the time the stop occurred but generally within 10 hours.\n",
    "    \n",
    "#### Initial Call Type\n",
    "Initial classification of the call as assigned by 911.\n",
    "    \n",
    "#### Final Call Type\n",
    "Final classification of the call as assigned by the primary officer closing the event.\n",
    "    \n",
    "#### Call Type\n",
    "How the call was received by the communication center.\n",
    "    \n",
    "#### Officer Squad\n",
    "Functional squad assignment (not budget) of the officer as reported by the Data Analytics Platform (DAP).\n",
    "    \n",
    "#### Arrest Flag\n",
    "Indicator of whether a \"physical arrest\" was made, of the subject, during the Terry Stop. Does not necessarily reflect a report of an arrest in the Records Management System (RMS).\n",
    "    \n",
    "#### Frisk Flag\n",
    "Indicator of whether a \"frisk\" was conducted, by the officer, of the subject, during the Terry Stop.\n",
    "    \n",
    "#### Precinct\n",
    "Precinct of the address associated with the underlying Computer Aided Dispatch (CAD) event. Not necessarily where the Terry Stop occurred.\n",
    "    \n",
    "#### Sector\n",
    "Sector of the address associated with the underlying Computer Aided Dispatch (CAD) event. Not necessarily where the Terry Stop occurred.\n",
    "    \n",
    "#### Beat\n",
    "Beat of the address associated with the underlying Computer Aided Dispatch (CAD) event. Not necessarily where the Terry Stop occurred.\n"
   ]
  },
  {
   "cell_type": "code",
   "execution_count": 3,
   "metadata": {},
   "outputs": [
    {
     "data": {
      "text/plain": [
       "Field Contact               23006\n",
       "Offense Report              16599\n",
       "Arrest                      13131\n",
       "Referred for Prosecution      728\n",
       "Citation / Infraction         190\n",
       "Name: Stop Resolution, dtype: int64"
      ]
     },
     "execution_count": 3,
     "metadata": {},
     "output_type": "execute_result"
    }
   ],
   "source": [
    "data['Stop Resolution'].value_counts()"
   ]
  },
  {
   "cell_type": "code",
   "execution_count": 4,
   "metadata": {
    "scrolled": true
   },
   "outputs": [
    {
     "data": {
      "text/plain": [
       "0        09:34:02.0000000\n",
       "1        19:20:16.0000000\n",
       "2        11:32:00.0000000\n",
       "3        07:59:00.0000000\n",
       "4        19:12:00.0000000\n",
       "               ...       \n",
       "53649    04:11:19.0000000\n",
       "53650    01:53:14.0000000\n",
       "53651    12:57:21.0000000\n",
       "53652    02:33:21.0000000\n",
       "53653    23:21:54.0000000\n",
       "Name: Reported Time, Length: 53654, dtype: object"
      ]
     },
     "execution_count": 4,
     "metadata": {},
     "output_type": "execute_result"
    }
   ],
   "source": [
    "data['Reported Time']"
   ]
  },
  {
   "cell_type": "code",
   "execution_count": 5,
   "metadata": {},
   "outputs": [
    {
     "data": {
      "text/plain": [
       "West         14070\n",
       "North        11699\n",
       "-            10240\n",
       "East          6904\n",
       "South         6363\n",
       "Southwest     2320\n",
       "SouthWest     1775\n",
       "Unknown        200\n",
       "OOJ             61\n",
       "FK ERROR        22\n",
       "Name: Precinct, dtype: int64"
      ]
     },
     "execution_count": 5,
     "metadata": {},
     "output_type": "execute_result"
    }
   ],
   "source": [
    "data['Precinct'].value_counts()"
   ]
  },
  {
   "cell_type": "code",
   "execution_count": 6,
   "metadata": {},
   "outputs": [
    {
     "data": {
      "text/plain": [
       "N    0.760316\n",
       "Y    0.230775\n",
       "-    0.008909\n",
       "Name: Frisk Flag, dtype: float64"
      ]
     },
     "execution_count": 6,
     "metadata": {},
     "output_type": "execute_result"
    }
   ],
   "source": [
    "data['Frisk Flag'].value_counts(normalize=True)"
   ]
  },
  {
   "cell_type": "code",
   "execution_count": 7,
   "metadata": {},
   "outputs": [
    {
     "data": {
      "text/plain": [
       "26 - 35         0.334178\n",
       "36 - 45         0.216834\n",
       "18 - 25         0.195922\n",
       "46 - 55         0.128434\n",
       "56 and Above    0.051851\n",
       "1 - 17          0.038767\n",
       "-               0.034014\n",
       "Name: Subject Age Group, dtype: float64"
      ]
     },
     "execution_count": 7,
     "metadata": {},
     "output_type": "execute_result"
    }
   ],
   "source": [
    "data['Subject Age Group'].value_counts(normalize=True)"
   ]
  },
  {
   "cell_type": "code",
   "execution_count": 8,
   "metadata": {},
   "outputs": [
    {
     "data": {
      "text/plain": [
       "1986    0.068774\n",
       "1987    0.063779\n",
       "1991    0.055522\n",
       "1984    0.054441\n",
       "1992    0.053193\n",
       "1990    0.050099\n",
       "1985    0.048459\n",
       "1988    0.044657\n",
       "1989    0.042345\n",
       "1982    0.036269\n",
       "1983    0.034778\n",
       "1993    0.033101\n",
       "1995    0.031983\n",
       "1979    0.031964\n",
       "1981    0.029653\n",
       "1994    0.025087\n",
       "1971    0.023707\n",
       "1976    0.023223\n",
       "1978    0.022757\n",
       "1977    0.020520\n",
       "1973    0.018731\n",
       "1996    0.017930\n",
       "1980    0.017426\n",
       "1967    0.014761\n",
       "1997    0.013904\n",
       "1970    0.012487\n",
       "1968    0.012376\n",
       "1969    0.010996\n",
       "1975    0.010791\n",
       "1974    0.010791\n",
       "1962    0.008629\n",
       "1964    0.008555\n",
       "1972    0.008368\n",
       "1965    0.007902\n",
       "1963    0.004939\n",
       "1966    0.004380\n",
       "1961    0.004361\n",
       "1958    0.004138\n",
       "1959    0.003243\n",
       "1960    0.003001\n",
       "1998    0.002292\n",
       "1900    0.001286\n",
       "1954    0.000820\n",
       "1957    0.000801\n",
       "1953    0.000652\n",
       "1999    0.000466\n",
       "2000    0.000429\n",
       "1955    0.000391\n",
       "1956    0.000317\n",
       "1948    0.000205\n",
       "1952    0.000168\n",
       "1949    0.000093\n",
       "1946    0.000037\n",
       "1951    0.000019\n",
       "Name: Officer YOB, dtype: float64"
      ]
     },
     "execution_count": 8,
     "metadata": {},
     "output_type": "execute_result"
    }
   ],
   "source": [
    "data['Officer YOB'].value_counts(normalize=True)"
   ]
  },
  {
   "cell_type": "code",
   "execution_count": 9,
   "metadata": {
    "scrolled": false
   },
   "outputs": [
    {
     "name": "stdout",
     "output_type": "stream",
     "text": [
      "<class 'pandas.core.frame.DataFrame'>\n",
      "RangeIndex: 53654 entries, 0 to 53653\n",
      "Data columns (total 23 columns):\n",
      " #   Column                    Non-Null Count  Dtype \n",
      "---  ------                    --------------  ----- \n",
      " 0   Subject Age Group         53654 non-null  object\n",
      " 1   Subject ID                53654 non-null  int64 \n",
      " 2   GO / SC Num               53654 non-null  int64 \n",
      " 3   Terry Stop ID             53654 non-null  int64 \n",
      " 4   Stop Resolution           53654 non-null  object\n",
      " 5   Weapon Type               53654 non-null  object\n",
      " 6   Officer ID                53654 non-null  object\n",
      " 7   Officer YOB               53654 non-null  int64 \n",
      " 8   Officer Gender            53654 non-null  object\n",
      " 9   Officer Race              53654 non-null  object\n",
      " 10  Subject Perceived Race    53654 non-null  object\n",
      " 11  Subject Perceived Gender  53654 non-null  object\n",
      " 12  Reported Date             53654 non-null  object\n",
      " 13  Reported Time             53654 non-null  object\n",
      " 14  Initial Call Type         53654 non-null  object\n",
      " 15  Final Call Type           53654 non-null  object\n",
      " 16  Call Type                 53654 non-null  object\n",
      " 17  Officer Squad             53165 non-null  object\n",
      " 18  Arrest Flag               53654 non-null  object\n",
      " 19  Frisk Flag                53654 non-null  object\n",
      " 20  Precinct                  53654 non-null  object\n",
      " 21  Sector                    53654 non-null  object\n",
      " 22  Beat                      53654 non-null  object\n",
      "dtypes: int64(4), object(19)\n",
      "memory usage: 9.4+ MB\n"
     ]
    }
   ],
   "source": [
    "data.info()"
   ]
  },
  {
   "cell_type": "code",
   "execution_count": 10,
   "metadata": {},
   "outputs": [
    {
     "data": {
      "text/plain": [
       "(53654, 23)"
      ]
     },
     "execution_count": 10,
     "metadata": {},
     "output_type": "execute_result"
    }
   ],
   "source": [
    "data.shape"
   ]
  },
  {
   "cell_type": "code",
   "execution_count": 11,
   "metadata": {},
   "outputs": [
    {
     "data": {
      "text/html": [
       "<div>\n",
       "<style scoped>\n",
       "    .dataframe tbody tr th:only-of-type {\n",
       "        vertical-align: middle;\n",
       "    }\n",
       "\n",
       "    .dataframe tbody tr th {\n",
       "        vertical-align: top;\n",
       "    }\n",
       "\n",
       "    .dataframe thead th {\n",
       "        text-align: right;\n",
       "    }\n",
       "</style>\n",
       "<table border=\"1\" class=\"dataframe\">\n",
       "  <thead>\n",
       "    <tr style=\"text-align: right;\">\n",
       "      <th></th>\n",
       "      <th>Subject ID</th>\n",
       "      <th>GO / SC Num</th>\n",
       "      <th>Terry Stop ID</th>\n",
       "      <th>Officer YOB</th>\n",
       "    </tr>\n",
       "  </thead>\n",
       "  <tbody>\n",
       "    <tr>\n",
       "      <th>count</th>\n",
       "      <td>5.365400e+04</td>\n",
       "      <td>5.365400e+04</td>\n",
       "      <td>5.365400e+04</td>\n",
       "      <td>53654.000000</td>\n",
       "    </tr>\n",
       "    <tr>\n",
       "      <th>mean</th>\n",
       "      <td>4.343049e+09</td>\n",
       "      <td>2.018040e+13</td>\n",
       "      <td>6.931744e+09</td>\n",
       "      <td>1983.457356</td>\n",
       "    </tr>\n",
       "    <tr>\n",
       "      <th>std</th>\n",
       "      <td>7.565102e+09</td>\n",
       "      <td>8.960437e+10</td>\n",
       "      <td>1.081950e+10</td>\n",
       "      <td>9.312311</td>\n",
       "    </tr>\n",
       "    <tr>\n",
       "      <th>min</th>\n",
       "      <td>-8.000000e+00</td>\n",
       "      <td>-1.000000e+00</td>\n",
       "      <td>2.802000e+04</td>\n",
       "      <td>1900.000000</td>\n",
       "    </tr>\n",
       "    <tr>\n",
       "      <th>25%</th>\n",
       "      <td>-1.000000e+00</td>\n",
       "      <td>2.016000e+13</td>\n",
       "      <td>2.074660e+05</td>\n",
       "      <td>1979.000000</td>\n",
       "    </tr>\n",
       "    <tr>\n",
       "      <th>50%</th>\n",
       "      <td>-1.000000e+00</td>\n",
       "      <td>2.018000e+13</td>\n",
       "      <td>4.544425e+05</td>\n",
       "      <td>1986.000000</td>\n",
       "    </tr>\n",
       "    <tr>\n",
       "      <th>75%</th>\n",
       "      <td>7.731599e+09</td>\n",
       "      <td>2.020000e+13</td>\n",
       "      <td>1.262118e+10</td>\n",
       "      <td>1990.000000</td>\n",
       "    </tr>\n",
       "    <tr>\n",
       "      <th>max</th>\n",
       "      <td>3.743051e+10</td>\n",
       "      <td>2.022000e+13</td>\n",
       "      <td>3.742961e+10</td>\n",
       "      <td>2000.000000</td>\n",
       "    </tr>\n",
       "  </tbody>\n",
       "</table>\n",
       "</div>"
      ],
      "text/plain": [
       "         Subject ID   GO / SC Num  Terry Stop ID   Officer YOB\n",
       "count  5.365400e+04  5.365400e+04   5.365400e+04  53654.000000\n",
       "mean   4.343049e+09  2.018040e+13   6.931744e+09   1983.457356\n",
       "std    7.565102e+09  8.960437e+10   1.081950e+10      9.312311\n",
       "min   -8.000000e+00 -1.000000e+00   2.802000e+04   1900.000000\n",
       "25%   -1.000000e+00  2.016000e+13   2.074660e+05   1979.000000\n",
       "50%   -1.000000e+00  2.018000e+13   4.544425e+05   1986.000000\n",
       "75%    7.731599e+09  2.020000e+13   1.262118e+10   1990.000000\n",
       "max    3.743051e+10  2.022000e+13   3.742961e+10   2000.000000"
      ]
     },
     "execution_count": 11,
     "metadata": {},
     "output_type": "execute_result"
    }
   ],
   "source": [
    "#descriptive statistics for numeric columns\n",
    "data.describe()"
   ]
  },
  {
   "cell_type": "code",
   "execution_count": 12,
   "metadata": {},
   "outputs": [
    {
     "data": {
      "text/plain": [
       "Subject Age Group             0\n",
       "Subject ID                    0\n",
       "GO / SC Num                   0\n",
       "Terry Stop ID                 0\n",
       "Stop Resolution               0\n",
       "Weapon Type                   0\n",
       "Officer ID                    0\n",
       "Officer YOB                   0\n",
       "Officer Gender                0\n",
       "Officer Race                  0\n",
       "Subject Perceived Race        0\n",
       "Subject Perceived Gender      0\n",
       "Reported Date                 0\n",
       "Reported Time                 0\n",
       "Initial Call Type             0\n",
       "Final Call Type               0\n",
       "Call Type                     0\n",
       "Officer Squad               489\n",
       "Arrest Flag                   0\n",
       "Frisk Flag                    0\n",
       "Precinct                      0\n",
       "Sector                        0\n",
       "Beat                          0\n",
       "dtype: int64"
      ]
     },
     "execution_count": 12,
     "metadata": {},
     "output_type": "execute_result"
    }
   ],
   "source": [
    "data.isnull().sum()"
   ]
  },
  {
   "cell_type": "code",
   "execution_count": 13,
   "metadata": {},
   "outputs": [
    {
     "data": {
      "text/plain": [
       "26 - 35         17930\n",
       "36 - 45         11634\n",
       "18 - 25         10512\n",
       "46 - 55          6891\n",
       "56 and Above     2782\n",
       "1 - 17           2080\n",
       "-                1825\n",
       "Name: Subject Age Group, dtype: int64"
      ]
     },
     "execution_count": 13,
     "metadata": {},
     "output_type": "execute_result"
    }
   ],
   "source": [
    "data['Subject Age Group'].value_counts()\n",
    "#There are missing values"
   ]
  },
  {
   "cell_type": "code",
   "execution_count": 14,
   "metadata": {},
   "outputs": [
    {
     "data": {
      "text/plain": [
       "73"
      ]
     },
     "execution_count": 14,
     "metadata": {},
     "output_type": "execute_result"
    }
   ],
   "source": [
    "data['Terry Stop ID'].duplicated().sum()\n",
    "#we have 73 duplicates"
   ]
  },
  {
   "cell_type": "code",
   "execution_count": 15,
   "metadata": {},
   "outputs": [
    {
     "data": {
      "text/plain": [
       "Field Contact               23006\n",
       "Offense Report              16599\n",
       "Arrest                      13131\n",
       "Referred for Prosecution      728\n",
       "Citation / Infraction         190\n",
       "Name: Stop Resolution, dtype: int64"
      ]
     },
     "execution_count": 15,
     "metadata": {},
     "output_type": "execute_result"
    }
   ],
   "source": [
    "data['Stop Resolution'].value_counts()"
   ]
  },
  {
   "cell_type": "code",
   "execution_count": 16,
   "metadata": {},
   "outputs": [
    {
     "data": {
      "text/plain": [
       "None                                    32565\n",
       "-                                       17800\n",
       "Lethal Cutting Instrument                1482\n",
       "Knife/Cutting/Stabbing Instrument         967\n",
       "Handgun                                   342\n",
       "Blunt Object/Striking Implement           125\n",
       "Firearm Other                             100\n",
       "Firearm                                    63\n",
       "Club, Blackjack, Brass Knuckles            49\n",
       "Mace/Pepper Spray                          44\n",
       "Other Firearm                              41\n",
       "Firearm (unk type)                         15\n",
       "Taser/Stun Gun                             13\n",
       "Fire/Incendiary Device                     11\n",
       "None/Not Applicable                        10\n",
       "Club                                        9\n",
       "Rifle                                       8\n",
       "Shotgun                                     4\n",
       "Personal Weapons (hands, feet, etc.)        2\n",
       "Automatic Handgun                           2\n",
       "Blackjack                                   1\n",
       "Brass Knuckles                              1\n",
       "Name: Weapon Type, dtype: int64"
      ]
     },
     "execution_count": 16,
     "metadata": {},
     "output_type": "execute_result"
    }
   ],
   "source": [
    "data['Weapon Type'].value_counts()\n",
    "#we have missing values\n",
    "#further investigate 'personal weapons'"
   ]
  },
  {
   "cell_type": "code",
   "execution_count": 17,
   "metadata": {},
   "outputs": [
    {
     "data": {
      "text/plain": [
       "1986    3690\n",
       "1987    3422\n",
       "1991    2979\n",
       "1984    2921\n",
       "1992    2854\n",
       "1990    2688\n",
       "1985    2600\n",
       "1988    2396\n",
       "1989    2272\n",
       "1982    1946\n",
       "1983    1866\n",
       "1993    1776\n",
       "1995    1716\n",
       "1979    1715\n",
       "1981    1591\n",
       "1994    1346\n",
       "1971    1272\n",
       "1976    1246\n",
       "1978    1221\n",
       "1977    1101\n",
       "1973    1005\n",
       "1996     962\n",
       "1980     935\n",
       "1967     792\n",
       "1997     746\n",
       "1970     670\n",
       "1968     664\n",
       "1969     590\n",
       "1975     579\n",
       "1974     579\n",
       "1962     463\n",
       "1964     459\n",
       "1972     449\n",
       "1965     424\n",
       "1963     265\n",
       "1966     235\n",
       "1961     234\n",
       "1958     222\n",
       "1959     174\n",
       "1960     161\n",
       "1998     123\n",
       "1900      69\n",
       "1954      44\n",
       "1957      43\n",
       "1953      35\n",
       "1999      25\n",
       "2000      23\n",
       "1955      21\n",
       "1956      17\n",
       "1948      11\n",
       "1952       9\n",
       "1949       5\n",
       "1946       2\n",
       "1951       1\n",
       "Name: Officer YOB, dtype: int64"
      ]
     },
     "execution_count": 17,
     "metadata": {},
     "output_type": "execute_result"
    }
   ],
   "source": [
    "data['Officer YOB'].value_counts()\n",
    "#no missing values"
   ]
  },
  {
   "cell_type": "code",
   "execution_count": 22,
   "metadata": {},
   "outputs": [
    {
     "data": {
      "text/plain": [
       "02:56:00.0000000    52\n",
       "03:09:00.0000000    51\n",
       "17:00:00.0000000    51\n",
       "19:18:00.0000000    51\n",
       "03:13:00.0000000    50\n",
       "                    ..\n",
       "03:45:21.0000000     1\n",
       "03:07:37.0000000     1\n",
       "17:17:15.0000000     1\n",
       "16:04:15.0000000     1\n",
       "02:41:20.0000000     1\n",
       "Name: Reported Time, Length: 18104, dtype: int64"
      ]
     },
     "execution_count": 22,
     "metadata": {},
     "output_type": "execute_result"
    }
   ],
   "source": [
    "data['Reported Time'].value_counts()\n",
    "#we will feature engineer a new column of day/night to predict time of day that most Terry Stops were made."
   ]
  },
  {
   "cell_type": "code",
   "execution_count": 23,
   "metadata": {},
   "outputs": [
    {
     "data": {
      "text/plain": [
       "N    48731\n",
       "Y     4923\n",
       "Name: Arrest Flag, dtype: int64"
      ]
     },
     "execution_count": 23,
     "metadata": {},
     "output_type": "execute_result"
    }
   ],
   "source": [
    "data['Arrest Flag'].value_counts()\n",
    "#this is our target variable"
   ]
  },
  {
   "cell_type": "code",
   "execution_count": 24,
   "metadata": {},
   "outputs": [
    {
     "data": {
      "text/plain": [
       "N    40794\n",
       "Y    12382\n",
       "-      478\n",
       "Name: Frisk Flag, dtype: int64"
      ]
     },
     "execution_count": 24,
     "metadata": {},
     "output_type": "execute_result"
    }
   ],
   "source": [
    "data['Frisk Flag'].value_counts()\n",
    "#we have missing values\n",
    "#this will be used to check whether there was a terry stop and a frisk that led to the discovery of a weapon"
   ]
  },
  {
   "cell_type": "code",
   "execution_count": 25,
   "metadata": {},
   "outputs": [
    {
     "data": {
      "text/plain": [
       "West         14070\n",
       "North        11699\n",
       "-            10240\n",
       "East          6904\n",
       "South         6363\n",
       "Southwest     2320\n",
       "SouthWest     1775\n",
       "Unknown        200\n",
       "OOJ             61\n",
       "FK ERROR        22\n",
       "Name: Precinct, dtype: int64"
      ]
     },
     "execution_count": 25,
     "metadata": {},
     "output_type": "execute_result"
    }
   ],
   "source": [
    "data['Precinct'].value_counts()"
   ]
  },
  {
   "cell_type": "markdown",
   "metadata": {},
   "source": [
    "## Data Preparation\n",
    "\n",
    "### Validity"
   ]
  },
  {
   "cell_type": "code",
   "execution_count": 26,
   "metadata": {
    "scrolled": false
   },
   "outputs": [
    {
     "data": {
      "text/plain": [
       "Index(['Subject Age Group', 'Subject ID', 'GO / SC Num', 'Terry Stop ID',\n",
       "       'Stop Resolution', 'Weapon Type', 'Officer ID', 'Officer YOB',\n",
       "       'Officer Gender', 'Officer Race', 'Subject Perceived Race',\n",
       "       'Subject Perceived Gender', 'Reported Date', 'Reported Time',\n",
       "       'Initial Call Type', 'Final Call Type', 'Call Type', 'Officer Squad',\n",
       "       'Arrest Flag', 'Frisk Flag', 'Precinct', 'Sector', 'Beat'],\n",
       "      dtype='object')"
      ]
     },
     "execution_count": 26,
     "metadata": {},
     "output_type": "execute_result"
    }
   ],
   "source": [
    "data.columns"
   ]
  },
  {
   "cell_type": "code",
   "execution_count": 27,
   "metadata": {
    "scrolled": true
   },
   "outputs": [
    {
     "data": {
      "text/html": [
       "<div>\n",
       "<style scoped>\n",
       "    .dataframe tbody tr th:only-of-type {\n",
       "        vertical-align: middle;\n",
       "    }\n",
       "\n",
       "    .dataframe tbody tr th {\n",
       "        vertical-align: top;\n",
       "    }\n",
       "\n",
       "    .dataframe thead th {\n",
       "        text-align: right;\n",
       "    }\n",
       "</style>\n",
       "<table border=\"1\" class=\"dataframe\">\n",
       "  <thead>\n",
       "    <tr style=\"text-align: right;\">\n",
       "      <th></th>\n",
       "      <th>Subject Age Group</th>\n",
       "      <th>Terry Stop ID</th>\n",
       "      <th>Stop Resolution</th>\n",
       "      <th>Weapon Type</th>\n",
       "      <th>Officer YOB</th>\n",
       "      <th>Reported Date</th>\n",
       "      <th>Reported Time</th>\n",
       "      <th>Arrest Flag</th>\n",
       "      <th>Frisk Flag</th>\n",
       "      <th>Precinct</th>\n",
       "    </tr>\n",
       "  </thead>\n",
       "  <tbody>\n",
       "    <tr>\n",
       "      <th>0</th>\n",
       "      <td>-</td>\n",
       "      <td>32023419019</td>\n",
       "      <td>Field Contact</td>\n",
       "      <td>-</td>\n",
       "      <td>1973</td>\n",
       "      <td>2022-03-14T00:00:00Z</td>\n",
       "      <td>09:34:02.0000000</td>\n",
       "      <td>N</td>\n",
       "      <td>Y</td>\n",
       "      <td>West</td>\n",
       "    </tr>\n",
       "    <tr>\n",
       "      <th>1</th>\n",
       "      <td>-</td>\n",
       "      <td>35877423282</td>\n",
       "      <td>Field Contact</td>\n",
       "      <td>-</td>\n",
       "      <td>1988</td>\n",
       "      <td>2022-09-02T00:00:00Z</td>\n",
       "      <td>19:20:16.0000000</td>\n",
       "      <td>N</td>\n",
       "      <td>Y</td>\n",
       "      <td>South</td>\n",
       "    </tr>\n",
       "    <tr>\n",
       "      <th>2</th>\n",
       "      <td>-</td>\n",
       "      <td>92317</td>\n",
       "      <td>Arrest</td>\n",
       "      <td>None</td>\n",
       "      <td>1984</td>\n",
       "      <td>2015-10-16T00:00:00Z</td>\n",
       "      <td>11:32:00.0000000</td>\n",
       "      <td>N</td>\n",
       "      <td>N</td>\n",
       "      <td>South</td>\n",
       "    </tr>\n",
       "    <tr>\n",
       "      <th>3</th>\n",
       "      <td>-</td>\n",
       "      <td>28806</td>\n",
       "      <td>Field Contact</td>\n",
       "      <td>None</td>\n",
       "      <td>1965</td>\n",
       "      <td>2015-03-19T00:00:00Z</td>\n",
       "      <td>07:59:00.0000000</td>\n",
       "      <td>N</td>\n",
       "      <td>N</td>\n",
       "      <td>-</td>\n",
       "    </tr>\n",
       "    <tr>\n",
       "      <th>4</th>\n",
       "      <td>-</td>\n",
       "      <td>29599</td>\n",
       "      <td>Field Contact</td>\n",
       "      <td>None</td>\n",
       "      <td>1961</td>\n",
       "      <td>2015-03-21T00:00:00Z</td>\n",
       "      <td>19:12:00.0000000</td>\n",
       "      <td>N</td>\n",
       "      <td>-</td>\n",
       "      <td>-</td>\n",
       "    </tr>\n",
       "    <tr>\n",
       "      <th>...</th>\n",
       "      <td>...</td>\n",
       "      <td>...</td>\n",
       "      <td>...</td>\n",
       "      <td>...</td>\n",
       "      <td>...</td>\n",
       "      <td>...</td>\n",
       "      <td>...</td>\n",
       "      <td>...</td>\n",
       "      <td>...</td>\n",
       "      <td>...</td>\n",
       "    </tr>\n",
       "    <tr>\n",
       "      <th>53649</th>\n",
       "      <td>56 and Above</td>\n",
       "      <td>35908320953</td>\n",
       "      <td>Field Contact</td>\n",
       "      <td>-</td>\n",
       "      <td>1977</td>\n",
       "      <td>2022-09-07T00:00:00Z</td>\n",
       "      <td>04:11:19.0000000</td>\n",
       "      <td>N</td>\n",
       "      <td>N</td>\n",
       "      <td>West</td>\n",
       "    </tr>\n",
       "    <tr>\n",
       "      <th>53650</th>\n",
       "      <td>56 and Above</td>\n",
       "      <td>36244016178</td>\n",
       "      <td>Arrest</td>\n",
       "      <td>-</td>\n",
       "      <td>1996</td>\n",
       "      <td>2022-09-12T00:00:00Z</td>\n",
       "      <td>01:53:14.0000000</td>\n",
       "      <td>Y</td>\n",
       "      <td>N</td>\n",
       "      <td>East</td>\n",
       "    </tr>\n",
       "    <tr>\n",
       "      <th>53651</th>\n",
       "      <td>56 and Above</td>\n",
       "      <td>36541078424</td>\n",
       "      <td>Field Contact</td>\n",
       "      <td>-</td>\n",
       "      <td>1973</td>\n",
       "      <td>2022-09-19T00:00:00Z</td>\n",
       "      <td>12:57:21.0000000</td>\n",
       "      <td>N</td>\n",
       "      <td>N</td>\n",
       "      <td>West</td>\n",
       "    </tr>\n",
       "    <tr>\n",
       "      <th>53652</th>\n",
       "      <td>56 and Above</td>\n",
       "      <td>36545507606</td>\n",
       "      <td>Field Contact</td>\n",
       "      <td>-</td>\n",
       "      <td>1978</td>\n",
       "      <td>2022-09-20T00:00:00Z</td>\n",
       "      <td>02:33:21.0000000</td>\n",
       "      <td>N</td>\n",
       "      <td>N</td>\n",
       "      <td>North</td>\n",
       "    </tr>\n",
       "    <tr>\n",
       "      <th>53653</th>\n",
       "      <td>56 and Above</td>\n",
       "      <td>37030461857</td>\n",
       "      <td>Field Contact</td>\n",
       "      <td>-</td>\n",
       "      <td>1995</td>\n",
       "      <td>2022-09-29T00:00:00Z</td>\n",
       "      <td>23:21:54.0000000</td>\n",
       "      <td>N</td>\n",
       "      <td>N</td>\n",
       "      <td>West</td>\n",
       "    </tr>\n",
       "  </tbody>\n",
       "</table>\n",
       "<p>53654 rows × 10 columns</p>\n",
       "</div>"
      ],
      "text/plain": [
       "      Subject Age Group  Terry Stop ID Stop Resolution Weapon Type  \\\n",
       "0                     -    32023419019   Field Contact           -   \n",
       "1                     -    35877423282   Field Contact           -   \n",
       "2                     -          92317          Arrest        None   \n",
       "3                     -          28806   Field Contact        None   \n",
       "4                     -          29599   Field Contact        None   \n",
       "...                 ...            ...             ...         ...   \n",
       "53649      56 and Above    35908320953   Field Contact           -   \n",
       "53650      56 and Above    36244016178          Arrest           -   \n",
       "53651      56 and Above    36541078424   Field Contact           -   \n",
       "53652      56 and Above    36545507606   Field Contact           -   \n",
       "53653      56 and Above    37030461857   Field Contact           -   \n",
       "\n",
       "       Officer YOB         Reported Date     Reported Time Arrest Flag  \\\n",
       "0             1973  2022-03-14T00:00:00Z  09:34:02.0000000           N   \n",
       "1             1988  2022-09-02T00:00:00Z  19:20:16.0000000           N   \n",
       "2             1984  2015-10-16T00:00:00Z  11:32:00.0000000           N   \n",
       "3             1965  2015-03-19T00:00:00Z  07:59:00.0000000           N   \n",
       "4             1961  2015-03-21T00:00:00Z  19:12:00.0000000           N   \n",
       "...            ...                   ...               ...         ...   \n",
       "53649         1977  2022-09-07T00:00:00Z  04:11:19.0000000           N   \n",
       "53650         1996  2022-09-12T00:00:00Z  01:53:14.0000000           Y   \n",
       "53651         1973  2022-09-19T00:00:00Z  12:57:21.0000000           N   \n",
       "53652         1978  2022-09-20T00:00:00Z  02:33:21.0000000           N   \n",
       "53653         1995  2022-09-29T00:00:00Z  23:21:54.0000000           N   \n",
       "\n",
       "      Frisk Flag Precinct  \n",
       "0              Y     West  \n",
       "1              Y    South  \n",
       "2              N    South  \n",
       "3              N        -  \n",
       "4              -        -  \n",
       "...          ...      ...  \n",
       "53649          N     West  \n",
       "53650          N     East  \n",
       "53651          N     West  \n",
       "53652          N    North  \n",
       "53653          N     West  \n",
       "\n",
       "[53654 rows x 10 columns]"
      ]
     },
     "execution_count": 27,
     "metadata": {},
     "output_type": "execute_result"
    }
   ],
   "source": [
    "relevant_columns=['Subject Age Group', 'Terry Stop ID','Stop Resolution', 'Weapon Type', 'Officer YOB', \n",
    "                   'Reported Date', 'Reported Time', 'Arrest Flag', 'Frisk Flag', 'Precinct']\n",
    "terry_stops = data[relevant_columns]\n",
    "terry_stops"
   ]
  },
  {
   "cell_type": "code",
   "execution_count": 28,
   "metadata": {
    "scrolled": true
   },
   "outputs": [
    {
     "data": {
      "text/plain": [
       "73"
      ]
     },
     "execution_count": 28,
     "metadata": {},
     "output_type": "execute_result"
    }
   ],
   "source": [
    "terry_stops['Terry Stop ID'].duplicated().sum()"
   ]
  },
  {
   "cell_type": "code",
   "execution_count": 29,
   "metadata": {},
   "outputs": [
    {
     "data": {
      "text/plain": [
       "0"
      ]
     },
     "execution_count": 29,
     "metadata": {},
     "output_type": "execute_result"
    }
   ],
   "source": [
    "#we removed duplicated rows\n",
    "terry_stops = terry_stops.drop_duplicates(subset='Terry Stop ID', keep='first')\n",
    "terry_stops['Terry Stop ID'].duplicated().sum()"
   ]
  },
  {
   "cell_type": "markdown",
   "metadata": {},
   "source": [
    "### Uniformity"
   ]
  },
  {
   "cell_type": "code",
   "execution_count": 30,
   "metadata": {
    "scrolled": true
   },
   "outputs": [
    {
     "data": {
      "text/html": [
       "<div>\n",
       "<style scoped>\n",
       "    .dataframe tbody tr th:only-of-type {\n",
       "        vertical-align: middle;\n",
       "    }\n",
       "\n",
       "    .dataframe tbody tr th {\n",
       "        vertical-align: top;\n",
       "    }\n",
       "\n",
       "    .dataframe thead th {\n",
       "        text-align: right;\n",
       "    }\n",
       "</style>\n",
       "<table border=\"1\" class=\"dataframe\">\n",
       "  <thead>\n",
       "    <tr style=\"text-align: right;\">\n",
       "      <th></th>\n",
       "      <th>subject_age_group</th>\n",
       "      <th>terry_stop_id</th>\n",
       "      <th>stop_resolution</th>\n",
       "      <th>weapon_type</th>\n",
       "      <th>officer_yob</th>\n",
       "      <th>reported_date</th>\n",
       "      <th>reported_time</th>\n",
       "      <th>arrest_flag</th>\n",
       "      <th>frisk_flag</th>\n",
       "      <th>precinct</th>\n",
       "    </tr>\n",
       "  </thead>\n",
       "  <tbody>\n",
       "    <tr>\n",
       "      <th>0</th>\n",
       "      <td>-</td>\n",
       "      <td>32023419019</td>\n",
       "      <td>Field Contact</td>\n",
       "      <td>-</td>\n",
       "      <td>1973</td>\n",
       "      <td>2022-03-14T00:00:00Z</td>\n",
       "      <td>09:34:02.0000000</td>\n",
       "      <td>N</td>\n",
       "      <td>Y</td>\n",
       "      <td>West</td>\n",
       "    </tr>\n",
       "    <tr>\n",
       "      <th>1</th>\n",
       "      <td>-</td>\n",
       "      <td>35877423282</td>\n",
       "      <td>Field Contact</td>\n",
       "      <td>-</td>\n",
       "      <td>1988</td>\n",
       "      <td>2022-09-02T00:00:00Z</td>\n",
       "      <td>19:20:16.0000000</td>\n",
       "      <td>N</td>\n",
       "      <td>Y</td>\n",
       "      <td>South</td>\n",
       "    </tr>\n",
       "    <tr>\n",
       "      <th>2</th>\n",
       "      <td>-</td>\n",
       "      <td>92317</td>\n",
       "      <td>Arrest</td>\n",
       "      <td>None</td>\n",
       "      <td>1984</td>\n",
       "      <td>2015-10-16T00:00:00Z</td>\n",
       "      <td>11:32:00.0000000</td>\n",
       "      <td>N</td>\n",
       "      <td>N</td>\n",
       "      <td>South</td>\n",
       "    </tr>\n",
       "    <tr>\n",
       "      <th>3</th>\n",
       "      <td>-</td>\n",
       "      <td>28806</td>\n",
       "      <td>Field Contact</td>\n",
       "      <td>None</td>\n",
       "      <td>1965</td>\n",
       "      <td>2015-03-19T00:00:00Z</td>\n",
       "      <td>07:59:00.0000000</td>\n",
       "      <td>N</td>\n",
       "      <td>N</td>\n",
       "      <td>-</td>\n",
       "    </tr>\n",
       "    <tr>\n",
       "      <th>4</th>\n",
       "      <td>-</td>\n",
       "      <td>29599</td>\n",
       "      <td>Field Contact</td>\n",
       "      <td>None</td>\n",
       "      <td>1961</td>\n",
       "      <td>2015-03-21T00:00:00Z</td>\n",
       "      <td>19:12:00.0000000</td>\n",
       "      <td>N</td>\n",
       "      <td>-</td>\n",
       "      <td>-</td>\n",
       "    </tr>\n",
       "    <tr>\n",
       "      <th>...</th>\n",
       "      <td>...</td>\n",
       "      <td>...</td>\n",
       "      <td>...</td>\n",
       "      <td>...</td>\n",
       "      <td>...</td>\n",
       "      <td>...</td>\n",
       "      <td>...</td>\n",
       "      <td>...</td>\n",
       "      <td>...</td>\n",
       "      <td>...</td>\n",
       "    </tr>\n",
       "    <tr>\n",
       "      <th>53649</th>\n",
       "      <td>56 and Above</td>\n",
       "      <td>35908320953</td>\n",
       "      <td>Field Contact</td>\n",
       "      <td>-</td>\n",
       "      <td>1977</td>\n",
       "      <td>2022-09-07T00:00:00Z</td>\n",
       "      <td>04:11:19.0000000</td>\n",
       "      <td>N</td>\n",
       "      <td>N</td>\n",
       "      <td>West</td>\n",
       "    </tr>\n",
       "    <tr>\n",
       "      <th>53650</th>\n",
       "      <td>56 and Above</td>\n",
       "      <td>36244016178</td>\n",
       "      <td>Arrest</td>\n",
       "      <td>-</td>\n",
       "      <td>1996</td>\n",
       "      <td>2022-09-12T00:00:00Z</td>\n",
       "      <td>01:53:14.0000000</td>\n",
       "      <td>Y</td>\n",
       "      <td>N</td>\n",
       "      <td>East</td>\n",
       "    </tr>\n",
       "    <tr>\n",
       "      <th>53651</th>\n",
       "      <td>56 and Above</td>\n",
       "      <td>36541078424</td>\n",
       "      <td>Field Contact</td>\n",
       "      <td>-</td>\n",
       "      <td>1973</td>\n",
       "      <td>2022-09-19T00:00:00Z</td>\n",
       "      <td>12:57:21.0000000</td>\n",
       "      <td>N</td>\n",
       "      <td>N</td>\n",
       "      <td>West</td>\n",
       "    </tr>\n",
       "    <tr>\n",
       "      <th>53652</th>\n",
       "      <td>56 and Above</td>\n",
       "      <td>36545507606</td>\n",
       "      <td>Field Contact</td>\n",
       "      <td>-</td>\n",
       "      <td>1978</td>\n",
       "      <td>2022-09-20T00:00:00Z</td>\n",
       "      <td>02:33:21.0000000</td>\n",
       "      <td>N</td>\n",
       "      <td>N</td>\n",
       "      <td>North</td>\n",
       "    </tr>\n",
       "    <tr>\n",
       "      <th>53653</th>\n",
       "      <td>56 and Above</td>\n",
       "      <td>37030461857</td>\n",
       "      <td>Field Contact</td>\n",
       "      <td>-</td>\n",
       "      <td>1995</td>\n",
       "      <td>2022-09-29T00:00:00Z</td>\n",
       "      <td>23:21:54.0000000</td>\n",
       "      <td>N</td>\n",
       "      <td>N</td>\n",
       "      <td>West</td>\n",
       "    </tr>\n",
       "  </tbody>\n",
       "</table>\n",
       "<p>53581 rows × 10 columns</p>\n",
       "</div>"
      ],
      "text/plain": [
       "      subject_age_group  terry_stop_id stop_resolution weapon_type  \\\n",
       "0                     -    32023419019   Field Contact           -   \n",
       "1                     -    35877423282   Field Contact           -   \n",
       "2                     -          92317          Arrest        None   \n",
       "3                     -          28806   Field Contact        None   \n",
       "4                     -          29599   Field Contact        None   \n",
       "...                 ...            ...             ...         ...   \n",
       "53649      56 and Above    35908320953   Field Contact           -   \n",
       "53650      56 and Above    36244016178          Arrest           -   \n",
       "53651      56 and Above    36541078424   Field Contact           -   \n",
       "53652      56 and Above    36545507606   Field Contact           -   \n",
       "53653      56 and Above    37030461857   Field Contact           -   \n",
       "\n",
       "       officer_yob         reported_date     reported_time arrest_flag  \\\n",
       "0             1973  2022-03-14T00:00:00Z  09:34:02.0000000           N   \n",
       "1             1988  2022-09-02T00:00:00Z  19:20:16.0000000           N   \n",
       "2             1984  2015-10-16T00:00:00Z  11:32:00.0000000           N   \n",
       "3             1965  2015-03-19T00:00:00Z  07:59:00.0000000           N   \n",
       "4             1961  2015-03-21T00:00:00Z  19:12:00.0000000           N   \n",
       "...            ...                   ...               ...         ...   \n",
       "53649         1977  2022-09-07T00:00:00Z  04:11:19.0000000           N   \n",
       "53650         1996  2022-09-12T00:00:00Z  01:53:14.0000000           Y   \n",
       "53651         1973  2022-09-19T00:00:00Z  12:57:21.0000000           N   \n",
       "53652         1978  2022-09-20T00:00:00Z  02:33:21.0000000           N   \n",
       "53653         1995  2022-09-29T00:00:00Z  23:21:54.0000000           N   \n",
       "\n",
       "      frisk_flag precinct  \n",
       "0              Y     West  \n",
       "1              Y    South  \n",
       "2              N    South  \n",
       "3              N        -  \n",
       "4              -        -  \n",
       "...          ...      ...  \n",
       "53649          N     West  \n",
       "53650          N     East  \n",
       "53651          N     West  \n",
       "53652          N    North  \n",
       "53653          N     West  \n",
       "\n",
       "[53581 rows x 10 columns]"
      ]
     },
     "execution_count": 30,
     "metadata": {},
     "output_type": "execute_result"
    }
   ],
   "source": [
    "terry_stops.columns = terry_stops.columns.str.replace(\" \", \"_\")\n",
    "\n",
    "terry_stops= terry_stops.rename(columns=str.lower)\n",
    "\n",
    "terry_stops\n"
   ]
  },
  {
   "cell_type": "code",
   "execution_count": 31,
   "metadata": {},
   "outputs": [],
   "source": [
    "#creating a new column for officer age\n",
    "terry_stops['officer_age']= 2022- terry_stops['officer_yob']\n",
    "#drop the column for officer year of birth\n",
    "terry_stops.drop('officer_yob', axis=1, inplace=True)"
   ]
  },
  {
   "cell_type": "markdown",
   "metadata": {},
   "source": [
    "### Completeness"
   ]
  },
  {
   "cell_type": "code",
   "execution_count": 32,
   "metadata": {},
   "outputs": [
    {
     "data": {
      "text/plain": [
       "26 - 35         17906\n",
       "36 - 45         11617\n",
       "18 - 25         10496\n",
       "46 - 55          6881\n",
       "56 and Above     2777\n",
       "1 - 17           2079\n",
       "Unknown          1825\n",
       "Name: subject_age_group, dtype: int64"
      ]
     },
     "execution_count": 32,
     "metadata": {},
     "output_type": "execute_result"
    }
   ],
   "source": [
    "#we replaced blanks with 'unknown'\n",
    "terry_stops['subject_age_group'].replace({'-': 'Unknown'}, inplace=True)\n",
    "terry_stops['subject_age_group'].value_counts()"
   ]
  },
  {
   "cell_type": "code",
   "execution_count": 33,
   "metadata": {},
   "outputs": [
    {
     "data": {
      "text/plain": [
       "0            March\n",
       "1        September\n",
       "2          October\n",
       "3            March\n",
       "4            March\n",
       "           ...    \n",
       "53649    September\n",
       "53650    September\n",
       "53651    September\n",
       "53652    September\n",
       "53653    September\n",
       "Name: reported_date, Length: 53581, dtype: object"
      ]
     },
     "execution_count": 33,
     "metadata": {},
     "output_type": "execute_result"
    }
   ],
   "source": [
    "terry_stops['reported_date']= terry_stops['reported_date'].apply(lambda x:x[:10])\n",
    "\n",
    "terry_stops['reported_date'] = pd.to_datetime(terry_stops['reported_date'])\n",
    "\n",
    "terry_stops['reported_date'] = pd.DatetimeIndex(terry_stops['reported_date']).month\n",
    "\n",
    "terry_stops['reported_date'].replace(\n",
    "        {1: 'January', 2:'February', 3:'March', 4:'April', 5:'May', 6:'June', 7:'July', 8:'August', 9:'September',\n",
    "        10:'October', 11:'November', 12:'December'\n",
    "        }, inplace = True)\n",
    "terry_stops['reported_date']\n"
   ]
  },
  {
   "cell_type": "code",
   "execution_count": 34,
   "metadata": {},
   "outputs": [],
   "source": [
    "terry_stops['reported_time']= terry_stops['reported_time'].apply(lambda x:x[:2])\n",
    "terry_stops['reported_time']= terry_stops['reported_time'].astype('int')"
   ]
  },
  {
   "cell_type": "code",
   "execution_count": 35,
   "metadata": {},
   "outputs": [],
   "source": [
    "terry_stops['reported_time'].replace(\n",
    "        {1: 'Night', 2:'Night', 3:'Night', 4:'Night', 5:'Night', 6:'Night', 7:'Day', 8:'Day', 9:'Day',\n",
    "        10:'Day', 11:'Day', 12:'Day', 13:'Day', 14:'Day', 15:'Day', 16:'Day', 17:'Day',\n",
    "        18:'Day', 19:'Night', 20:'Night', 21:'Night', 22:'Night', 23:'Night', 24:'Night', 0:'Night'\n",
    "        }, inplace = True)"
   ]
  },
  {
   "cell_type": "code",
   "execution_count": 36,
   "metadata": {
    "scrolled": true
   },
   "outputs": [
    {
     "name": "stdout",
     "output_type": "stream",
     "text": [
      "<class 'pandas.core.frame.DataFrame'>\n",
      "Int64Index: 53581 entries, 0 to 53653\n",
      "Data columns (total 10 columns):\n",
      " #   Column             Non-Null Count  Dtype \n",
      "---  ------             --------------  ----- \n",
      " 0   subject_age_group  53581 non-null  object\n",
      " 1   terry_stop_id      53581 non-null  int64 \n",
      " 2   stop_resolution    53581 non-null  object\n",
      " 3   weapon_type        53581 non-null  object\n",
      " 4   reported_date      53581 non-null  object\n",
      " 5   reported_time      53581 non-null  object\n",
      " 6   arrest_flag        53581 non-null  object\n",
      " 7   frisk_flag         53581 non-null  object\n",
      " 8   precinct           53581 non-null  object\n",
      " 9   officer_age        53581 non-null  int64 \n",
      "dtypes: int64(2), object(8)\n",
      "memory usage: 4.5+ MB\n"
     ]
    }
   ],
   "source": [
    "terry_stops.info()"
   ]
  },
  {
   "cell_type": "code",
   "execution_count": 37,
   "metadata": {},
   "outputs": [
    {
     "data": {
      "text/plain": [
       "None           50375\n",
       "Non-Firearm     2642\n",
       "Firearm          564\n",
       "Name: weapon_type, dtype: int64"
      ]
     },
     "execution_count": 37,
     "metadata": {},
     "output_type": "execute_result"
    }
   ],
   "source": [
    "terry_stops['weapon_type'].replace({'-' : 'None', 'Lethal Cutting Instrument': 'Non-Firearm','Knife/Cutting/Stabbing Instrument': 'Non-Firearm', 'Handgun' : 'Firearm', 'Blunt Object/Striking Implement': 'Non-Firearm',\n",
    "                          'Firearm Other':'Firearm', 'Club, Blackjack, Brass Knuckles': 'Non-Firearm', 'Mace/Pepper Spray': 'Non-Firearm',\n",
    "                          'Other Firearm': 'Firearm', 'Firearm (unk type)':'Firearm', 'Taser/Stun Gun':'Non-Firearm', 'Fire/Incendiary Device':'Non-Firearm',\n",
    "                          'None/Not Applicable':'None', 'Club':'Non-Firearm', 'Rifle':'Firearm', 'Shotgun':'Firearm', 'Automatic Handgun':'Firearm',\n",
    "                          'Personal Weapons (hands, feet, etc.)':'Non-Firearm', 'Brass Knuckles':'Non-Firearm', 'Blackjack':'Non-Firearm' }, inplace = True)\n",
    "terry_stops['weapon_type'].value_counts()"
   ]
  },
  {
   "cell_type": "code",
   "execution_count": 38,
   "metadata": {},
   "outputs": [],
   "source": [
    "# # we replaced \n",
    "# terry_stops['weapon_type'].replace({'-': 'None', 'None/Not Applicable':'None', \n",
    "#                                     'Personal Weapons (hands, feet, etc.)': 'None'}, inplace=True)\n",
    "# terry_stops['weapon_type'].value_counts()"
   ]
  },
  {
   "cell_type": "code",
   "execution_count": null,
   "metadata": {},
   "outputs": [],
   "source": []
  }
 ],
 "metadata": {
  "kernelspec": {
   "display_name": "Python 3",
   "language": "python",
   "name": "python3"
  },
  "language_info": {
   "codemirror_mode": {
    "name": "ipython",
    "version": 3
   },
   "file_extension": ".py",
   "mimetype": "text/x-python",
   "name": "python",
   "nbconvert_exporter": "python",
   "pygments_lexer": "ipython3",
   "version": "3.8.5"
  }
 },
 "nbformat": 4,
 "nbformat_minor": 2
}
