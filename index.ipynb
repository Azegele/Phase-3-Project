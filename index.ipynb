{
 "cells": [
  {
   "cell_type": "markdown",
   "metadata": {},
   "source": [
    "## Business Understanding\n",
    "### Overview\n",
    "Traffic stops usually create a feeling of anxiety in drivers, especially when the driver doesn’t know why he or she was pulled over and then starts getting questioned by the police. Even more disturbing is if the police begin to search the vehicle. It’s not uncommon for police in these situations to cite the “Terry Rule” as justification for the illegal search and questioning.\n",
    "The Terry Rule:\n",
    "The Terry Rule, also referred to as the Terry Stop or Terry Search is another term for a stop and frisk. The name comes from the U.S Supreme Court case Terry v. Ohio which determined that when a police officer has a reasonable suspicion, he or she can temporarily question and detain drivers or passengers, even without an arrest, in a public place for a reasonable amount of time. A Terry Stop is considered a seizure under the Fourth Amendment and should only happen when the officer has reasonable suspicion and/or the occupant(s) has attempted to flee the officer. In order for police to conduct a search under the Terry Rule, the person stopped must be a valid suspect. That means the officer cannot conduct a stop for no reason.  The officer must have reasonable suspicion for conducting the stop.\n",
    "### Problem Statement\n",
    "The stakeholders for this project are the Public and the Law Enforcement Agencies.\n",
    "Terry Rule has had a fair share of support and criticism from the public. On the positive side, Terry Stops have been seen as life savers as police officers can quickly stop a criminal before taking part in a crime.\n",
    "Unfortunately, the rule has also received significant criticism, for example, the Terry Stops have also been criticized on the grounds of racial discrimination against minority communities.\n",
    " In a recent case, Floyd v. City of New York 813 F. Supp.2d 417 (2011), the court held the New York stop-and-frisk policy violated the Fourth Amendment because it rendered stop-and-frisks more frequent for blacks and Hispanics.\n",
    "Second, this rule has also been criticized as many stop-and-frisks have not led to arrests. This may mean that police officers only conduct stop-and-frisk based on mere suspicion and not reasonable suspicion.\n",
    "### Objectives\n",
    "General Objective\n",
    "The objective of this project, therefore, is to build a classifier to see which factors mostly define whether an individual’s stop-and-frisk will lead to an arrest. The project is aimed to bring harmony between the public and law enforcement. A classifier that will lead to higher arrest accuracy will mean that law enforcement will be able to arrest only possible criminals and not disrupt law-abiding citizens.\n",
    "Specific Objectives\n",
    "1. To investigate what factors that highly influence  a Terry Stop arrests.\n",
    "3. To find out whether Terry Stops are biased towards minority groups.\n",
    "1.4 Research Questions\n",
    "Which model best has the highest F1 score for Terry Stops?\n",
    "What factors would highly result to a person being stoped, frisked, and  arrested after a Terry Stop?\n",
    "Are Terry Stops biased towards minority groups?"
   ]
  },
  {
   "cell_type": "markdown",
   "metadata": {},
   "source": [
    "## Data Understanding"
   ]
  },
  {
   "cell_type": "code",
   "execution_count": 90,
   "metadata": {},
   "outputs": [],
   "source": [
    "#Importing Libraries\n",
    "import pandas as pd \n",
    "import numpy as np\n",
    "import seaborn as sns\n",
    "import matplotlib.pyplot as plt\n",
    "%matplotlib inline\n",
    "#Supress Warnings\n",
    "import warnings\n",
    "warnings.filterwarnings('ignore')\n",
    "# Libraries for machine learning modeling & confusion matrices\n",
    "from sklearn.model_selection import train_test_split,cross_val_score\n",
    "from sklearn.preprocessing import OneHotEncoder, MinMaxScaler\n",
    "from sklearn.metrics import accuracy_score,confusion_matrix,roc_curve, auc, f1_score, classification_report, mean_squared_error, plot_confusion_matrix\n",
    "from sklearn.linear_model import LogisticRegression\n",
    "from sklearn.ensemble import ExtraTreesClassifier,RandomForestClassifier\n",
    "from sklearn.tree import DecisionTreeClassifier \n",
    "from sklearn.neighbors  import KNeighborsClassifier\n",
    "from xgboost import XGBClassifier\n",
    "from sklearn.model_selection import GridSearchCV, cross_validate\n",
    "from imblearn.over_sampling import SMOTENC"
   ]
  },
  {
   "cell_type": "markdown",
   "metadata": {},
   "source": [
    "### Data Description"
   ]
  },
  {
   "cell_type": "code",
   "execution_count": 2,
   "metadata": {},
   "outputs": [
    {
     "data": {
      "text/html": [
       "<div>\n",
       "<style scoped>\n",
       "    .dataframe tbody tr th:only-of-type {\n",
       "        vertical-align: middle;\n",
       "    }\n",
       "\n",
       "    .dataframe tbody tr th {\n",
       "        vertical-align: top;\n",
       "    }\n",
       "\n",
       "    .dataframe thead th {\n",
       "        text-align: right;\n",
       "    }\n",
       "</style>\n",
       "<table border=\"1\" class=\"dataframe\">\n",
       "  <thead>\n",
       "    <tr style=\"text-align: right;\">\n",
       "      <th></th>\n",
       "      <th>Subject Age Group</th>\n",
       "      <th>Subject ID</th>\n",
       "      <th>GO / SC Num</th>\n",
       "      <th>Terry Stop ID</th>\n",
       "      <th>Stop Resolution</th>\n",
       "      <th>Weapon Type</th>\n",
       "      <th>Officer ID</th>\n",
       "      <th>Officer YOB</th>\n",
       "      <th>Officer Gender</th>\n",
       "      <th>Officer Race</th>\n",
       "      <th>...</th>\n",
       "      <th>Reported Time</th>\n",
       "      <th>Initial Call Type</th>\n",
       "      <th>Final Call Type</th>\n",
       "      <th>Call Type</th>\n",
       "      <th>Officer Squad</th>\n",
       "      <th>Arrest Flag</th>\n",
       "      <th>Frisk Flag</th>\n",
       "      <th>Precinct</th>\n",
       "      <th>Sector</th>\n",
       "      <th>Beat</th>\n",
       "    </tr>\n",
       "  </thead>\n",
       "  <tbody>\n",
       "    <tr>\n",
       "      <th>0</th>\n",
       "      <td>-</td>\n",
       "      <td>-8</td>\n",
       "      <td>20220000063036</td>\n",
       "      <td>32023419019</td>\n",
       "      <td>Field Contact</td>\n",
       "      <td>-</td>\n",
       "      <td>6805</td>\n",
       "      <td>1973</td>\n",
       "      <td>M</td>\n",
       "      <td>White</td>\n",
       "      <td>...</td>\n",
       "      <td>09:34:02.0000000</td>\n",
       "      <td>SUSPICIOUS STOP - OFFICER INITIATED ONVIEW</td>\n",
       "      <td>--SUSPICIOUS CIRCUM. - SUSPICIOUS PERSON</td>\n",
       "      <td>ONVIEW</td>\n",
       "      <td>WEST PCT 1ST W - KQ/DM RELIEF</td>\n",
       "      <td>N</td>\n",
       "      <td>Y</td>\n",
       "      <td>West</td>\n",
       "      <td>K</td>\n",
       "      <td>K3</td>\n",
       "    </tr>\n",
       "    <tr>\n",
       "      <th>1</th>\n",
       "      <td>-</td>\n",
       "      <td>-8</td>\n",
       "      <td>20220000233868</td>\n",
       "      <td>35877423282</td>\n",
       "      <td>Field Contact</td>\n",
       "      <td>-</td>\n",
       "      <td>8881</td>\n",
       "      <td>1988</td>\n",
       "      <td>M</td>\n",
       "      <td>Asian</td>\n",
       "      <td>...</td>\n",
       "      <td>19:20:16.0000000</td>\n",
       "      <td>THREATS (INCLS IN-PERSON/BY PHONE/IN WRITING)</td>\n",
       "      <td>--DISTURBANCE - OTHER</td>\n",
       "      <td>911</td>\n",
       "      <td>TRAINING - FIELD TRAINING SQUAD</td>\n",
       "      <td>N</td>\n",
       "      <td>Y</td>\n",
       "      <td>South</td>\n",
       "      <td>O</td>\n",
       "      <td>O1</td>\n",
       "    </tr>\n",
       "    <tr>\n",
       "      <th>2</th>\n",
       "      <td>-</td>\n",
       "      <td>-1</td>\n",
       "      <td>20140000120677</td>\n",
       "      <td>92317</td>\n",
       "      <td>Arrest</td>\n",
       "      <td>None</td>\n",
       "      <td>7500</td>\n",
       "      <td>1984</td>\n",
       "      <td>M</td>\n",
       "      <td>Black or African American</td>\n",
       "      <td>...</td>\n",
       "      <td>11:32:00.0000000</td>\n",
       "      <td>-</td>\n",
       "      <td>-</td>\n",
       "      <td>-</td>\n",
       "      <td>SOUTH PCT 1ST W - ROBERT</td>\n",
       "      <td>N</td>\n",
       "      <td>N</td>\n",
       "      <td>South</td>\n",
       "      <td>O</td>\n",
       "      <td>O2</td>\n",
       "    </tr>\n",
       "    <tr>\n",
       "      <th>3</th>\n",
       "      <td>-</td>\n",
       "      <td>-1</td>\n",
       "      <td>20150000001463</td>\n",
       "      <td>28806</td>\n",
       "      <td>Field Contact</td>\n",
       "      <td>None</td>\n",
       "      <td>5670</td>\n",
       "      <td>1965</td>\n",
       "      <td>M</td>\n",
       "      <td>White</td>\n",
       "      <td>...</td>\n",
       "      <td>07:59:00.0000000</td>\n",
       "      <td>-</td>\n",
       "      <td>-</td>\n",
       "      <td>-</td>\n",
       "      <td>NaN</td>\n",
       "      <td>N</td>\n",
       "      <td>N</td>\n",
       "      <td>-</td>\n",
       "      <td>-</td>\n",
       "      <td>-</td>\n",
       "    </tr>\n",
       "    <tr>\n",
       "      <th>4</th>\n",
       "      <td>-</td>\n",
       "      <td>-1</td>\n",
       "      <td>20150000001516</td>\n",
       "      <td>29599</td>\n",
       "      <td>Field Contact</td>\n",
       "      <td>None</td>\n",
       "      <td>4844</td>\n",
       "      <td>1961</td>\n",
       "      <td>M</td>\n",
       "      <td>White</td>\n",
       "      <td>...</td>\n",
       "      <td>19:12:00.0000000</td>\n",
       "      <td>-</td>\n",
       "      <td>-</td>\n",
       "      <td>-</td>\n",
       "      <td>NaN</td>\n",
       "      <td>N</td>\n",
       "      <td>-</td>\n",
       "      <td>-</td>\n",
       "      <td>-</td>\n",
       "      <td>-</td>\n",
       "    </tr>\n",
       "    <tr>\n",
       "      <th>...</th>\n",
       "      <td>...</td>\n",
       "      <td>...</td>\n",
       "      <td>...</td>\n",
       "      <td>...</td>\n",
       "      <td>...</td>\n",
       "      <td>...</td>\n",
       "      <td>...</td>\n",
       "      <td>...</td>\n",
       "      <td>...</td>\n",
       "      <td>...</td>\n",
       "      <td>...</td>\n",
       "      <td>...</td>\n",
       "      <td>...</td>\n",
       "      <td>...</td>\n",
       "      <td>...</td>\n",
       "      <td>...</td>\n",
       "      <td>...</td>\n",
       "      <td>...</td>\n",
       "      <td>...</td>\n",
       "      <td>...</td>\n",
       "      <td>...</td>\n",
       "    </tr>\n",
       "    <tr>\n",
       "      <th>53649</th>\n",
       "      <td>56 and Above</td>\n",
       "      <td>35908211663</td>\n",
       "      <td>20220000238170</td>\n",
       "      <td>35908320953</td>\n",
       "      <td>Field Contact</td>\n",
       "      <td>-</td>\n",
       "      <td>8889</td>\n",
       "      <td>1977</td>\n",
       "      <td>M</td>\n",
       "      <td>White</td>\n",
       "      <td>...</td>\n",
       "      <td>04:11:19.0000000</td>\n",
       "      <td>DISTURBANCE, MISCELLANEOUS/OTHER</td>\n",
       "      <td>DISTURBANCE, MISCELLANEOUS/OTHER</td>\n",
       "      <td>911</td>\n",
       "      <td>TRAINING - FIELD TRAINING SQUAD</td>\n",
       "      <td>N</td>\n",
       "      <td>N</td>\n",
       "      <td>West</td>\n",
       "      <td>Q</td>\n",
       "      <td>Q3</td>\n",
       "    </tr>\n",
       "    <tr>\n",
       "      <th>53650</th>\n",
       "      <td>56 and Above</td>\n",
       "      <td>36244081163</td>\n",
       "      <td>20220000243193</td>\n",
       "      <td>36244016178</td>\n",
       "      <td>Arrest</td>\n",
       "      <td>-</td>\n",
       "      <td>8857</td>\n",
       "      <td>1996</td>\n",
       "      <td>M</td>\n",
       "      <td>White</td>\n",
       "      <td>...</td>\n",
       "      <td>01:53:14.0000000</td>\n",
       "      <td>-</td>\n",
       "      <td>-</td>\n",
       "      <td>-</td>\n",
       "      <td>WEST PCT 2ND W - D/M RELIEF</td>\n",
       "      <td>Y</td>\n",
       "      <td>N</td>\n",
       "      <td>East</td>\n",
       "      <td>E</td>\n",
       "      <td>E3</td>\n",
       "    </tr>\n",
       "    <tr>\n",
       "      <th>53651</th>\n",
       "      <td>56 and Above</td>\n",
       "      <td>36540999080</td>\n",
       "      <td>20220000250573</td>\n",
       "      <td>36541078424</td>\n",
       "      <td>Field Contact</td>\n",
       "      <td>-</td>\n",
       "      <td>6805</td>\n",
       "      <td>1973</td>\n",
       "      <td>M</td>\n",
       "      <td>White</td>\n",
       "      <td>...</td>\n",
       "      <td>12:57:21.0000000</td>\n",
       "      <td>SUSPICIOUS PERSON, VEHICLE OR INCIDENT</td>\n",
       "      <td>--MISCHIEF OR NUISANCE - GENERAL</td>\n",
       "      <td>ONVIEW</td>\n",
       "      <td>WEST PCT 1ST W - KQ/DM RELIEF</td>\n",
       "      <td>N</td>\n",
       "      <td>N</td>\n",
       "      <td>West</td>\n",
       "      <td>K</td>\n",
       "      <td>K3</td>\n",
       "    </tr>\n",
       "    <tr>\n",
       "      <th>53652</th>\n",
       "      <td>56 and Above</td>\n",
       "      <td>36545542648</td>\n",
       "      <td>20220000251229</td>\n",
       "      <td>36545507606</td>\n",
       "      <td>Field Contact</td>\n",
       "      <td>-</td>\n",
       "      <td>7773</td>\n",
       "      <td>1978</td>\n",
       "      <td>M</td>\n",
       "      <td>White</td>\n",
       "      <td>...</td>\n",
       "      <td>02:33:21.0000000</td>\n",
       "      <td>FOUND - PERSON</td>\n",
       "      <td>FOUND - PERSON</td>\n",
       "      <td>911</td>\n",
       "      <td>NORTH PCT 3RD W - LINCOLN</td>\n",
       "      <td>N</td>\n",
       "      <td>N</td>\n",
       "      <td>North</td>\n",
       "      <td>J</td>\n",
       "      <td>J3</td>\n",
       "    </tr>\n",
       "    <tr>\n",
       "      <th>53653</th>\n",
       "      <td>56 and Above</td>\n",
       "      <td>37030489079</td>\n",
       "      <td>20220000261253</td>\n",
       "      <td>37030461857</td>\n",
       "      <td>Field Contact</td>\n",
       "      <td>-</td>\n",
       "      <td>8890</td>\n",
       "      <td>1995</td>\n",
       "      <td>M</td>\n",
       "      <td>White</td>\n",
       "      <td>...</td>\n",
       "      <td>23:21:54.0000000</td>\n",
       "      <td>TRESPASS</td>\n",
       "      <td>TRESPASS</td>\n",
       "      <td>911</td>\n",
       "      <td>TRAINING - FIELD TRAINING SQUAD</td>\n",
       "      <td>N</td>\n",
       "      <td>N</td>\n",
       "      <td>West</td>\n",
       "      <td>M</td>\n",
       "      <td>M1</td>\n",
       "    </tr>\n",
       "  </tbody>\n",
       "</table>\n",
       "<p>53654 rows × 23 columns</p>\n",
       "</div>"
      ],
      "text/plain": [
       "      Subject Age Group   Subject ID     GO / SC Num  Terry Stop ID  \\\n",
       "0                     -           -8  20220000063036    32023419019   \n",
       "1                     -           -8  20220000233868    35877423282   \n",
       "2                     -           -1  20140000120677          92317   \n",
       "3                     -           -1  20150000001463          28806   \n",
       "4                     -           -1  20150000001516          29599   \n",
       "...                 ...          ...             ...            ...   \n",
       "53649      56 and Above  35908211663  20220000238170    35908320953   \n",
       "53650      56 and Above  36244081163  20220000243193    36244016178   \n",
       "53651      56 and Above  36540999080  20220000250573    36541078424   \n",
       "53652      56 and Above  36545542648  20220000251229    36545507606   \n",
       "53653      56 and Above  37030489079  20220000261253    37030461857   \n",
       "\n",
       "      Stop Resolution Weapon Type Officer ID  Officer YOB Officer Gender  \\\n",
       "0       Field Contact           -       6805         1973              M   \n",
       "1       Field Contact           -       8881         1988              M   \n",
       "2              Arrest        None       7500         1984              M   \n",
       "3       Field Contact        None       5670         1965              M   \n",
       "4       Field Contact        None       4844         1961              M   \n",
       "...               ...         ...        ...          ...            ...   \n",
       "53649   Field Contact           -       8889         1977              M   \n",
       "53650          Arrest           -       8857         1996              M   \n",
       "53651   Field Contact           -       6805         1973              M   \n",
       "53652   Field Contact           -       7773         1978              M   \n",
       "53653   Field Contact           -       8890         1995              M   \n",
       "\n",
       "                    Officer Race  ...     Reported Time  \\\n",
       "0                          White  ...  09:34:02.0000000   \n",
       "1                          Asian  ...  19:20:16.0000000   \n",
       "2      Black or African American  ...  11:32:00.0000000   \n",
       "3                          White  ...  07:59:00.0000000   \n",
       "4                          White  ...  19:12:00.0000000   \n",
       "...                          ...  ...               ...   \n",
       "53649                      White  ...  04:11:19.0000000   \n",
       "53650                      White  ...  01:53:14.0000000   \n",
       "53651                      White  ...  12:57:21.0000000   \n",
       "53652                      White  ...  02:33:21.0000000   \n",
       "53653                      White  ...  23:21:54.0000000   \n",
       "\n",
       "                                   Initial Call Type  \\\n",
       "0         SUSPICIOUS STOP - OFFICER INITIATED ONVIEW   \n",
       "1      THREATS (INCLS IN-PERSON/BY PHONE/IN WRITING)   \n",
       "2                                                  -   \n",
       "3                                                  -   \n",
       "4                                                  -   \n",
       "...                                              ...   \n",
       "53649               DISTURBANCE, MISCELLANEOUS/OTHER   \n",
       "53650                                              -   \n",
       "53651         SUSPICIOUS PERSON, VEHICLE OR INCIDENT   \n",
       "53652                                 FOUND - PERSON   \n",
       "53653                                       TRESPASS   \n",
       "\n",
       "                                Final Call Type Call Type  \\\n",
       "0      --SUSPICIOUS CIRCUM. - SUSPICIOUS PERSON    ONVIEW   \n",
       "1                         --DISTURBANCE - OTHER       911   \n",
       "2                                             -         -   \n",
       "3                                             -         -   \n",
       "4                                             -         -   \n",
       "...                                         ...       ...   \n",
       "53649          DISTURBANCE, MISCELLANEOUS/OTHER       911   \n",
       "53650                                         -         -   \n",
       "53651          --MISCHIEF OR NUISANCE - GENERAL    ONVIEW   \n",
       "53652                            FOUND - PERSON       911   \n",
       "53653                                  TRESPASS       911   \n",
       "\n",
       "                         Officer Squad Arrest Flag Frisk Flag Precinct Sector  \\\n",
       "0        WEST PCT 1ST W - KQ/DM RELIEF           N          Y     West      K   \n",
       "1      TRAINING - FIELD TRAINING SQUAD           N          Y    South      O   \n",
       "2             SOUTH PCT 1ST W - ROBERT           N          N    South      O   \n",
       "3                                  NaN           N          N        -      -   \n",
       "4                                  NaN           N          -        -      -   \n",
       "...                                ...         ...        ...      ...    ...   \n",
       "53649  TRAINING - FIELD TRAINING SQUAD           N          N     West      Q   \n",
       "53650      WEST PCT 2ND W - D/M RELIEF           Y          N     East      E   \n",
       "53651    WEST PCT 1ST W - KQ/DM RELIEF           N          N     West      K   \n",
       "53652        NORTH PCT 3RD W - LINCOLN           N          N    North      J   \n",
       "53653  TRAINING - FIELD TRAINING SQUAD           N          N     West      M   \n",
       "\n",
       "      Beat  \n",
       "0       K3  \n",
       "1       O1  \n",
       "2       O2  \n",
       "3        -  \n",
       "4        -  \n",
       "...    ...  \n",
       "53649   Q3  \n",
       "53650   E3  \n",
       "53651   K3  \n",
       "53652   J3  \n",
       "53653   M1  \n",
       "\n",
       "[53654 rows x 23 columns]"
      ]
     },
     "execution_count": 2,
     "metadata": {},
     "output_type": "execute_result"
    }
   ],
   "source": [
    "data = pd.read_csv('Data/Terry_Stops.csv')\n",
    "data"
   ]
  },
  {
   "cell_type": "markdown",
   "metadata": {},
   "source": [
    "\n",
    "The data can be lumped into four categories:\n",
    "\n",
    "##### Demographics: race, age, gender\n",
    "\n",
    "##### Situation: weapons involved, date, time\n",
    "\n",
    "##### Administrative: report type, precinct, officer squad, officer IDs\n",
    "\n",
    "#### Outcome: arrest, citation, field contact, offense report\n",
    "\n",
    "\n",
    "There are 53654 rows and 23 columns in our dataset. Below is a brief description of the data each column represents:\n",
    "\n",
    "##### Subject Age Group\n",
    "Subject Age Group (10 year increments) as reported by the officer.\n",
    "  \n",
    "##### Subject ID\n",
    "Key, generated daily, identifying unique subjects in the dataset using a character to character match of first name and last name. \"Null\" values indicate an \"anonymous\" or \"unidentified\" subject. Subjects of a Terry Stop are not required to present identification.\n",
    "    \n",
    "##### GO/SC Num\n",
    "General Offense or Street Check number, relating the Terry Stop to the parent report. This field may have a one to many relationship in the data.\n",
    "    \n",
    "##### Terry Stop ID\n",
    "Key identifying unique Terry Stop reports.\n",
    "\n",
    "##### Stop Resolution\n",
    "Resolution of the stop as reported by the officer.\n",
    "    \n",
    "##### Weapon Type\n",
    "Type of weapon, if any, identified during a search or frisk of the subject. Indicates \"None\"     if no weapons was found.\n",
    "    \n",
    "##### Officer ID\n",
    "Key identifying unique officers in the dataset.\n",
    "    \n",
    "##### Officer YOB \n",
    "Year of birth, as reported by the officer.\n",
    "    \n",
    "##### Officer Gender\n",
    "Gender of the officer, as reported by the officer.\n",
    "    \n",
    "##### Officer Race\n",
    "Race of the officer, as reported by the officer.\n",
    "    \n",
    "##### Subject Perceived Race\n",
    "Perceived race of the subject, as reported by the officer.\n",
    "\n",
    "##### Subject Perceived Gender\n",
    "Perceived gender of the subject, as reported by the officer.\n",
    "    \n",
    "##### Reported Date\n",
    "Date the report was filed in the Records Management System (RMS). Not necessarily the date the stop occurred but generally within 1 day.\n",
    "    \n",
    "##### Reported Time\n",
    "Time the stop was reported in the Records Management System (RMS). Not the time the stop occurred but generally within 10 hours.\n",
    "    \n",
    "##### Initial Call Type\n",
    "Initial classification of the call as assigned by 911.\n",
    "    \n",
    "##### Final Call Type\n",
    "Final classification of the call as assigned by the primary officer closing the event.\n",
    "    \n",
    "##### Call Type\n",
    "How the call was received by the communication center.\n",
    "    \n",
    "##### Officer Squad\n",
    "Functional squad assignment (not budget) of the officer as reported by the Data Analytics Platform (DAP).\n",
    "    \n",
    "##### Arrest Flag\n",
    "Indicator of whether a \"physical arrest\" was made, of the subject, during the Terry Stop. Does not necessarily reflect a report of an arrest in the Records Management System (RMS).\n",
    "    \n",
    "##### Frisk Flag\n",
    "Indicator of whether a \"frisk\" was conducted, by the officer, of the subject, during the Terry Stop.\n",
    "    \n",
    "##### Precinct\n",
    "Precinct of the address associated with the underlying Computer Aided Dispatch (CAD) event. Not necessarily where the Terry Stop occurred.\n",
    "    \n",
    "##### Sector\n",
    "Sector of the address associated with the underlying Computer Aided Dispatch (CAD) event. Not necessarily where the Terry Stop occurred.\n",
    "    \n",
    "##### Beat\n",
    "Beat of the address associated with the underlying Computer Aided Dispatch (CAD) event. Not necessarily where the Terry Stop occurred.\n"
   ]
  },
  {
   "cell_type": "code",
   "execution_count": 3,
   "metadata": {
    "scrolled": false
   },
   "outputs": [
    {
     "name": "stdout",
     "output_type": "stream",
     "text": [
      "<class 'pandas.core.frame.DataFrame'>\n",
      "RangeIndex: 53654 entries, 0 to 53653\n",
      "Data columns (total 23 columns):\n",
      " #   Column                    Non-Null Count  Dtype \n",
      "---  ------                    --------------  ----- \n",
      " 0   Subject Age Group         53654 non-null  object\n",
      " 1   Subject ID                53654 non-null  int64 \n",
      " 2   GO / SC Num               53654 non-null  int64 \n",
      " 3   Terry Stop ID             53654 non-null  int64 \n",
      " 4   Stop Resolution           53654 non-null  object\n",
      " 5   Weapon Type               53654 non-null  object\n",
      " 6   Officer ID                53654 non-null  object\n",
      " 7   Officer YOB               53654 non-null  int64 \n",
      " 8   Officer Gender            53654 non-null  object\n",
      " 9   Officer Race              53654 non-null  object\n",
      " 10  Subject Perceived Race    53654 non-null  object\n",
      " 11  Subject Perceived Gender  53654 non-null  object\n",
      " 12  Reported Date             53654 non-null  object\n",
      " 13  Reported Time             53654 non-null  object\n",
      " 14  Initial Call Type         53654 non-null  object\n",
      " 15  Final Call Type           53654 non-null  object\n",
      " 16  Call Type                 53654 non-null  object\n",
      " 17  Officer Squad             53165 non-null  object\n",
      " 18  Arrest Flag               53654 non-null  object\n",
      " 19  Frisk Flag                53654 non-null  object\n",
      " 20  Precinct                  53654 non-null  object\n",
      " 21  Sector                    53654 non-null  object\n",
      " 22  Beat                      53654 non-null  object\n",
      "dtypes: int64(4), object(19)\n",
      "memory usage: 9.4+ MB\n"
     ]
    }
   ],
   "source": [
    "data.info()\n",
    "# We have only 4 columns containing 'int\" data type, the rest are object type"
   ]
  },
  {
   "cell_type": "code",
   "execution_count": 4,
   "metadata": {},
   "outputs": [
    {
     "data": {
      "text/plain": [
       "(53654, 23)"
      ]
     },
     "execution_count": 4,
     "metadata": {},
     "output_type": "execute_result"
    }
   ],
   "source": [
    "# The number of rows and columns\n",
    "data.shape"
   ]
  },
  {
   "cell_type": "code",
   "execution_count": 5,
   "metadata": {},
   "outputs": [
    {
     "data": {
      "text/html": [
       "<div>\n",
       "<style scoped>\n",
       "    .dataframe tbody tr th:only-of-type {\n",
       "        vertical-align: middle;\n",
       "    }\n",
       "\n",
       "    .dataframe tbody tr th {\n",
       "        vertical-align: top;\n",
       "    }\n",
       "\n",
       "    .dataframe thead th {\n",
       "        text-align: right;\n",
       "    }\n",
       "</style>\n",
       "<table border=\"1\" class=\"dataframe\">\n",
       "  <thead>\n",
       "    <tr style=\"text-align: right;\">\n",
       "      <th></th>\n",
       "      <th>Subject ID</th>\n",
       "      <th>GO / SC Num</th>\n",
       "      <th>Terry Stop ID</th>\n",
       "      <th>Officer YOB</th>\n",
       "    </tr>\n",
       "  </thead>\n",
       "  <tbody>\n",
       "    <tr>\n",
       "      <th>count</th>\n",
       "      <td>5.365400e+04</td>\n",
       "      <td>5.365400e+04</td>\n",
       "      <td>5.365400e+04</td>\n",
       "      <td>53654.000000</td>\n",
       "    </tr>\n",
       "    <tr>\n",
       "      <th>mean</th>\n",
       "      <td>4.343049e+09</td>\n",
       "      <td>2.018040e+13</td>\n",
       "      <td>6.931744e+09</td>\n",
       "      <td>1983.457356</td>\n",
       "    </tr>\n",
       "    <tr>\n",
       "      <th>std</th>\n",
       "      <td>7.565102e+09</td>\n",
       "      <td>8.960437e+10</td>\n",
       "      <td>1.081950e+10</td>\n",
       "      <td>9.312311</td>\n",
       "    </tr>\n",
       "    <tr>\n",
       "      <th>min</th>\n",
       "      <td>-8.000000e+00</td>\n",
       "      <td>-1.000000e+00</td>\n",
       "      <td>2.802000e+04</td>\n",
       "      <td>1900.000000</td>\n",
       "    </tr>\n",
       "    <tr>\n",
       "      <th>25%</th>\n",
       "      <td>-1.000000e+00</td>\n",
       "      <td>2.016000e+13</td>\n",
       "      <td>2.074660e+05</td>\n",
       "      <td>1979.000000</td>\n",
       "    </tr>\n",
       "    <tr>\n",
       "      <th>50%</th>\n",
       "      <td>-1.000000e+00</td>\n",
       "      <td>2.018000e+13</td>\n",
       "      <td>4.544425e+05</td>\n",
       "      <td>1986.000000</td>\n",
       "    </tr>\n",
       "    <tr>\n",
       "      <th>75%</th>\n",
       "      <td>7.731599e+09</td>\n",
       "      <td>2.020000e+13</td>\n",
       "      <td>1.262118e+10</td>\n",
       "      <td>1990.000000</td>\n",
       "    </tr>\n",
       "    <tr>\n",
       "      <th>max</th>\n",
       "      <td>3.743051e+10</td>\n",
       "      <td>2.022000e+13</td>\n",
       "      <td>3.742961e+10</td>\n",
       "      <td>2000.000000</td>\n",
       "    </tr>\n",
       "  </tbody>\n",
       "</table>\n",
       "</div>"
      ],
      "text/plain": [
       "         Subject ID   GO / SC Num  Terry Stop ID   Officer YOB\n",
       "count  5.365400e+04  5.365400e+04   5.365400e+04  53654.000000\n",
       "mean   4.343049e+09  2.018040e+13   6.931744e+09   1983.457356\n",
       "std    7.565102e+09  8.960437e+10   1.081950e+10      9.312311\n",
       "min   -8.000000e+00 -1.000000e+00   2.802000e+04   1900.000000\n",
       "25%   -1.000000e+00  2.016000e+13   2.074660e+05   1979.000000\n",
       "50%   -1.000000e+00  2.018000e+13   4.544425e+05   1986.000000\n",
       "75%    7.731599e+09  2.020000e+13   1.262118e+10   1990.000000\n",
       "max    3.743051e+10  2.022000e+13   3.742961e+10   2000.000000"
      ]
     },
     "execution_count": 5,
     "metadata": {},
     "output_type": "execute_result"
    }
   ],
   "source": [
    "#descriptive statistics for numeric columns\n",
    "data.describe()"
   ]
  },
  {
   "cell_type": "code",
   "execution_count": 6,
   "metadata": {},
   "outputs": [
    {
     "data": {
      "text/plain": [
       "Subject Age Group             0\n",
       "Subject ID                    0\n",
       "GO / SC Num                   0\n",
       "Terry Stop ID                 0\n",
       "Stop Resolution               0\n",
       "Weapon Type                   0\n",
       "Officer ID                    0\n",
       "Officer YOB                   0\n",
       "Officer Gender                0\n",
       "Officer Race                  0\n",
       "Subject Perceived Race        0\n",
       "Subject Perceived Gender      0\n",
       "Reported Date                 0\n",
       "Reported Time                 0\n",
       "Initial Call Type             0\n",
       "Final Call Type               0\n",
       "Call Type                     0\n",
       "Officer Squad               489\n",
       "Arrest Flag                   0\n",
       "Frisk Flag                    0\n",
       "Precinct                      0\n",
       "Sector                        0\n",
       "Beat                          0\n",
       "dtype: int64"
      ]
     },
     "execution_count": 6,
     "metadata": {},
     "output_type": "execute_result"
    }
   ],
   "source": [
    "data.isnull().sum()\n",
    "# The 'Officer Squad' columns has missing values"
   ]
  },
  {
   "cell_type": "code",
   "execution_count": 7,
   "metadata": {},
   "outputs": [
    {
     "data": {
      "text/plain": [
       "26 - 35         17930\n",
       "36 - 45         11634\n",
       "18 - 25         10512\n",
       "46 - 55          6891\n",
       "56 and Above     2782\n",
       "1 - 17           2080\n",
       "-                1825\n",
       "Name: Subject Age Group, dtype: int64"
      ]
     },
     "execution_count": 7,
     "metadata": {},
     "output_type": "execute_result"
    }
   ],
   "source": [
    "data['Subject Age Group'].value_counts()\n",
    "#We have no missing values"
   ]
  },
  {
   "cell_type": "code",
   "execution_count": 8,
   "metadata": {},
   "outputs": [
    {
     "data": {
      "text/plain": [
       "73"
      ]
     },
     "execution_count": 8,
     "metadata": {},
     "output_type": "execute_result"
    }
   ],
   "source": [
    "data['Terry Stop ID'].duplicated().sum()\n",
    "#we have 73 duplicates"
   ]
  },
  {
   "cell_type": "code",
   "execution_count": 9,
   "metadata": {},
   "outputs": [
    {
     "data": {
      "text/plain": [
       "Field Contact               23006\n",
       "Offense Report              16599\n",
       "Arrest                      13131\n",
       "Referred for Prosecution      728\n",
       "Citation / Infraction         190\n",
       "Name: Stop Resolution, dtype: int64"
      ]
     },
     "execution_count": 9,
     "metadata": {},
     "output_type": "execute_result"
    }
   ],
   "source": [
    "data['Stop Resolution'].value_counts()\n",
    "# We have no missing values"
   ]
  },
  {
   "cell_type": "code",
   "execution_count": 10,
   "metadata": {},
   "outputs": [
    {
     "data": {
      "text/plain": [
       "None                                    32565\n",
       "-                                       17800\n",
       "Lethal Cutting Instrument                1482\n",
       "Knife/Cutting/Stabbing Instrument         967\n",
       "Handgun                                   342\n",
       "Blunt Object/Striking Implement           125\n",
       "Firearm Other                             100\n",
       "Firearm                                    63\n",
       "Club, Blackjack, Brass Knuckles            49\n",
       "Mace/Pepper Spray                          44\n",
       "Other Firearm                              41\n",
       "Firearm (unk type)                         15\n",
       "Taser/Stun Gun                             13\n",
       "Fire/Incendiary Device                     11\n",
       "None/Not Applicable                        10\n",
       "Club                                        9\n",
       "Rifle                                       8\n",
       "Shotgun                                     4\n",
       "Automatic Handgun                           2\n",
       "Personal Weapons (hands, feet, etc.)        2\n",
       "Brass Knuckles                              1\n",
       "Blackjack                                   1\n",
       "Name: Weapon Type, dtype: int64"
      ]
     },
     "execution_count": 10,
     "metadata": {},
     "output_type": "execute_result"
    }
   ],
   "source": [
    "data['Weapon Type'].value_counts()\n",
    "#we have missing values\n",
    "#further investigate some columns such as 'personal weapons', 'None?Not Applicable' etc"
   ]
  },
  {
   "cell_type": "code",
   "execution_count": 11,
   "metadata": {},
   "outputs": [
    {
     "data": {
      "text/plain": [
       "1986    3690\n",
       "1987    3422\n",
       "1991    2979\n",
       "1984    2921\n",
       "1992    2854\n",
       "1990    2688\n",
       "1985    2600\n",
       "1988    2396\n",
       "1989    2272\n",
       "1982    1946\n",
       "1983    1866\n",
       "1993    1776\n",
       "1995    1716\n",
       "1979    1715\n",
       "1981    1591\n",
       "1994    1346\n",
       "1971    1272\n",
       "1976    1246\n",
       "1978    1221\n",
       "1977    1101\n",
       "1973    1005\n",
       "1996     962\n",
       "1980     935\n",
       "1967     792\n",
       "1997     746\n",
       "1970     670\n",
       "1968     664\n",
       "1969     590\n",
       "1974     579\n",
       "1975     579\n",
       "1962     463\n",
       "1964     459\n",
       "1972     449\n",
       "1965     424\n",
       "1963     265\n",
       "1966     235\n",
       "1961     234\n",
       "1958     222\n",
       "1959     174\n",
       "1960     161\n",
       "1998     123\n",
       "1900      69\n",
       "1954      44\n",
       "1957      43\n",
       "1953      35\n",
       "1999      25\n",
       "2000      23\n",
       "1955      21\n",
       "1956      17\n",
       "1948      11\n",
       "1952       9\n",
       "1949       5\n",
       "1946       2\n",
       "1951       1\n",
       "Name: Officer YOB, dtype: int64"
      ]
     },
     "execution_count": 11,
     "metadata": {},
     "output_type": "execute_result"
    }
   ],
   "source": [
    "data['Officer YOB'].value_counts()\n",
    "#we have no missing values"
   ]
  },
  {
   "cell_type": "code",
   "execution_count": 12,
   "metadata": {},
   "outputs": [
    {
     "data": {
      "text/plain": [
       "02:56:00.0000000    52\n",
       "17:00:00.0000000    51\n",
       "03:09:00.0000000    51\n",
       "19:18:00.0000000    51\n",
       "03:13:00.0000000    50\n",
       "                    ..\n",
       "04:00:34.0000000     1\n",
       "21:37:35.0000000     1\n",
       "06:46:43.0000000     1\n",
       "02:52:18.0000000     1\n",
       "23:21:54.0000000     1\n",
       "Name: Reported Time, Length: 18104, dtype: int64"
      ]
     },
     "execution_count": 12,
     "metadata": {},
     "output_type": "execute_result"
    }
   ],
   "source": [
    "data['Reported Time'].value_counts()\n",
    "#we will feature engineer a new column of day/night to show time of day when Terry Stops were made."
   ]
  },
  {
   "cell_type": "code",
   "execution_count": 13,
   "metadata": {},
   "outputs": [
    {
     "data": {
      "text/plain": [
       "N    48731\n",
       "Y     4923\n",
       "Name: Arrest Flag, dtype: int64"
      ]
     },
     "execution_count": 13,
     "metadata": {},
     "output_type": "execute_result"
    }
   ],
   "source": [
    "data['Arrest Flag'].value_counts()\n",
    "#this is our target variable and we have no missing values"
   ]
  },
  {
   "cell_type": "code",
   "execution_count": 14,
   "metadata": {},
   "outputs": [
    {
     "data": {
      "text/plain": [
       "N    40794\n",
       "Y    12382\n",
       "-      478\n",
       "Name: Frisk Flag, dtype: int64"
      ]
     },
     "execution_count": 14,
     "metadata": {},
     "output_type": "execute_result"
    }
   ],
   "source": [
    "data['Frisk Flag'].value_counts()\n",
    "#we have some missing values"
   ]
  },
  {
   "cell_type": "code",
   "execution_count": 15,
   "metadata": {},
   "outputs": [
    {
     "data": {
      "text/plain": [
       "West         14070\n",
       "North        11699\n",
       "-            10240\n",
       "East          6904\n",
       "South         6363\n",
       "Southwest     2320\n",
       "SouthWest     1775\n",
       "Unknown        200\n",
       "OOJ             61\n",
       "FK ERROR        22\n",
       "Name: Precinct, dtype: int64"
      ]
     },
     "execution_count": 15,
     "metadata": {},
     "output_type": "execute_result"
    }
   ],
   "source": [
    "data['Precinct'].value_counts()\n",
    "# We also have some missing values"
   ]
  },
  {
   "cell_type": "code",
   "execution_count": 16,
   "metadata": {},
   "outputs": [
    {
     "data": {
      "text/plain": [
       "M    47516\n",
       "F     6108\n",
       "N       30\n",
       "Name: Officer Gender, dtype: int64"
      ]
     },
     "execution_count": 16,
     "metadata": {},
     "output_type": "execute_result"
    }
   ],
   "source": [
    "data['Officer Gender'].value_counts()\n",
    "# We have no missing values"
   ]
  },
  {
   "cell_type": "code",
   "execution_count": 17,
   "metadata": {},
   "outputs": [
    {
     "data": {
      "text/plain": [
       "White                            39376\n",
       "Two or More Races                 3336\n",
       "Hispanic or Latino                3278\n",
       "Asian                             2399\n",
       "Not Specified                     2293\n",
       "Black or African American         2098\n",
       "Nat Hawaiian/Oth Pac Islander      472\n",
       "American Indian/Alaska Native      333\n",
       "Unknown                             69\n",
       "Name: Officer Race, dtype: int64"
      ]
     },
     "execution_count": 17,
     "metadata": {},
     "output_type": "execute_result"
    }
   ],
   "source": [
    "data['Officer Race'].value_counts()\n",
    "# We have 'Not Specified' and 'unknown' data types"
   ]
  },
  {
   "cell_type": "code",
   "execution_count": 18,
   "metadata": {},
   "outputs": [
    {
     "data": {
      "text/plain": [
       "White                                        26320\n",
       "Black or African American                    15936\n",
       "Unknown                                       3526\n",
       "-                                             1810\n",
       "Asian                                         1803\n",
       "Hispanic                                      1684\n",
       "American Indian or Alaska Native              1514\n",
       "Multi-Racial                                   809\n",
       "Other                                          152\n",
       "Native Hawaiian or Other Pacific Islander       98\n",
       "DUPLICATE                                        2\n",
       "Name: Subject Perceived Race, dtype: int64"
      ]
     },
     "execution_count": 18,
     "metadata": {},
     "output_type": "execute_result"
    }
   ],
   "source": [
    "data['Subject Perceived Race'].value_counts()\n",
    "# We have unknown values"
   ]
  },
  {
   "cell_type": "code",
   "execution_count": 19,
   "metadata": {},
   "outputs": [
    {
     "data": {
      "text/plain": [
       "Male                                                         42251\n",
       "Female                                                       10749\n",
       "Unable to Determine                                            326\n",
       "-                                                              239\n",
       "Unknown                                                         67\n",
       "Gender Diverse (gender non-conforming and/or transgender)       20\n",
       "DUPLICATE                                                        2\n",
       "Name: Subject Perceived Gender, dtype: int64"
      ]
     },
     "execution_count": 19,
     "metadata": {},
     "output_type": "execute_result"
    }
   ],
   "source": [
    "data['Subject Perceived Gender'].value_counts()\n",
    "# We have unknown values"
   ]
  },
  {
   "cell_type": "markdown",
   "metadata": {},
   "source": [
    "## Data Preparation\n",
    "\n",
    "### Validity\n",
    " We started with keeping only the most relevant columns for this project. Next, we rearranged the data in order to make it easier to check relevance and validity of the data provided. All columns in the rearranged file would be relevant to our analysis and modelling. Besides, we also checked the sensibility of data and corrected it accordingly. For instance, we found that some of the officers’ year of birth was indicated as 1900. This does not make sense. We made this column valid by replacing officers who aged 122 years with the column mode."
   ]
  },
  {
   "cell_type": "code",
   "execution_count": 20,
   "metadata": {
    "scrolled": false
   },
   "outputs": [
    {
     "data": {
      "text/plain": [
       "Index(['Subject Age Group', 'Subject ID', 'GO / SC Num', 'Terry Stop ID',\n",
       "       'Stop Resolution', 'Weapon Type', 'Officer ID', 'Officer YOB',\n",
       "       'Officer Gender', 'Officer Race', 'Subject Perceived Race',\n",
       "       'Subject Perceived Gender', 'Reported Date', 'Reported Time',\n",
       "       'Initial Call Type', 'Final Call Type', 'Call Type', 'Officer Squad',\n",
       "       'Arrest Flag', 'Frisk Flag', 'Precinct', 'Sector', 'Beat'],\n",
       "      dtype='object')"
      ]
     },
     "execution_count": 20,
     "metadata": {},
     "output_type": "execute_result"
    }
   ],
   "source": [
    "# A preview of all the columns\n",
    "data.columns"
   ]
  },
  {
   "cell_type": "code",
   "execution_count": 21,
   "metadata": {
    "scrolled": true
   },
   "outputs": [
    {
     "data": {
      "text/html": [
       "<div>\n",
       "<style scoped>\n",
       "    .dataframe tbody tr th:only-of-type {\n",
       "        vertical-align: middle;\n",
       "    }\n",
       "\n",
       "    .dataframe tbody tr th {\n",
       "        vertical-align: top;\n",
       "    }\n",
       "\n",
       "    .dataframe thead th {\n",
       "        text-align: right;\n",
       "    }\n",
       "</style>\n",
       "<table border=\"1\" class=\"dataframe\">\n",
       "  <thead>\n",
       "    <tr style=\"text-align: right;\">\n",
       "      <th></th>\n",
       "      <th>Subject Age Group</th>\n",
       "      <th>Terry Stop ID</th>\n",
       "      <th>Stop Resolution</th>\n",
       "      <th>Weapon Type</th>\n",
       "      <th>Officer YOB</th>\n",
       "      <th>Officer Gender</th>\n",
       "      <th>Officer Race</th>\n",
       "      <th>Subject Perceived Race</th>\n",
       "      <th>Subject Perceived Gender</th>\n",
       "      <th>Reported Date</th>\n",
       "      <th>Reported Time</th>\n",
       "      <th>Arrest Flag</th>\n",
       "      <th>Frisk Flag</th>\n",
       "    </tr>\n",
       "  </thead>\n",
       "  <tbody>\n",
       "    <tr>\n",
       "      <th>0</th>\n",
       "      <td>-</td>\n",
       "      <td>32023419019</td>\n",
       "      <td>Field Contact</td>\n",
       "      <td>-</td>\n",
       "      <td>1973</td>\n",
       "      <td>M</td>\n",
       "      <td>White</td>\n",
       "      <td>DUPLICATE</td>\n",
       "      <td>DUPLICATE</td>\n",
       "      <td>2022-03-14T00:00:00Z</td>\n",
       "      <td>09:34:02.0000000</td>\n",
       "      <td>N</td>\n",
       "      <td>Y</td>\n",
       "    </tr>\n",
       "    <tr>\n",
       "      <th>1</th>\n",
       "      <td>-</td>\n",
       "      <td>35877423282</td>\n",
       "      <td>Field Contact</td>\n",
       "      <td>-</td>\n",
       "      <td>1988</td>\n",
       "      <td>M</td>\n",
       "      <td>Asian</td>\n",
       "      <td>DUPLICATE</td>\n",
       "      <td>DUPLICATE</td>\n",
       "      <td>2022-09-02T00:00:00Z</td>\n",
       "      <td>19:20:16.0000000</td>\n",
       "      <td>N</td>\n",
       "      <td>Y</td>\n",
       "    </tr>\n",
       "    <tr>\n",
       "      <th>2</th>\n",
       "      <td>-</td>\n",
       "      <td>92317</td>\n",
       "      <td>Arrest</td>\n",
       "      <td>None</td>\n",
       "      <td>1984</td>\n",
       "      <td>M</td>\n",
       "      <td>Black or African American</td>\n",
       "      <td>Asian</td>\n",
       "      <td>Male</td>\n",
       "      <td>2015-10-16T00:00:00Z</td>\n",
       "      <td>11:32:00.0000000</td>\n",
       "      <td>N</td>\n",
       "      <td>N</td>\n",
       "    </tr>\n",
       "    <tr>\n",
       "      <th>3</th>\n",
       "      <td>-</td>\n",
       "      <td>28806</td>\n",
       "      <td>Field Contact</td>\n",
       "      <td>None</td>\n",
       "      <td>1965</td>\n",
       "      <td>M</td>\n",
       "      <td>White</td>\n",
       "      <td>-</td>\n",
       "      <td>-</td>\n",
       "      <td>2015-03-19T00:00:00Z</td>\n",
       "      <td>07:59:00.0000000</td>\n",
       "      <td>N</td>\n",
       "      <td>N</td>\n",
       "    </tr>\n",
       "    <tr>\n",
       "      <th>4</th>\n",
       "      <td>-</td>\n",
       "      <td>29599</td>\n",
       "      <td>Field Contact</td>\n",
       "      <td>None</td>\n",
       "      <td>1961</td>\n",
       "      <td>M</td>\n",
       "      <td>White</td>\n",
       "      <td>White</td>\n",
       "      <td>Male</td>\n",
       "      <td>2015-03-21T00:00:00Z</td>\n",
       "      <td>19:12:00.0000000</td>\n",
       "      <td>N</td>\n",
       "      <td>-</td>\n",
       "    </tr>\n",
       "    <tr>\n",
       "      <th>...</th>\n",
       "      <td>...</td>\n",
       "      <td>...</td>\n",
       "      <td>...</td>\n",
       "      <td>...</td>\n",
       "      <td>...</td>\n",
       "      <td>...</td>\n",
       "      <td>...</td>\n",
       "      <td>...</td>\n",
       "      <td>...</td>\n",
       "      <td>...</td>\n",
       "      <td>...</td>\n",
       "      <td>...</td>\n",
       "      <td>...</td>\n",
       "    </tr>\n",
       "    <tr>\n",
       "      <th>53649</th>\n",
       "      <td>56 and Above</td>\n",
       "      <td>35908320953</td>\n",
       "      <td>Field Contact</td>\n",
       "      <td>-</td>\n",
       "      <td>1977</td>\n",
       "      <td>M</td>\n",
       "      <td>White</td>\n",
       "      <td>Black or African American</td>\n",
       "      <td>Male</td>\n",
       "      <td>2022-09-07T00:00:00Z</td>\n",
       "      <td>04:11:19.0000000</td>\n",
       "      <td>N</td>\n",
       "      <td>N</td>\n",
       "    </tr>\n",
       "    <tr>\n",
       "      <th>53650</th>\n",
       "      <td>56 and Above</td>\n",
       "      <td>36244016178</td>\n",
       "      <td>Arrest</td>\n",
       "      <td>-</td>\n",
       "      <td>1996</td>\n",
       "      <td>M</td>\n",
       "      <td>White</td>\n",
       "      <td>Black or African American</td>\n",
       "      <td>Male</td>\n",
       "      <td>2022-09-12T00:00:00Z</td>\n",
       "      <td>01:53:14.0000000</td>\n",
       "      <td>Y</td>\n",
       "      <td>N</td>\n",
       "    </tr>\n",
       "    <tr>\n",
       "      <th>53651</th>\n",
       "      <td>56 and Above</td>\n",
       "      <td>36541078424</td>\n",
       "      <td>Field Contact</td>\n",
       "      <td>-</td>\n",
       "      <td>1973</td>\n",
       "      <td>M</td>\n",
       "      <td>White</td>\n",
       "      <td>Asian</td>\n",
       "      <td>Female</td>\n",
       "      <td>2022-09-19T00:00:00Z</td>\n",
       "      <td>12:57:21.0000000</td>\n",
       "      <td>N</td>\n",
       "      <td>N</td>\n",
       "    </tr>\n",
       "    <tr>\n",
       "      <th>53652</th>\n",
       "      <td>56 and Above</td>\n",
       "      <td>36545507606</td>\n",
       "      <td>Field Contact</td>\n",
       "      <td>-</td>\n",
       "      <td>1978</td>\n",
       "      <td>M</td>\n",
       "      <td>White</td>\n",
       "      <td>White</td>\n",
       "      <td>Male</td>\n",
       "      <td>2022-09-20T00:00:00Z</td>\n",
       "      <td>02:33:21.0000000</td>\n",
       "      <td>N</td>\n",
       "      <td>N</td>\n",
       "    </tr>\n",
       "    <tr>\n",
       "      <th>53653</th>\n",
       "      <td>56 and Above</td>\n",
       "      <td>37030461857</td>\n",
       "      <td>Field Contact</td>\n",
       "      <td>-</td>\n",
       "      <td>1995</td>\n",
       "      <td>M</td>\n",
       "      <td>White</td>\n",
       "      <td>Black or African American</td>\n",
       "      <td>Male</td>\n",
       "      <td>2022-09-29T00:00:00Z</td>\n",
       "      <td>23:21:54.0000000</td>\n",
       "      <td>N</td>\n",
       "      <td>N</td>\n",
       "    </tr>\n",
       "  </tbody>\n",
       "</table>\n",
       "<p>53654 rows × 13 columns</p>\n",
       "</div>"
      ],
      "text/plain": [
       "      Subject Age Group  Terry Stop ID Stop Resolution Weapon Type  \\\n",
       "0                     -    32023419019   Field Contact           -   \n",
       "1                     -    35877423282   Field Contact           -   \n",
       "2                     -          92317          Arrest        None   \n",
       "3                     -          28806   Field Contact        None   \n",
       "4                     -          29599   Field Contact        None   \n",
       "...                 ...            ...             ...         ...   \n",
       "53649      56 and Above    35908320953   Field Contact           -   \n",
       "53650      56 and Above    36244016178          Arrest           -   \n",
       "53651      56 and Above    36541078424   Field Contact           -   \n",
       "53652      56 and Above    36545507606   Field Contact           -   \n",
       "53653      56 and Above    37030461857   Field Contact           -   \n",
       "\n",
       "       Officer YOB Officer Gender               Officer Race  \\\n",
       "0             1973              M                      White   \n",
       "1             1988              M                      Asian   \n",
       "2             1984              M  Black or African American   \n",
       "3             1965              M                      White   \n",
       "4             1961              M                      White   \n",
       "...            ...            ...                        ...   \n",
       "53649         1977              M                      White   \n",
       "53650         1996              M                      White   \n",
       "53651         1973              M                      White   \n",
       "53652         1978              M                      White   \n",
       "53653         1995              M                      White   \n",
       "\n",
       "          Subject Perceived Race Subject Perceived Gender  \\\n",
       "0                      DUPLICATE                DUPLICATE   \n",
       "1                      DUPLICATE                DUPLICATE   \n",
       "2                          Asian                     Male   \n",
       "3                              -                        -   \n",
       "4                          White                     Male   \n",
       "...                          ...                      ...   \n",
       "53649  Black or African American                     Male   \n",
       "53650  Black or African American                     Male   \n",
       "53651                      Asian                   Female   \n",
       "53652                      White                     Male   \n",
       "53653  Black or African American                     Male   \n",
       "\n",
       "              Reported Date     Reported Time Arrest Flag Frisk Flag  \n",
       "0      2022-03-14T00:00:00Z  09:34:02.0000000           N          Y  \n",
       "1      2022-09-02T00:00:00Z  19:20:16.0000000           N          Y  \n",
       "2      2015-10-16T00:00:00Z  11:32:00.0000000           N          N  \n",
       "3      2015-03-19T00:00:00Z  07:59:00.0000000           N          N  \n",
       "4      2015-03-21T00:00:00Z  19:12:00.0000000           N          -  \n",
       "...                     ...               ...         ...        ...  \n",
       "53649  2022-09-07T00:00:00Z  04:11:19.0000000           N          N  \n",
       "53650  2022-09-12T00:00:00Z  01:53:14.0000000           Y          N  \n",
       "53651  2022-09-19T00:00:00Z  12:57:21.0000000           N          N  \n",
       "53652  2022-09-20T00:00:00Z  02:33:21.0000000           N          N  \n",
       "53653  2022-09-29T00:00:00Z  23:21:54.0000000           N          N  \n",
       "\n",
       "[53654 rows x 13 columns]"
      ]
     },
     "execution_count": 21,
     "metadata": {},
     "output_type": "execute_result"
    }
   ],
   "source": [
    "# We selected only the relevant columns and dropped the unnecessary\n",
    "relevant_columns=['Subject Age Group', 'Terry Stop ID','Stop Resolution', 'Weapon Type', 'Officer YOB', 'Officer Gender',\n",
    "                   'Officer Race','Subject Perceived Race', 'Subject Perceived Gender','Reported Date', 'Reported Time', \n",
    "                   'Arrest Flag', 'Frisk Flag']\n",
    "terry_stops = data[relevant_columns]\n",
    "terry_stops"
   ]
  },
  {
   "cell_type": "markdown",
   "metadata": {},
   "source": [
    "### Consistency\n",
    "we checked for duplicates. We used Terry Stops ID to check for duplicates row-wise. Found 73 duplicates. We dealt with these duplicates by dropping them. After checking for the duplicates, we then dropped the ID column because we did not want to carry the column for modeling as it may affect the quality of the model."
   ]
  },
  {
   "cell_type": "code",
   "execution_count": 22,
   "metadata": {
    "scrolled": true
   },
   "outputs": [
    {
     "data": {
      "text/plain": [
       "73"
      ]
     },
     "execution_count": 22,
     "metadata": {},
     "output_type": "execute_result"
    }
   ],
   "source": [
    "terry_stops['Terry Stop ID'].duplicated().sum()"
   ]
  },
  {
   "cell_type": "code",
   "execution_count": 23,
   "metadata": {},
   "outputs": [
    {
     "data": {
      "text/plain": [
       "0"
      ]
     },
     "execution_count": 23,
     "metadata": {},
     "output_type": "execute_result"
    }
   ],
   "source": [
    "#we removed duplicated rows\n",
    "terry_stops = terry_stops.drop_duplicates(subset='Terry Stop ID', keep='first')\n",
    "terry_stops['Terry Stop ID'].duplicated().sum()"
   ]
  },
  {
   "cell_type": "code",
   "execution_count": 24,
   "metadata": {},
   "outputs": [],
   "source": [
    "#Since we are done checking for duplicates we can now drop the column we used to check as it is no longer important\n",
    "terry_stops.drop(\"Terry Stop ID\", axis = 1,inplace=True)"
   ]
  },
  {
   "cell_type": "markdown",
   "metadata": {},
   "source": [
    "### Uniformity\n",
    "The columns created in the rearranged file were renamed for easier use. We changed the column names to lowercase and added an underscore(_) in between column names. This made it easier for us to use the column names in the further data analysis."
   ]
  },
  {
   "cell_type": "code",
   "execution_count": 25,
   "metadata": {
    "scrolled": true
   },
   "outputs": [
    {
     "data": {
      "text/html": [
       "<div>\n",
       "<style scoped>\n",
       "    .dataframe tbody tr th:only-of-type {\n",
       "        vertical-align: middle;\n",
       "    }\n",
       "\n",
       "    .dataframe tbody tr th {\n",
       "        vertical-align: top;\n",
       "    }\n",
       "\n",
       "    .dataframe thead th {\n",
       "        text-align: right;\n",
       "    }\n",
       "</style>\n",
       "<table border=\"1\" class=\"dataframe\">\n",
       "  <thead>\n",
       "    <tr style=\"text-align: right;\">\n",
       "      <th></th>\n",
       "      <th>subject_age_group</th>\n",
       "      <th>stop_resolution</th>\n",
       "      <th>weapon_type</th>\n",
       "      <th>officer_yob</th>\n",
       "      <th>officer_gender</th>\n",
       "      <th>officer_race</th>\n",
       "      <th>subject_perceived_race</th>\n",
       "      <th>subject_perceived_gender</th>\n",
       "      <th>reported_date</th>\n",
       "      <th>reported_time</th>\n",
       "      <th>arrest_flag</th>\n",
       "      <th>frisk_flag</th>\n",
       "    </tr>\n",
       "  </thead>\n",
       "  <tbody>\n",
       "    <tr>\n",
       "      <th>0</th>\n",
       "      <td>-</td>\n",
       "      <td>Field Contact</td>\n",
       "      <td>-</td>\n",
       "      <td>1973</td>\n",
       "      <td>M</td>\n",
       "      <td>White</td>\n",
       "      <td>DUPLICATE</td>\n",
       "      <td>DUPLICATE</td>\n",
       "      <td>2022-03-14T00:00:00Z</td>\n",
       "      <td>09:34:02.0000000</td>\n",
       "      <td>N</td>\n",
       "      <td>Y</td>\n",
       "    </tr>\n",
       "    <tr>\n",
       "      <th>1</th>\n",
       "      <td>-</td>\n",
       "      <td>Field Contact</td>\n",
       "      <td>-</td>\n",
       "      <td>1988</td>\n",
       "      <td>M</td>\n",
       "      <td>Asian</td>\n",
       "      <td>DUPLICATE</td>\n",
       "      <td>DUPLICATE</td>\n",
       "      <td>2022-09-02T00:00:00Z</td>\n",
       "      <td>19:20:16.0000000</td>\n",
       "      <td>N</td>\n",
       "      <td>Y</td>\n",
       "    </tr>\n",
       "    <tr>\n",
       "      <th>2</th>\n",
       "      <td>-</td>\n",
       "      <td>Arrest</td>\n",
       "      <td>None</td>\n",
       "      <td>1984</td>\n",
       "      <td>M</td>\n",
       "      <td>Black or African American</td>\n",
       "      <td>Asian</td>\n",
       "      <td>Male</td>\n",
       "      <td>2015-10-16T00:00:00Z</td>\n",
       "      <td>11:32:00.0000000</td>\n",
       "      <td>N</td>\n",
       "      <td>N</td>\n",
       "    </tr>\n",
       "    <tr>\n",
       "      <th>3</th>\n",
       "      <td>-</td>\n",
       "      <td>Field Contact</td>\n",
       "      <td>None</td>\n",
       "      <td>1965</td>\n",
       "      <td>M</td>\n",
       "      <td>White</td>\n",
       "      <td>-</td>\n",
       "      <td>-</td>\n",
       "      <td>2015-03-19T00:00:00Z</td>\n",
       "      <td>07:59:00.0000000</td>\n",
       "      <td>N</td>\n",
       "      <td>N</td>\n",
       "    </tr>\n",
       "    <tr>\n",
       "      <th>4</th>\n",
       "      <td>-</td>\n",
       "      <td>Field Contact</td>\n",
       "      <td>None</td>\n",
       "      <td>1961</td>\n",
       "      <td>M</td>\n",
       "      <td>White</td>\n",
       "      <td>White</td>\n",
       "      <td>Male</td>\n",
       "      <td>2015-03-21T00:00:00Z</td>\n",
       "      <td>19:12:00.0000000</td>\n",
       "      <td>N</td>\n",
       "      <td>-</td>\n",
       "    </tr>\n",
       "    <tr>\n",
       "      <th>...</th>\n",
       "      <td>...</td>\n",
       "      <td>...</td>\n",
       "      <td>...</td>\n",
       "      <td>...</td>\n",
       "      <td>...</td>\n",
       "      <td>...</td>\n",
       "      <td>...</td>\n",
       "      <td>...</td>\n",
       "      <td>...</td>\n",
       "      <td>...</td>\n",
       "      <td>...</td>\n",
       "      <td>...</td>\n",
       "    </tr>\n",
       "    <tr>\n",
       "      <th>53649</th>\n",
       "      <td>56 and Above</td>\n",
       "      <td>Field Contact</td>\n",
       "      <td>-</td>\n",
       "      <td>1977</td>\n",
       "      <td>M</td>\n",
       "      <td>White</td>\n",
       "      <td>Black or African American</td>\n",
       "      <td>Male</td>\n",
       "      <td>2022-09-07T00:00:00Z</td>\n",
       "      <td>04:11:19.0000000</td>\n",
       "      <td>N</td>\n",
       "      <td>N</td>\n",
       "    </tr>\n",
       "    <tr>\n",
       "      <th>53650</th>\n",
       "      <td>56 and Above</td>\n",
       "      <td>Arrest</td>\n",
       "      <td>-</td>\n",
       "      <td>1996</td>\n",
       "      <td>M</td>\n",
       "      <td>White</td>\n",
       "      <td>Black or African American</td>\n",
       "      <td>Male</td>\n",
       "      <td>2022-09-12T00:00:00Z</td>\n",
       "      <td>01:53:14.0000000</td>\n",
       "      <td>Y</td>\n",
       "      <td>N</td>\n",
       "    </tr>\n",
       "    <tr>\n",
       "      <th>53651</th>\n",
       "      <td>56 and Above</td>\n",
       "      <td>Field Contact</td>\n",
       "      <td>-</td>\n",
       "      <td>1973</td>\n",
       "      <td>M</td>\n",
       "      <td>White</td>\n",
       "      <td>Asian</td>\n",
       "      <td>Female</td>\n",
       "      <td>2022-09-19T00:00:00Z</td>\n",
       "      <td>12:57:21.0000000</td>\n",
       "      <td>N</td>\n",
       "      <td>N</td>\n",
       "    </tr>\n",
       "    <tr>\n",
       "      <th>53652</th>\n",
       "      <td>56 and Above</td>\n",
       "      <td>Field Contact</td>\n",
       "      <td>-</td>\n",
       "      <td>1978</td>\n",
       "      <td>M</td>\n",
       "      <td>White</td>\n",
       "      <td>White</td>\n",
       "      <td>Male</td>\n",
       "      <td>2022-09-20T00:00:00Z</td>\n",
       "      <td>02:33:21.0000000</td>\n",
       "      <td>N</td>\n",
       "      <td>N</td>\n",
       "    </tr>\n",
       "    <tr>\n",
       "      <th>53653</th>\n",
       "      <td>56 and Above</td>\n",
       "      <td>Field Contact</td>\n",
       "      <td>-</td>\n",
       "      <td>1995</td>\n",
       "      <td>M</td>\n",
       "      <td>White</td>\n",
       "      <td>Black or African American</td>\n",
       "      <td>Male</td>\n",
       "      <td>2022-09-29T00:00:00Z</td>\n",
       "      <td>23:21:54.0000000</td>\n",
       "      <td>N</td>\n",
       "      <td>N</td>\n",
       "    </tr>\n",
       "  </tbody>\n",
       "</table>\n",
       "<p>53581 rows × 12 columns</p>\n",
       "</div>"
      ],
      "text/plain": [
       "      subject_age_group stop_resolution weapon_type  officer_yob  \\\n",
       "0                     -   Field Contact           -         1973   \n",
       "1                     -   Field Contact           -         1988   \n",
       "2                     -          Arrest        None         1984   \n",
       "3                     -   Field Contact        None         1965   \n",
       "4                     -   Field Contact        None         1961   \n",
       "...                 ...             ...         ...          ...   \n",
       "53649      56 and Above   Field Contact           -         1977   \n",
       "53650      56 and Above          Arrest           -         1996   \n",
       "53651      56 and Above   Field Contact           -         1973   \n",
       "53652      56 and Above   Field Contact           -         1978   \n",
       "53653      56 and Above   Field Contact           -         1995   \n",
       "\n",
       "      officer_gender               officer_race     subject_perceived_race  \\\n",
       "0                  M                      White                  DUPLICATE   \n",
       "1                  M                      Asian                  DUPLICATE   \n",
       "2                  M  Black or African American                      Asian   \n",
       "3                  M                      White                          -   \n",
       "4                  M                      White                      White   \n",
       "...              ...                        ...                        ...   \n",
       "53649              M                      White  Black or African American   \n",
       "53650              M                      White  Black or African American   \n",
       "53651              M                      White                      Asian   \n",
       "53652              M                      White                      White   \n",
       "53653              M                      White  Black or African American   \n",
       "\n",
       "      subject_perceived_gender         reported_date     reported_time  \\\n",
       "0                    DUPLICATE  2022-03-14T00:00:00Z  09:34:02.0000000   \n",
       "1                    DUPLICATE  2022-09-02T00:00:00Z  19:20:16.0000000   \n",
       "2                         Male  2015-10-16T00:00:00Z  11:32:00.0000000   \n",
       "3                            -  2015-03-19T00:00:00Z  07:59:00.0000000   \n",
       "4                         Male  2015-03-21T00:00:00Z  19:12:00.0000000   \n",
       "...                        ...                   ...               ...   \n",
       "53649                     Male  2022-09-07T00:00:00Z  04:11:19.0000000   \n",
       "53650                     Male  2022-09-12T00:00:00Z  01:53:14.0000000   \n",
       "53651                   Female  2022-09-19T00:00:00Z  12:57:21.0000000   \n",
       "53652                     Male  2022-09-20T00:00:00Z  02:33:21.0000000   \n",
       "53653                     Male  2022-09-29T00:00:00Z  23:21:54.0000000   \n",
       "\n",
       "      arrest_flag frisk_flag  \n",
       "0               N          Y  \n",
       "1               N          Y  \n",
       "2               N          N  \n",
       "3               N          N  \n",
       "4               N          -  \n",
       "...           ...        ...  \n",
       "53649           N          N  \n",
       "53650           Y          N  \n",
       "53651           N          N  \n",
       "53652           N          N  \n",
       "53653           N          N  \n",
       "\n",
       "[53581 rows x 12 columns]"
      ]
     },
     "execution_count": 25,
     "metadata": {},
     "output_type": "execute_result"
    }
   ],
   "source": [
    "terry_stops.columns = terry_stops.columns.str.replace(\" \", \"_\")\n",
    "\n",
    "terry_stops= terry_stops.rename(columns=str.lower)\n",
    "\n",
    "terry_stops\n"
   ]
  },
  {
   "cell_type": "markdown",
   "metadata": {},
   "source": [
    "### Completeness\n",
    "\n",
    "We checked for completeness of the data and found that some columns contained either UNKNOWN or data marked with (_). We decided on how to deal with these missing data."
   ]
  },
  {
   "cell_type": "code",
   "execution_count": 26,
   "metadata": {},
   "outputs": [
    {
     "data": {
      "text/plain": [
       "26 - 35                17906\n",
       "36 - 45                11617\n",
       "18 - 25                10496\n",
       "46 - 55                 6881\n",
       "56 and Above            2777\n",
       "1 - 17                  2079\n",
       "Unknown Subject Age     1825\n",
       "Name: subject_age_group, dtype: int64"
      ]
     },
     "execution_count": 26,
     "metadata": {},
     "output_type": "execute_result"
    }
   ],
   "source": [
    "#we replaced blanks with 'unknown'\n",
    "terry_stops['subject_age_group'].replace({'-': 'Unknown Subject Age'}, inplace=True)\n",
    "terry_stops['subject_age_group'].value_counts()"
   ]
  },
  {
   "cell_type": "code",
   "execution_count": 27,
   "metadata": {},
   "outputs": [],
   "source": [
    "terry_stops['reported_date']= terry_stops['reported_date'].apply(lambda x:x[:10])\n",
    "terry_stops['reported_date'] = pd.to_datetime(terry_stops['reported_date'])"
   ]
  },
  {
   "cell_type": "code",
   "execution_count": 28,
   "metadata": {},
   "outputs": [
    {
     "data": {
      "text/plain": [
       "0            March\n",
       "1        September\n",
       "2          October\n",
       "3            March\n",
       "4            March\n",
       "           ...    \n",
       "53649    September\n",
       "53650    September\n",
       "53651    September\n",
       "53652    September\n",
       "53653    September\n",
       "Name: reported_month, Length: 53581, dtype: object"
      ]
     },
     "execution_count": 28,
     "metadata": {},
     "output_type": "execute_result"
    }
   ],
   "source": [
    "terry_stops['reported_month'] = pd.DatetimeIndex(terry_stops['reported_date']).month\n",
    "\n",
    "terry_stops['reported_month'].replace(\n",
    "        {1: 'January', 2:'February', 3:'March', 4:'April', 5:'May', 6:'June', 7:'July', 8:'August', 9:'September',\n",
    "        10:'October', 11:'November', 12:'December'\n",
    "        }, inplace = True)\n",
    "terry_stops['reported_month']\n"
   ]
  },
  {
   "cell_type": "code",
   "execution_count": 29,
   "metadata": {},
   "outputs": [],
   "source": [
    "terry_stops['reported_year']= pd.DatetimeIndex(terry_stops['reported_date']).year"
   ]
  },
  {
   "cell_type": "code",
   "execution_count": 30,
   "metadata": {
    "scrolled": true
   },
   "outputs": [
    {
     "data": {
      "text/html": [
       "<div>\n",
       "<style scoped>\n",
       "    .dataframe tbody tr th:only-of-type {\n",
       "        vertical-align: middle;\n",
       "    }\n",
       "\n",
       "    .dataframe tbody tr th {\n",
       "        vertical-align: top;\n",
       "    }\n",
       "\n",
       "    .dataframe thead th {\n",
       "        text-align: right;\n",
       "    }\n",
       "</style>\n",
       "<table border=\"1\" class=\"dataframe\">\n",
       "  <thead>\n",
       "    <tr style=\"text-align: right;\">\n",
       "      <th></th>\n",
       "      <th>subject_age_group</th>\n",
       "      <th>stop_resolution</th>\n",
       "      <th>weapon_type</th>\n",
       "      <th>officer_yob</th>\n",
       "      <th>officer_gender</th>\n",
       "      <th>officer_race</th>\n",
       "      <th>subject_perceived_race</th>\n",
       "      <th>subject_perceived_gender</th>\n",
       "      <th>reported_time</th>\n",
       "      <th>arrest_flag</th>\n",
       "      <th>frisk_flag</th>\n",
       "      <th>reported_month</th>\n",
       "      <th>reported_year</th>\n",
       "    </tr>\n",
       "  </thead>\n",
       "  <tbody>\n",
       "    <tr>\n",
       "      <th>0</th>\n",
       "      <td>Unknown Subject Age</td>\n",
       "      <td>Field Contact</td>\n",
       "      <td>-</td>\n",
       "      <td>1973</td>\n",
       "      <td>M</td>\n",
       "      <td>White</td>\n",
       "      <td>DUPLICATE</td>\n",
       "      <td>DUPLICATE</td>\n",
       "      <td>09:34:02.0000000</td>\n",
       "      <td>N</td>\n",
       "      <td>Y</td>\n",
       "      <td>March</td>\n",
       "      <td>2022</td>\n",
       "    </tr>\n",
       "    <tr>\n",
       "      <th>1</th>\n",
       "      <td>Unknown Subject Age</td>\n",
       "      <td>Field Contact</td>\n",
       "      <td>-</td>\n",
       "      <td>1988</td>\n",
       "      <td>M</td>\n",
       "      <td>Asian</td>\n",
       "      <td>DUPLICATE</td>\n",
       "      <td>DUPLICATE</td>\n",
       "      <td>19:20:16.0000000</td>\n",
       "      <td>N</td>\n",
       "      <td>Y</td>\n",
       "      <td>September</td>\n",
       "      <td>2022</td>\n",
       "    </tr>\n",
       "    <tr>\n",
       "      <th>2</th>\n",
       "      <td>Unknown Subject Age</td>\n",
       "      <td>Arrest</td>\n",
       "      <td>None</td>\n",
       "      <td>1984</td>\n",
       "      <td>M</td>\n",
       "      <td>Black or African American</td>\n",
       "      <td>Asian</td>\n",
       "      <td>Male</td>\n",
       "      <td>11:32:00.0000000</td>\n",
       "      <td>N</td>\n",
       "      <td>N</td>\n",
       "      <td>October</td>\n",
       "      <td>2015</td>\n",
       "    </tr>\n",
       "    <tr>\n",
       "      <th>3</th>\n",
       "      <td>Unknown Subject Age</td>\n",
       "      <td>Field Contact</td>\n",
       "      <td>None</td>\n",
       "      <td>1965</td>\n",
       "      <td>M</td>\n",
       "      <td>White</td>\n",
       "      <td>-</td>\n",
       "      <td>-</td>\n",
       "      <td>07:59:00.0000000</td>\n",
       "      <td>N</td>\n",
       "      <td>N</td>\n",
       "      <td>March</td>\n",
       "      <td>2015</td>\n",
       "    </tr>\n",
       "    <tr>\n",
       "      <th>4</th>\n",
       "      <td>Unknown Subject Age</td>\n",
       "      <td>Field Contact</td>\n",
       "      <td>None</td>\n",
       "      <td>1961</td>\n",
       "      <td>M</td>\n",
       "      <td>White</td>\n",
       "      <td>White</td>\n",
       "      <td>Male</td>\n",
       "      <td>19:12:00.0000000</td>\n",
       "      <td>N</td>\n",
       "      <td>-</td>\n",
       "      <td>March</td>\n",
       "      <td>2015</td>\n",
       "    </tr>\n",
       "    <tr>\n",
       "      <th>...</th>\n",
       "      <td>...</td>\n",
       "      <td>...</td>\n",
       "      <td>...</td>\n",
       "      <td>...</td>\n",
       "      <td>...</td>\n",
       "      <td>...</td>\n",
       "      <td>...</td>\n",
       "      <td>...</td>\n",
       "      <td>...</td>\n",
       "      <td>...</td>\n",
       "      <td>...</td>\n",
       "      <td>...</td>\n",
       "      <td>...</td>\n",
       "    </tr>\n",
       "    <tr>\n",
       "      <th>53649</th>\n",
       "      <td>56 and Above</td>\n",
       "      <td>Field Contact</td>\n",
       "      <td>-</td>\n",
       "      <td>1977</td>\n",
       "      <td>M</td>\n",
       "      <td>White</td>\n",
       "      <td>Black or African American</td>\n",
       "      <td>Male</td>\n",
       "      <td>04:11:19.0000000</td>\n",
       "      <td>N</td>\n",
       "      <td>N</td>\n",
       "      <td>September</td>\n",
       "      <td>2022</td>\n",
       "    </tr>\n",
       "    <tr>\n",
       "      <th>53650</th>\n",
       "      <td>56 and Above</td>\n",
       "      <td>Arrest</td>\n",
       "      <td>-</td>\n",
       "      <td>1996</td>\n",
       "      <td>M</td>\n",
       "      <td>White</td>\n",
       "      <td>Black or African American</td>\n",
       "      <td>Male</td>\n",
       "      <td>01:53:14.0000000</td>\n",
       "      <td>Y</td>\n",
       "      <td>N</td>\n",
       "      <td>September</td>\n",
       "      <td>2022</td>\n",
       "    </tr>\n",
       "    <tr>\n",
       "      <th>53651</th>\n",
       "      <td>56 and Above</td>\n",
       "      <td>Field Contact</td>\n",
       "      <td>-</td>\n",
       "      <td>1973</td>\n",
       "      <td>M</td>\n",
       "      <td>White</td>\n",
       "      <td>Asian</td>\n",
       "      <td>Female</td>\n",
       "      <td>12:57:21.0000000</td>\n",
       "      <td>N</td>\n",
       "      <td>N</td>\n",
       "      <td>September</td>\n",
       "      <td>2022</td>\n",
       "    </tr>\n",
       "    <tr>\n",
       "      <th>53652</th>\n",
       "      <td>56 and Above</td>\n",
       "      <td>Field Contact</td>\n",
       "      <td>-</td>\n",
       "      <td>1978</td>\n",
       "      <td>M</td>\n",
       "      <td>White</td>\n",
       "      <td>White</td>\n",
       "      <td>Male</td>\n",
       "      <td>02:33:21.0000000</td>\n",
       "      <td>N</td>\n",
       "      <td>N</td>\n",
       "      <td>September</td>\n",
       "      <td>2022</td>\n",
       "    </tr>\n",
       "    <tr>\n",
       "      <th>53653</th>\n",
       "      <td>56 and Above</td>\n",
       "      <td>Field Contact</td>\n",
       "      <td>-</td>\n",
       "      <td>1995</td>\n",
       "      <td>M</td>\n",
       "      <td>White</td>\n",
       "      <td>Black or African American</td>\n",
       "      <td>Male</td>\n",
       "      <td>23:21:54.0000000</td>\n",
       "      <td>N</td>\n",
       "      <td>N</td>\n",
       "      <td>September</td>\n",
       "      <td>2022</td>\n",
       "    </tr>\n",
       "  </tbody>\n",
       "</table>\n",
       "<p>53581 rows × 13 columns</p>\n",
       "</div>"
      ],
      "text/plain": [
       "         subject_age_group stop_resolution weapon_type  officer_yob  \\\n",
       "0      Unknown Subject Age   Field Contact           -         1973   \n",
       "1      Unknown Subject Age   Field Contact           -         1988   \n",
       "2      Unknown Subject Age          Arrest        None         1984   \n",
       "3      Unknown Subject Age   Field Contact        None         1965   \n",
       "4      Unknown Subject Age   Field Contact        None         1961   \n",
       "...                    ...             ...         ...          ...   \n",
       "53649         56 and Above   Field Contact           -         1977   \n",
       "53650         56 and Above          Arrest           -         1996   \n",
       "53651         56 and Above   Field Contact           -         1973   \n",
       "53652         56 and Above   Field Contact           -         1978   \n",
       "53653         56 and Above   Field Contact           -         1995   \n",
       "\n",
       "      officer_gender               officer_race     subject_perceived_race  \\\n",
       "0                  M                      White                  DUPLICATE   \n",
       "1                  M                      Asian                  DUPLICATE   \n",
       "2                  M  Black or African American                      Asian   \n",
       "3                  M                      White                          -   \n",
       "4                  M                      White                      White   \n",
       "...              ...                        ...                        ...   \n",
       "53649              M                      White  Black or African American   \n",
       "53650              M                      White  Black or African American   \n",
       "53651              M                      White                      Asian   \n",
       "53652              M                      White                      White   \n",
       "53653              M                      White  Black or African American   \n",
       "\n",
       "      subject_perceived_gender     reported_time arrest_flag frisk_flag  \\\n",
       "0                    DUPLICATE  09:34:02.0000000           N          Y   \n",
       "1                    DUPLICATE  19:20:16.0000000           N          Y   \n",
       "2                         Male  11:32:00.0000000           N          N   \n",
       "3                            -  07:59:00.0000000           N          N   \n",
       "4                         Male  19:12:00.0000000           N          -   \n",
       "...                        ...               ...         ...        ...   \n",
       "53649                     Male  04:11:19.0000000           N          N   \n",
       "53650                     Male  01:53:14.0000000           Y          N   \n",
       "53651                   Female  12:57:21.0000000           N          N   \n",
       "53652                     Male  02:33:21.0000000           N          N   \n",
       "53653                     Male  23:21:54.0000000           N          N   \n",
       "\n",
       "      reported_month  reported_year  \n",
       "0              March           2022  \n",
       "1          September           2022  \n",
       "2            October           2015  \n",
       "3              March           2015  \n",
       "4              March           2015  \n",
       "...              ...            ...  \n",
       "53649      September           2022  \n",
       "53650      September           2022  \n",
       "53651      September           2022  \n",
       "53652      September           2022  \n",
       "53653      September           2022  \n",
       "\n",
       "[53581 rows x 13 columns]"
      ]
     },
     "execution_count": 30,
     "metadata": {},
     "output_type": "execute_result"
    }
   ],
   "source": [
    "terry_stops= terry_stops.drop('reported_date', axis=1)\n",
    "terry_stops"
   ]
  },
  {
   "cell_type": "code",
   "execution_count": 31,
   "metadata": {},
   "outputs": [],
   "source": [
    "#creating a new column for officer age\n",
    "terry_stops['officer_age']= terry_stops['reported_year'] - terry_stops['officer_yob']\n",
    "#drop the column for officer year of birth\n",
    "terry_stops = terry_stops.drop('officer_yob', axis=1)"
   ]
  },
  {
   "cell_type": "code",
   "execution_count": 32,
   "metadata": {},
   "outputs": [
    {
     "data": {
      "text/plain": [
       "night        17976\n",
       "morning      13831\n",
       "afternoon    12024\n",
       "evening       9750\n",
       "Name: reported_time, dtype: int64"
      ]
     },
     "execution_count": 32,
     "metadata": {},
     "output_type": "execute_result"
    }
   ],
   "source": [
    "# We sliced through the 'reported_time' column and only picked the hours\n",
    "terry_stops['reported_time']= terry_stops['reported_time'].apply(lambda x:x[:2])\n",
    "\n",
    "# We converted the hours to integer type\n",
    "terry_stops['reported_time']= terry_stops['reported_time'].astype('int')\n",
    "\n",
    "# We assigned different hours to their respectives times in the day\n",
    "terry_stops['reported_time'] = terry_stops['reported_time'].replace([5, 6, 7, 8, 9, 10, 11, 12], 'morning')\n",
    "terry_stops['reported_time'] = terry_stops['reported_time'].replace([13, 14, 15, 16, 17], 'afternoon')\n",
    "terry_stops['reported_time'] = terry_stops['reported_time'].replace([18, 19, 20, 21], 'evening')\n",
    "terry_stops['reported_time'] = terry_stops['reported_time'].replace([22, 23, 0, 1, 2, 3, 4], 'night')\n",
    "terry_stops['reported_time'].value_counts()"
   ]
  },
  {
   "cell_type": "code",
   "execution_count": 33,
   "metadata": {
    "scrolled": true
   },
   "outputs": [
    {
     "name": "stdout",
     "output_type": "stream",
     "text": [
      "<class 'pandas.core.frame.DataFrame'>\n",
      "Int64Index: 53581 entries, 0 to 53653\n",
      "Data columns (total 13 columns):\n",
      " #   Column                    Non-Null Count  Dtype \n",
      "---  ------                    --------------  ----- \n",
      " 0   subject_age_group         53581 non-null  object\n",
      " 1   stop_resolution           53581 non-null  object\n",
      " 2   weapon_type               53581 non-null  object\n",
      " 3   officer_gender            53581 non-null  object\n",
      " 4   officer_race              53581 non-null  object\n",
      " 5   subject_perceived_race    53581 non-null  object\n",
      " 6   subject_perceived_gender  53581 non-null  object\n",
      " 7   reported_time             53581 non-null  object\n",
      " 8   arrest_flag               53581 non-null  object\n",
      " 9   frisk_flag                53581 non-null  object\n",
      " 10  reported_month            53581 non-null  object\n",
      " 11  reported_year             53581 non-null  int64 \n",
      " 12  officer_age               53581 non-null  int64 \n",
      "dtypes: int64(2), object(11)\n",
      "memory usage: 5.7+ MB\n"
     ]
    }
   ],
   "source": [
    "terry_stops.info()"
   ]
  },
  {
   "cell_type": "code",
   "execution_count": 34,
   "metadata": {},
   "outputs": [
    {
     "data": {
      "text/plain": [
       "None           50375\n",
       "Non-Firearm     2642\n",
       "Firearm          564\n",
       "Name: weapon_type, dtype: int64"
      ]
     },
     "execution_count": 34,
     "metadata": {},
     "output_type": "execute_result"
    }
   ],
   "source": [
    "terry_stops['weapon_type'].replace({'-' : 'None', 'Lethal Cutting Instrument': 'Non-Firearm','Knife/Cutting/Stabbing Instrument': 'Non-Firearm', 'Handgun' : 'Firearm', 'Blunt Object/Striking Implement': 'Non-Firearm',\n",
    "                          'Firearm Other':'Firearm', 'Club, Blackjack, Brass Knuckles': 'Non-Firearm', 'Mace/Pepper Spray': 'Non-Firearm',\n",
    "                          'Other Firearm': 'Firearm', 'Firearm (unk type)':'Firearm', 'Taser/Stun Gun':'Non-Firearm', 'Fire/Incendiary Device':'Non-Firearm',\n",
    "                          'None/Not Applicable':'None', 'Club':'Non-Firearm', 'Rifle':'Firearm', 'Shotgun':'Firearm', 'Automatic Handgun':'Firearm',\n",
    "                          'Personal Weapons (hands, feet, etc.)':'Non-Firearm', 'Brass Knuckles':'Non-Firearm', 'Blackjack':'Non-Firearm' }, inplace = True)\n",
    "terry_stops['weapon_type'].value_counts()"
   ]
  },
  {
   "cell_type": "code",
   "execution_count": 35,
   "metadata": {},
   "outputs": [],
   "source": [
    "#replacing missing values with N\n",
    "terry_stops[\"frisk_flag\"].replace({\"-\":\"N\"},inplace = True)\n"
   ]
  },
  {
   "cell_type": "code",
   "execution_count": 36,
   "metadata": {},
   "outputs": [],
   "source": [
    "# We replaced the 'unkown' values with 'Not Specified'\n",
    "terry_stops['officer_race'].replace({'Unknown':'Unknown Officer Race'}, inplace = True)"
   ]
  },
  {
   "cell_type": "code",
   "execution_count": 37,
   "metadata": {},
   "outputs": [],
   "source": [
    "# We have replaced all the missing and duplicated values with unkown\n",
    "terry_stops[\"subject_perceived_race\"].replace({\"Other\":\"Unknown Subject Race\",\"DUPLICATE\":\"Unknown Subject Race\",\"-\":\"Unknown Subject Race\",\n",
    "                                               'Black or African American':'Subject Black or African American', 'White':'Subject White',\n",
    "                                               'American Indian or Alaska Native':'Subject American Indian or Alaska Native', 'Asian': 'Subject Asian',\n",
    "                                               'Hispanic':'Subject Hispanic','Native Hawaiian or Other Pacific Islander': 'Subject Native Hawaiian or Other Pacific Islander'}, inplace=True)"
   ]
  },
  {
   "cell_type": "code",
   "execution_count": 38,
   "metadata": {},
   "outputs": [],
   "source": [
    "# We have replaced the missing and unkown values with unkown\n",
    "terry_stops['subject_perceived_gender'].replace({'-': 'Unknown Subject Gender', 'Unable to Determine': 'Unknown Subject Gender', 'DUPLICATE': 'Unknown Subject Gender' }, inplace=True)\n"
   ]
  },
  {
   "cell_type": "markdown",
   "metadata": {},
   "source": [
    "### Checking for Outliers"
   ]
  },
  {
   "cell_type": "code",
   "execution_count": 39,
   "metadata": {},
   "outputs": [
    {
     "data": {
      "image/png": "[encoded data removed]",
      "text/plain": [
       "<Figure size 864x576 with 1 Axes>"
      ]
     },
     "metadata": {
      "needs_background": "light"
     },
     "output_type": "display_data"
    }
   ],
   "source": [
    "plt.figure(figsize=(12,8))\n",
    "\n",
    "sns.boxplot(x = 'officer_age', data = terry_stops)\n",
    "\n",
    "# Display the plot\n",
    "plt.show()"
   ]
  },
  {
   "cell_type": "markdown",
   "metadata": {},
   "source": [
    "### Dealing with Outliers"
   ]
  },
  {
   "cell_type": "code",
   "execution_count": 41,
   "metadata": {},
   "outputs": [
    {
     "data": {
      "text/plain": [
       "65"
      ]
     },
     "execution_count": 41,
     "metadata": {},
     "output_type": "execute_result"
    }
   ],
   "source": [
    "terry_stops = terry_stops[terry_stops['officer_age']<=65]\n",
    "terry_stops['officer_age'].max()"
   ]
  },
  {
   "cell_type": "markdown",
   "metadata": {},
   "source": [
    "## Exploratory Data Analysis (EDA)\n",
    "   \n",
    " ### Univariate Analysis"
   ]
  },
  {
   "cell_type": "code",
   "execution_count": 42,
   "metadata": {},
   "outputs": [
    {
     "data": {
      "image/png": "[encoded data removed]",
      "text/plain": [
       "<Figure size 864x576 with 1 Axes>"
      ]
     },
     "metadata": {},
     "output_type": "display_data"
    }
   ],
   "source": [
    "plt.figure(figsize=(12,8))\n",
    "terry_stops['subject_age_group'].value_counts().plot(kind='bar')\n",
    "plt.suptitle(\"Subject Age Distribution\")\n",
    "plt.xlabel(\"Age Groups\")\n",
    "plt.ylabel(\"Counts\")\n",
    "plt.show()"
   ]
  },
  {
   "cell_type": "code",
   "execution_count": 43,
   "metadata": {},
   "outputs": [
    {
     "data": {
      "text/plain": [
       "Index(['subject_age_group', 'stop_resolution', 'weapon_type', 'officer_gender',\n",
       "       'officer_race', 'subject_perceived_race', 'subject_perceived_gender',\n",
       "       'reported_time', 'arrest_flag', 'frisk_flag', 'reported_month',\n",
       "       'reported_year', 'officer_age'],\n",
       "      dtype='object')"
      ]
     },
     "execution_count": 43,
     "metadata": {},
     "output_type": "execute_result"
    }
   ],
   "source": [
    "terry_stops.columns"
   ]
  },
  {
   "cell_type": "code",
   "execution_count": 44,
   "metadata": {},
   "outputs": [
    {
     "data": {
      "image/png": "[encoded data removed]",
      "text/plain": [
       "<Figure size 864x576 with 1 Axes>"
      ]
     },
     "metadata": {},
     "output_type": "display_data"
    }
   ],
   "source": [
    "plt.figure(figsize=(12,8))\n",
    "terry_stops['weapon_type'].value_counts().plot(kind='bar')\n",
    "plt.suptitle(\"Weapon Type Distribution\")\n",
    "plt.xlabel(\"Type of Weapon\")\n",
    "plt.ylabel(\"Counts\")\n",
    "plt.show()"
   ]
  },
  {
   "cell_type": "code",
   "execution_count": 45,
   "metadata": {},
   "outputs": [
    {
     "data": {
      "image/png": "[encoded data removed]",
      "text/plain": [
       "<Figure size 864x576 with 1 Axes>"
      ]
     },
     "metadata": {},
     "output_type": "display_data"
    }
   ],
   "source": [
    "plt.figure(figsize=(12,8))\n",
    "colors=['#0818A8']\n",
    "terry_stops['reported_month'].value_counts().plot(kind='bar', color=colors)\n",
    "plt.suptitle(\"Reported Month Distribution\")\n",
    "plt.xlabel(\"Months\")\n",
    "plt.ylabel(\"Counts\")\n",
    "plt.show()"
   ]
  },
  {
   "cell_type": "code",
   "execution_count": 46,
   "metadata": {},
   "outputs": [
    {
     "data": {
      "image/png": "[encoded data removed]",
      "text/plain": [
       "<Figure size 720x432 with 1 Axes>"
      ]
     },
     "metadata": {},
     "output_type": "display_data"
    }
   ],
   "source": [
    "plt.figure(figsize=(10,6))\n",
    "c= ['black','blue']\n",
    "terry_stops['reported_time'].value_counts().plot(kind='bar',color=c)\n",
    "plt.suptitle(\"Reported Time Distribution\")\n",
    "plt.xlabel(\"Time\")\n",
    "plt.ylabel(\"Counts\")\n",
    "plt.xticks(rotation=0)\n",
    "plt.show()"
   ]
  },
  {
   "cell_type": "code",
   "execution_count": 47,
   "metadata": {},
   "outputs": [
    {
     "data": {
      "image/png": "[encoded data removed]",
      "text/plain": [
       "<Figure size 720x432 with 1 Axes>"
      ]
     },
     "metadata": {},
     "output_type": "display_data"
    }
   ],
   "source": [
    "plt.figure(figsize=(10,6))\n",
    "color= '#7eb54e'\n",
    "terry_stops['stop_resolution'].value_counts().plot(kind='bar',color=color);\n",
    "plt.suptitle(\"Stop Resolution\")\n",
    "plt.xlabel(\"Resolution\")\n",
    "plt.ylabel(\"Counts\");"
   ]
  },
  {
   "cell_type": "code",
   "execution_count": 147,
   "metadata": {},
   "outputs": [
    {
     "data": {
      "image/png": "[encoded data removed]",
      "text/plain": [
       "<Figure size 1080x432 with 1 Axes>"
      ]
     },
     "metadata": {},
     "output_type": "display_data"
    }
   ],
   "source": [
    "labels = 'Arrested', 'Not Arrested'\n",
    "sizes = [terry_stops['arrest_flag'].sum(), (len(terry_stops['arrest_flag'])-terry_stops['arrest_flag'].sum())]\n",
    "explode = (0.1, 0)  \n",
    "fig1, ax1 = plt.subplots(figsize=(15,6))\n",
    "ax1.pie(sizes, explode=explode, colors = ['orange','green'],labels=labels, autopct='%1.1f%%',\n",
    "        shadow=True, startangle=90,textprops={'fontsize': 15})\n",
    "\n",
    "plt.show();"
   ]
  },
  {
   "cell_type": "code",
   "execution_count": 49,
   "metadata": {},
   "outputs": [
    {
     "data": {
      "image/png": "[encoded data removed]",
      "text/plain": [
       "<Figure size 864x576 with 1 Axes>"
      ]
     },
     "metadata": {},
     "output_type": "display_data"
    }
   ],
   "source": [
    "plt.figure(figsize=(12,8))\n",
    "terry_stops['frisk_flag'].value_counts().plot(kind='bar')\n",
    "plt.suptitle(\"Frisk Flag Distribution\")\n",
    "plt.xlabel(\"Frisk Flag\")\n",
    "plt.ylabel(\"Counts\")\n",
    "plt.xticks(rotation=0)\n",
    "plt.show()"
   ]
  },
  {
   "cell_type": "code",
   "execution_count": 50,
   "metadata": {},
   "outputs": [
    {
     "data": {
      "image/png": "[encoded data removed]",
      "text/plain": [
       "<Figure size 864x576 with 1 Axes>"
      ]
     },
     "metadata": {},
     "output_type": "display_data"
    }
   ],
   "source": [
    "plt.figure(figsize=(12,8))\n",
    "terry_stops['officer_age'].value_counts().plot(kind='bar')\n",
    "plt.suptitle(\"Officer Age Distribution\")\n",
    "plt.xlabel(\"Age\")\n",
    "plt.ylabel(\"Counts\")\n",
    "plt.show()"
   ]
  },
  {
   "cell_type": "code",
   "execution_count": 51,
   "metadata": {},
   "outputs": [
    {
     "data": {
      "image/png": "[encoded data removed]",
      "text/plain": [
       "<Figure size 864x576 with 1 Axes>"
      ]
     },
     "metadata": {},
     "output_type": "display_data"
    }
   ],
   "source": [
    "plt.figure(figsize=(12,8))\n",
    "terry_stops['subject_perceived_race'].value_counts().plot(kind='bar')\n",
    "plt.suptitle(\"Subject Perceived Race Distribution\")\n",
    "plt.xlabel(\"Race\")\n",
    "plt.ylabel(\"Counts\")\n",
    "plt.show()"
   ]
  },
  {
   "cell_type": "code",
   "execution_count": 52,
   "metadata": {},
   "outputs": [
    {
     "data": {
      "image/png": "[encoded data removed]",
      "text/plain": [
       "<Figure size 864x576 with 1 Axes>"
      ]
     },
     "metadata": {},
     "output_type": "display_data"
    }
   ],
   "source": [
    "plt.figure(figsize=(12,8))\n",
    "terry_stops['officer_race'].value_counts().plot(kind='bar')\n",
    "plt.suptitle(\"Officer Race Distribution\")\n",
    "plt.xlabel(\"Race of the Officer\")\n",
    "plt.ylabel(\"Counts\")\n",
    "plt.show()"
   ]
  },
  {
   "cell_type": "markdown",
   "metadata": {},
   "source": [
    "### Bivariate Analysis"
   ]
  },
  {
   "cell_type": "code",
   "execution_count": 53,
   "metadata": {
    "scrolled": false
   },
   "outputs": [
    {
     "data": {
      "image/png": "[encoded data removed]",
      "text/plain": [
       "<Figure size 1152x864 with 1 Axes>"
      ]
     },
     "metadata": {},
     "output_type": "display_data"
    }
   ],
   "source": [
    "df = terry_stops[['officer_age', 'arrest_flag']]\n",
    "df =df.groupby(['officer_age', 'arrest_flag']).size()\n",
    "df =df.unstack()\n",
    "df.plot(kind='bar')\n",
    "plt.ylabel('Count of Arrest Flags', fontsize = 20)\n",
    "plt.xlabel('Age of the Officers', fontsize = 20)\n",
    "plt.suptitle('Distribution of Arrest Flag and Officer Age');"
   ]
  },
  {
   "cell_type": "code",
   "execution_count": 54,
   "metadata": {},
   "outputs": [
    {
     "data": {
      "text/plain": [
       "<AxesSubplot:xlabel='subject_age_group'>"
      ]
     },
     "execution_count": 54,
     "metadata": {},
     "output_type": "execute_result"
    },
    {
     "data": {
      "image/png": "[encoded data removed]",
      "text/plain": [
       "<Figure size 1152x864 with 1 Axes>"
      ]
     },
     "metadata": {},
     "output_type": "display_data"
    }
   ],
   "source": [
    "df = terry_stops[['subject_age_group', 'weapon_type']]\n",
    "df =df.groupby(['subject_age_group', 'weapon_type']).size()\n",
    "df =df.unstack()\n",
    "df.plot(kind='bar')"
   ]
  },
  {
   "cell_type": "code",
   "execution_count": 116,
   "metadata": {},
   "outputs": [
    {
     "data": {
      "image/png": "[encoded data removed]",
      "text/plain": [
       "<Figure size 864x576 with 1 Axes>"
      ]
     },
     "metadata": {
      "needs_background": "light"
     },
     "output_type": "display_data"
    }
   ],
   "source": [
    "plt.figure(figsize = (12,8))\n",
    "sns.countplot(y=terry_stops['subject_perceived_race'], hue=terry_stops['stop_resolution'])\n",
    "plt.title('Officer Race vs. Stop Resolution')\n",
    "plt.xlabel(\"Counts\")\n",
    "plt.ylabel(\"Subject Percieved Race\")\n",
    "plt.show()"
   ]
  },
  {
   "cell_type": "code",
   "execution_count": 117,
   "metadata": {},
   "outputs": [
    {
     "data": {
      "image/png": "[encoded data removed]",
      "text/plain": [
       "<Figure size 864x576 with 1 Axes>"
      ]
     },
     "metadata": {
      "needs_background": "light"
     },
     "output_type": "display_data"
    }
   ],
   "source": [
    "plt.figure(figsize = (12,8))\n",
    "sns.countplot(y=terry_stops['subject_perceived_race'], hue=terry_stops['frisk_flag'])\n",
    "plt.title('Subject Race vs. Frisk Flag')\n",
    "plt.xlabel(\"Frisk Flag\")\n",
    "plt.ylabel(\"Subject Percieved Race\")\n",
    "plt.show()"
   ]
  },
  {
   "cell_type": "code",
   "execution_count": 120,
   "metadata": {},
   "outputs": [
    {
     "data": {
      "image/png": "[encoded data removed]",
      "text/plain": [
       "<Figure size 864x576 with 1 Axes>"
      ]
     },
     "metadata": {
      "needs_background": "light"
     },
     "output_type": "display_data"
    }
   ],
   "source": [
    "plt.figure(figsize = (12,8))\n",
    "sns.countplot(y=terry_stops['subject_perceived_race'], hue=terry_stops['arrest_flag'])\n",
    "plt.title('Subject Race vs. Arrest Flag')\n",
    "plt.xlabel(\"Arrest Flag\")\n",
    "plt.ylabel(\"Subject Percieved Race\")\n",
    "plt.show()"
   ]
  },
  {
   "cell_type": "code",
   "execution_count": 119,
   "metadata": {},
   "outputs": [
    {
     "data": {
      "text/plain": [
       "<Figure size 864x576 with 0 Axes>"
      ]
     },
     "metadata": {},
     "output_type": "display_data"
    },
    {
     "data": {
      "image/png": "[encoded data removed]",
      "text/plain": [
       "<Figure size 432x288 with 1 Axes>"
      ]
     },
     "metadata": {
      "needs_background": "light"
     },
     "output_type": "display_data"
    }
   ],
   "source": [
    "plt.figure(figsize = (12,8))\n",
    "df = terry_stops[['stop_resolution', 'frisk_flag']]\n",
    "df =df.groupby(['stop_resolution', 'frisk_flag']).size()\n",
    "df =df.unstack()\n",
    "df.plot(kind='bar');"
   ]
  },
  {
   "cell_type": "markdown",
   "metadata": {},
   "source": [
    "# Modeling\n",
    "### Modeling Preprocessing\n",
    "#### Converting the target variable to binary."
   ]
  },
  {
   "cell_type": "code",
   "execution_count": 55,
   "metadata": {
    "scrolled": false
   },
   "outputs": [
    {
     "data": {
      "text/html": [
       "<div>\n",
       "<style scoped>\n",
       "    .dataframe tbody tr th:only-of-type {\n",
       "        vertical-align: middle;\n",
       "    }\n",
       "\n",
       "    .dataframe tbody tr th {\n",
       "        vertical-align: top;\n",
       "    }\n",
       "\n",
       "    .dataframe thead th {\n",
       "        text-align: right;\n",
       "    }\n",
       "</style>\n",
       "<table border=\"1\" class=\"dataframe\">\n",
       "  <thead>\n",
       "    <tr style=\"text-align: right;\">\n",
       "      <th></th>\n",
       "      <th>subject_age_group</th>\n",
       "      <th>stop_resolution</th>\n",
       "      <th>weapon_type</th>\n",
       "      <th>officer_gender</th>\n",
       "      <th>officer_race</th>\n",
       "      <th>subject_perceived_race</th>\n",
       "      <th>subject_perceived_gender</th>\n",
       "      <th>reported_time</th>\n",
       "      <th>arrest_flag</th>\n",
       "      <th>frisk_flag</th>\n",
       "      <th>reported_month</th>\n",
       "      <th>reported_year</th>\n",
       "      <th>officer_age</th>\n",
       "    </tr>\n",
       "  </thead>\n",
       "  <tbody>\n",
       "    <tr>\n",
       "      <th>0</th>\n",
       "      <td>Unknown Subject Age</td>\n",
       "      <td>Field Contact</td>\n",
       "      <td>None</td>\n",
       "      <td>M</td>\n",
       "      <td>White</td>\n",
       "      <td>Unknown Subject Race</td>\n",
       "      <td>Unknown Subject Gender</td>\n",
       "      <td>morning</td>\n",
       "      <td>0</td>\n",
       "      <td>Y</td>\n",
       "      <td>March</td>\n",
       "      <td>2022</td>\n",
       "      <td>49</td>\n",
       "    </tr>\n",
       "    <tr>\n",
       "      <th>1</th>\n",
       "      <td>Unknown Subject Age</td>\n",
       "      <td>Field Contact</td>\n",
       "      <td>None</td>\n",
       "      <td>M</td>\n",
       "      <td>Asian</td>\n",
       "      <td>Unknown Subject Race</td>\n",
       "      <td>Unknown Subject Gender</td>\n",
       "      <td>evening</td>\n",
       "      <td>0</td>\n",
       "      <td>Y</td>\n",
       "      <td>September</td>\n",
       "      <td>2022</td>\n",
       "      <td>34</td>\n",
       "    </tr>\n",
       "    <tr>\n",
       "      <th>2</th>\n",
       "      <td>Unknown Subject Age</td>\n",
       "      <td>Arrest</td>\n",
       "      <td>None</td>\n",
       "      <td>M</td>\n",
       "      <td>Black or African American</td>\n",
       "      <td>Subject Asian</td>\n",
       "      <td>Male</td>\n",
       "      <td>morning</td>\n",
       "      <td>0</td>\n",
       "      <td>N</td>\n",
       "      <td>October</td>\n",
       "      <td>2015</td>\n",
       "      <td>31</td>\n",
       "    </tr>\n",
       "    <tr>\n",
       "      <th>3</th>\n",
       "      <td>Unknown Subject Age</td>\n",
       "      <td>Field Contact</td>\n",
       "      <td>None</td>\n",
       "      <td>M</td>\n",
       "      <td>White</td>\n",
       "      <td>Unknown Subject Race</td>\n",
       "      <td>Unknown Subject Gender</td>\n",
       "      <td>morning</td>\n",
       "      <td>0</td>\n",
       "      <td>N</td>\n",
       "      <td>March</td>\n",
       "      <td>2015</td>\n",
       "      <td>50</td>\n",
       "    </tr>\n",
       "    <tr>\n",
       "      <th>4</th>\n",
       "      <td>Unknown Subject Age</td>\n",
       "      <td>Field Contact</td>\n",
       "      <td>None</td>\n",
       "      <td>M</td>\n",
       "      <td>White</td>\n",
       "      <td>Subject White</td>\n",
       "      <td>Male</td>\n",
       "      <td>evening</td>\n",
       "      <td>0</td>\n",
       "      <td>N</td>\n",
       "      <td>March</td>\n",
       "      <td>2015</td>\n",
       "      <td>54</td>\n",
       "    </tr>\n",
       "    <tr>\n",
       "      <th>...</th>\n",
       "      <td>...</td>\n",
       "      <td>...</td>\n",
       "      <td>...</td>\n",
       "      <td>...</td>\n",
       "      <td>...</td>\n",
       "      <td>...</td>\n",
       "      <td>...</td>\n",
       "      <td>...</td>\n",
       "      <td>...</td>\n",
       "      <td>...</td>\n",
       "      <td>...</td>\n",
       "      <td>...</td>\n",
       "      <td>...</td>\n",
       "    </tr>\n",
       "    <tr>\n",
       "      <th>53649</th>\n",
       "      <td>56 and Above</td>\n",
       "      <td>Field Contact</td>\n",
       "      <td>None</td>\n",
       "      <td>M</td>\n",
       "      <td>White</td>\n",
       "      <td>Subject Black or African American</td>\n",
       "      <td>Male</td>\n",
       "      <td>night</td>\n",
       "      <td>0</td>\n",
       "      <td>N</td>\n",
       "      <td>September</td>\n",
       "      <td>2022</td>\n",
       "      <td>45</td>\n",
       "    </tr>\n",
       "    <tr>\n",
       "      <th>53650</th>\n",
       "      <td>56 and Above</td>\n",
       "      <td>Arrest</td>\n",
       "      <td>None</td>\n",
       "      <td>M</td>\n",
       "      <td>White</td>\n",
       "      <td>Subject Black or African American</td>\n",
       "      <td>Male</td>\n",
       "      <td>night</td>\n",
       "      <td>1</td>\n",
       "      <td>N</td>\n",
       "      <td>September</td>\n",
       "      <td>2022</td>\n",
       "      <td>26</td>\n",
       "    </tr>\n",
       "    <tr>\n",
       "      <th>53651</th>\n",
       "      <td>56 and Above</td>\n",
       "      <td>Field Contact</td>\n",
       "      <td>None</td>\n",
       "      <td>M</td>\n",
       "      <td>White</td>\n",
       "      <td>Subject Asian</td>\n",
       "      <td>Female</td>\n",
       "      <td>morning</td>\n",
       "      <td>0</td>\n",
       "      <td>N</td>\n",
       "      <td>September</td>\n",
       "      <td>2022</td>\n",
       "      <td>49</td>\n",
       "    </tr>\n",
       "    <tr>\n",
       "      <th>53652</th>\n",
       "      <td>56 and Above</td>\n",
       "      <td>Field Contact</td>\n",
       "      <td>None</td>\n",
       "      <td>M</td>\n",
       "      <td>White</td>\n",
       "      <td>Subject White</td>\n",
       "      <td>Male</td>\n",
       "      <td>night</td>\n",
       "      <td>0</td>\n",
       "      <td>N</td>\n",
       "      <td>September</td>\n",
       "      <td>2022</td>\n",
       "      <td>44</td>\n",
       "    </tr>\n",
       "    <tr>\n",
       "      <th>53653</th>\n",
       "      <td>56 and Above</td>\n",
       "      <td>Field Contact</td>\n",
       "      <td>None</td>\n",
       "      <td>M</td>\n",
       "      <td>White</td>\n",
       "      <td>Subject Black or African American</td>\n",
       "      <td>Male</td>\n",
       "      <td>night</td>\n",
       "      <td>0</td>\n",
       "      <td>N</td>\n",
       "      <td>September</td>\n",
       "      <td>2022</td>\n",
       "      <td>27</td>\n",
       "    </tr>\n",
       "  </tbody>\n",
       "</table>\n",
       "<p>53489 rows × 13 columns</p>\n",
       "</div>"
      ],
      "text/plain": [
       "         subject_age_group stop_resolution weapon_type officer_gender  \\\n",
       "0      Unknown Subject Age   Field Contact        None              M   \n",
       "1      Unknown Subject Age   Field Contact        None              M   \n",
       "2      Unknown Subject Age          Arrest        None              M   \n",
       "3      Unknown Subject Age   Field Contact        None              M   \n",
       "4      Unknown Subject Age   Field Contact        None              M   \n",
       "...                    ...             ...         ...            ...   \n",
       "53649         56 and Above   Field Contact        None              M   \n",
       "53650         56 and Above          Arrest        None              M   \n",
       "53651         56 and Above   Field Contact        None              M   \n",
       "53652         56 and Above   Field Contact        None              M   \n",
       "53653         56 and Above   Field Contact        None              M   \n",
       "\n",
       "                    officer_race             subject_perceived_race  \\\n",
       "0                          White               Unknown Subject Race   \n",
       "1                          Asian               Unknown Subject Race   \n",
       "2      Black or African American                      Subject Asian   \n",
       "3                          White               Unknown Subject Race   \n",
       "4                          White                      Subject White   \n",
       "...                          ...                                ...   \n",
       "53649                      White  Subject Black or African American   \n",
       "53650                      White  Subject Black or African American   \n",
       "53651                      White                      Subject Asian   \n",
       "53652                      White                      Subject White   \n",
       "53653                      White  Subject Black or African American   \n",
       "\n",
       "      subject_perceived_gender reported_time  arrest_flag frisk_flag  \\\n",
       "0       Unknown Subject Gender       morning            0          Y   \n",
       "1       Unknown Subject Gender       evening            0          Y   \n",
       "2                         Male       morning            0          N   \n",
       "3       Unknown Subject Gender       morning            0          N   \n",
       "4                         Male       evening            0          N   \n",
       "...                        ...           ...          ...        ...   \n",
       "53649                     Male         night            0          N   \n",
       "53650                     Male         night            1          N   \n",
       "53651                   Female       morning            0          N   \n",
       "53652                     Male         night            0          N   \n",
       "53653                     Male         night            0          N   \n",
       "\n",
       "      reported_month  reported_year  officer_age  \n",
       "0              March           2022           49  \n",
       "1          September           2022           34  \n",
       "2            October           2015           31  \n",
       "3              March           2015           50  \n",
       "4              March           2015           54  \n",
       "...              ...            ...          ...  \n",
       "53649      September           2022           45  \n",
       "53650      September           2022           26  \n",
       "53651      September           2022           49  \n",
       "53652      September           2022           44  \n",
       "53653      September           2022           27  \n",
       "\n",
       "[53489 rows x 13 columns]"
      ]
     },
     "execution_count": 55,
     "metadata": {},
     "output_type": "execute_result"
    }
   ],
   "source": [
    "terry_stops['arrest_flag'] = (terry_stops['arrest_flag']=='Y').astype(int)\n",
    "terry_stops"
   ]
  },
  {
   "cell_type": "markdown",
   "metadata": {},
   "source": [
    "#### Splitting the dataset into training and testing data."
   ]
  },
  {
   "cell_type": "code",
   "execution_count": 56,
   "metadata": {},
   "outputs": [],
   "source": [
    "X = terry_stops.drop('arrest_flag', axis =1)\n",
    "y = terry_stops['arrest_flag']"
   ]
  },
  {
   "cell_type": "code",
   "execution_count": 57,
   "metadata": {},
   "outputs": [],
   "source": [
    "X_train, X_test, y_train, y_test = train_test_split(X, y, test_size = 0.2, random_state = 6)"
   ]
  },
  {
   "cell_type": "code",
   "execution_count": 85,
   "metadata": {},
   "outputs": [
    {
     "data": {
      "text/plain": [
       "0    0.908579\n",
       "1    0.091421\n",
       "Name: arrest_flag, dtype: float64"
      ]
     },
     "execution_count": 85,
     "metadata": {},
     "output_type": "execute_result"
    }
   ],
   "source": [
    "# Checking the class imbalance of our target variable\n",
    "terry_stops['arrest_flag'].value_counts(normalize=True)"
   ]
  },
  {
   "cell_type": "markdown",
   "metadata": {},
   "source": [
    "#### Performing a SMOTENC analysis to deal with class imbalance.\n",
    "\n",
    "Our dataset had a large imbalance, with 90.8% of the cleaned data leading to no arrests. To deal with this, we utilized SMOTENC as almost all of our features were categorical. Because of such an imbalance, we needed to take into consideration F1 score and not Accuracy during modeling since we want both high precision and recall.\n",
    "\n",
    "SMOTE-NC is a tool to generate synthetic data to oversample a minority target class in an imbalanced dataset. We only apply it to the training dataset in order to avoid introducing bias to the model\n"
   ]
  },
  {
   "cell_type": "code",
   "execution_count": 58,
   "metadata": {
    "scrolled": true
   },
   "outputs": [
    {
     "name": "stdout",
     "output_type": "stream",
     "text": [
      "<class 'pandas.core.frame.DataFrame'>\n",
      "Int64Index: 42791 entries, 32620 to 31720\n",
      "Data columns (total 12 columns):\n",
      " #   Column                    Non-Null Count  Dtype \n",
      "---  ------                    --------------  ----- \n",
      " 0   subject_age_group         42791 non-null  object\n",
      " 1   stop_resolution           42791 non-null  object\n",
      " 2   weapon_type               42791 non-null  object\n",
      " 3   officer_gender            42791 non-null  object\n",
      " 4   officer_race              42791 non-null  object\n",
      " 5   subject_perceived_race    42791 non-null  object\n",
      " 6   subject_perceived_gender  42791 non-null  object\n",
      " 7   reported_time             42791 non-null  object\n",
      " 8   frisk_flag                42791 non-null  object\n",
      " 9   reported_month            42791 non-null  object\n",
      " 10  reported_year             42791 non-null  int64 \n",
      " 11  officer_age               42791 non-null  int64 \n",
      "dtypes: int64(2), object(10)\n",
      "memory usage: 4.2+ MB\n"
     ]
    }
   ],
   "source": [
    "X_train.info()"
   ]
  },
  {
   "cell_type": "code",
   "execution_count": 59,
   "metadata": {},
   "outputs": [
    {
     "name": "stdout",
     "output_type": "stream",
     "text": [
      "0    38857\n",
      "1     3934\n",
      "Name: arrest_flag, dtype: int64\n",
      "-----------------------------------------\n",
      "Synthetic sample class distribution: \n",
      "\n",
      "0    38857\n",
      "1    38857\n",
      "Name: arrest_flag, dtype: int64\n"
     ]
    }
   ],
   "source": [
    "# Previous original class distribution\n",
    "print(y_train.value_counts()) \n",
    "\n",
    "# Fit SMOTE to training data\n",
    "smote_nc = SMOTENC(categorical_features=[0,1,2,3,4,5,6,7,8,9], random_state=0)\n",
    "X_train_resampled, y_train_resampled = smote_nc.fit_resample(X_train, y_train)\n",
    "print('-----------------------------------------')\n",
    "print('Synthetic sample class distribution: \\n')\n",
    "print(pd.Series(y_train_resampled).value_counts())"
   ]
  },
  {
   "cell_type": "markdown",
   "metadata": {},
   "source": [
    "### One-Hot Encoding Categorical Data\n",
    "\n",
    "One hot encoding is a process by which categorical variables are converted into a form that could be provided to ML algorithms to do a better job in prediction. We will do this for both the training and the testing data\n"
   ]
  },
  {
   "cell_type": "code",
   "execution_count": 60,
   "metadata": {},
   "outputs": [],
   "source": [
    "# Calling the One Hot Encoding Fucntion\n",
    "ohe = OneHotEncoder(handle_unknown=\"ignore\", sparse=False)\n",
    "# Selecting the Categorical training data from the dataset\n",
    "X_train_categorical = X_train_resampled.select_dtypes(exclude=[\"int64\", \"float64\"]).copy()\n",
    "# Fitting and transforming the training data\n",
    "X_train_ohe = ohe.fit_transform(X_train_categorical)\n",
    "# Selecting the Categorical testing data from the dataset\n",
    "X_test_categorical = X_test.select_dtypes(exclude=[\"int64\", \"float64\"]).copy()\n",
    "# Fitting the testing data\n",
    "X_test_ohe = ohe.transform(X_test_categorical)\n"
   ]
  },
  {
   "cell_type": "code",
   "execution_count": 61,
   "metadata": {},
   "outputs": [],
   "source": [
    "# Converting our One hot encoding datasets to dataframes\n",
    "X_train_ohe_df = pd.DataFrame(X_train_ohe, index=X_train_categorical.index, columns=np.hstack(ohe.categories_))\n",
    "X_test_ohe_df = pd.DataFrame(X_test_ohe, index=X_test_categorical.index, columns=np.hstack(ohe.categories_))"
   ]
  },
  {
   "cell_type": "markdown",
   "metadata": {},
   "source": [
    "### Normalizing the Numerical Data\n",
    "\n",
    "The MinMaxscaler is a type of scaler that scales the minimum and maximum values to be 0 and 1 respectively. We will do this for our numeric data to have the data on the same scale to reduce unfair penalization when modeling. This is done for both the training and testing data. "
   ]
  },
  {
   "cell_type": "code",
   "execution_count": 63,
   "metadata": {},
   "outputs": [],
   "source": [
    "# Selecting the numeric training and testing data\n",
    "numeric_features = ['reported_year', 'officer_age']\n",
    "X_train_numeric = X_train_resampled[numeric_features].copy()\n",
    "X_test_numeric = X_test[numeric_features].copy()"
   ]
  },
  {
   "cell_type": "code",
   "execution_count": 64,
   "metadata": {},
   "outputs": [],
   "source": [
    "# Calling the function\n",
    "scaler = MinMaxScaler()\n",
    "# Fitting and transforming the training data\n",
    "X_train_scaled = scaler.fit_transform(X_train_numeric)\n",
    "# Transforming the testing data\n",
    "X_test_scaled = scaler.transform(X_test_numeric)"
   ]
  },
  {
   "cell_type": "code",
   "execution_count": 65,
   "metadata": {},
   "outputs": [],
   "source": [
    "# Converting the normalized numeric training and testing datasets\n",
    "X_train_numeric_df = pd.DataFrame(X_train_scaled, index=X_train_numeric.index, columns=X_train_numeric.columns)\n",
    "X_test_numeric_df = pd.DataFrame(X_test_scaled, index=X_test_numeric.index, columns=X_test_numeric.columns)\n"
   ]
  },
  {
   "cell_type": "code",
   "execution_count": 66,
   "metadata": {},
   "outputs": [],
   "source": [
    "# Concantenation of the One Hot Encoded Categorical Data and Nomralized Numeric Data for both the training and testing sets\n",
    "X_train_full = pd.concat([X_train_ohe_df, X_train_numeric_df], axis=1)\n",
    "X_test_full = pd.concat([X_test_ohe_df, X_test_numeric_df], axis=1)"
   ]
  },
  {
   "cell_type": "markdown",
   "metadata": {},
   "source": [
    "The following are the training and the testing datasets to be used:\n",
    " 1. X_train_full\n",
    " 2. y_train_resampled\n",
    " 3. X_test_full\n",
    " 4. y_test"
   ]
  },
  {
   "cell_type": "markdown",
   "metadata": {},
   "source": [
    "## Baseline Model.\n",
    "\n",
    "We built a baseline model which will be used to provide a baseline metric that we  will use as a reference point throughout development.\n",
    "### Random Forest Classifier\n",
    "\n",
    "Random Forest is a type of ensemble method for decision trees which are typically more effective when compared with single-model results for supervised learning tasks since its a \"forest\" of decision trees that provides consistently better predictions. We chose this as our baseline model in order to have a reference point with the best possible performance.\n",
    "\n",
    "$$ \\text{Precision} = \\frac{\\text{Number of True Positives}}{\\text{Number of Predicted Positives}} $$\n",
    "\n",
    "\n",
    "$$ \\text{Recall} = \\frac{\\text{Number of True Positives}}{\\text{Number of Actual Total Positives}} $$\n",
    "\n",
    "\n",
    "$$ \\text{Accuracy} = \\frac{\\text{Number of True Positives + True Negatives}}{\\text{Total Observations}} $$\n",
    "\n",
    "\n",
    "$$ \\text{F1 score} = 2 * \\frac{\\text{Precision * Recall}}{\\text{Precision + Recall}} $$\n",
    "\n",
    "\n",
    "Initial Model"
   ]
  },
  {
   "cell_type": "code",
   "execution_count": 114,
   "metadata": {},
   "outputs": [
    {
     "name": "stdout",
     "output_type": "stream",
     "text": [
      "Forest Initial Model F1 score is: 0.9685279187817258\n"
     ]
    }
   ],
   "source": [
    "# Initiated the classifier with the defualt parameters with the exception of the random_state for reproducibility\n",
    "forest = RandomForestClassifier (random_state=6)\n",
    "# Fitting the training data\n",
    "forest.fit(X_train_full, y_train_resampled)\n",
    "# Prediciting the target variable using the testing variables\n",
    "forest_testpreds = forest.predict(X_test_full)\n",
    "forest_f1_score = f1_score(y_test, forest_testpreds)\n",
    "print('Forest Initial Model F1 score is:', forest_f1_score)"
   ]
  },
  {
   "cell_type": "markdown",
   "metadata": {},
   "source": [
    "The range of F1 score is between 0 and 1, with 1 being the best possible socre and 0 being the lowest score. Our model performs really well with a score of 0.97. This means our model has a high precision and recall. \n",
    "\n",
    "* True Negatives: This is when a Terry Stop should not lead to an arrest and our model predicts no arrest\n",
    "* False Positive: This is when a Terry Stop should not lead to an arrest but our model predicts an arrest\n",
    "* False Negative: This is when a Terry Stop should lead to an arrest but our model predicts no arrest\n",
    "* True Positives: This is when a Terry Stop should lead to an arrest and our model predicts an arrest"
   ]
  },
  {
   "cell_type": "code",
   "execution_count": 109,
   "metadata": {},
   "outputs": [
    {
     "data": {
      "image/png": "[encoded data removed]",
      "text/plain": [
       "<Figure size 720x432 with 2 Axes>"
      ]
     },
     "metadata": {
      "needs_background": "light"
     },
     "output_type": "display_data"
    }
   ],
   "source": [
    "# Plotting the Confusion Matrix\n",
    "plt.figure(figsize=(10,6))\n",
    "cf_matrix = confusion_matrix(y_test, forest_testpreds)\n",
    "sns.heatmap(cf_matrix, annot=True, fmt=\"d\")\n",
    "plt.suptitle(\"Random Forest Confusion Matrix\")\n",
    "plt.ylabel('Actual Values')\n",
    "plt.xlabel('Predicted Values');\n"
   ]
  },
  {
   "cell_type": "markdown",
   "metadata": {},
   "source": [
    "Grid SearchCV Random Forest\n",
    "\n",
    "This provides an easy way to tune model parameters through an exhaustive search. We must first create a parameter grid that tells sklearn which parameters to tune, and which values to try for each of those parameters as we've done below"
   ]
  },
  {
   "cell_type": "code",
   "execution_count": 111,
   "metadata": {},
   "outputs": [],
   "source": [
    "# We defined the parameters the Grid Search will tune\n",
    "forest_param = {\n",
    "        'n_estimators': [50, 100, 200], # The number of trees in the forest\n",
    "        'max_features': [0.25, 0.50], # The number of features to consider when looking to split\n",
    "        'max_depth': [5, 7, 9], # The maximum depth of the tree\n",
    "        'criterion': ['gini'] # The function to measure the quality of a split\n",
    "}"
   ]
  },
  {
   "cell_type": "code",
   "execution_count": 113,
   "metadata": {},
   "outputs": [
    {
     "data": {
      "text/html": [
       "<style>#sk-container-id-1 {color: black;background-color: white;}#sk-container-id-1 pre{padding: 0;}#sk-container-id-1 div.sk-toggleable {background-color: white;}#sk-container-id-1 label.sk-toggleable__label {cursor: pointer;display: block;width: 100%;margin-bottom: 0;padding: 0.3em;box-sizing: border-box;text-align: center;}#sk-container-id-1 label.sk-toggleable__label-arrow:before {content: \"▸\";float: left;margin-right: 0.25em;color: #696969;}#sk-container-id-1 label.sk-toggleable__label-arrow:hover:before {color: black;}#sk-container-id-1 div.sk-estimator:hover label.sk-toggleable__label-arrow:before {color: black;}#sk-container-id-1 div.sk-toggleable__content {max-height: 0;max-width: 0;overflow: hidden;text-align: left;background-color: #f0f8ff;}#sk-container-id-1 div.sk-toggleable__content pre {margin: 0.2em;color: black;border-radius: 0.25em;background-color: #f0f8ff;}#sk-container-id-1 input.sk-toggleable__control:checked~div.sk-toggleable__content {max-height: 200px;max-width: 100%;overflow: auto;}#sk-container-id-1 input.sk-toggleable__control:checked~label.sk-toggleable__label-arrow:before {content: \"▾\";}#sk-container-id-1 div.sk-estimator input.sk-toggleable__control:checked~label.sk-toggleable__label {background-color: #d4ebff;}#sk-container-id-1 div.sk-label input.sk-toggleable__control:checked~label.sk-toggleable__label {background-color: #d4ebff;}#sk-container-id-1 input.sk-hidden--visually {border: 0;clip: rect(1px 1px 1px 1px);clip: rect(1px, 1px, 1px, 1px);height: 1px;margin: -1px;overflow: hidden;padding: 0;position: absolute;width: 1px;}#sk-container-id-1 div.sk-estimator {font-family: monospace;background-color: #f0f8ff;border: 1px dotted black;border-radius: 0.25em;box-sizing: border-box;margin-bottom: 0.5em;}#sk-container-id-1 div.sk-estimator:hover {background-color: #d4ebff;}#sk-container-id-1 div.sk-parallel-item::after {content: \"\";width: 100%;border-bottom: 1px solid gray;flex-grow: 1;}#sk-container-id-1 div.sk-label:hover label.sk-toggleable__label {background-color: #d4ebff;}#sk-container-id-1 div.sk-serial::before {content: \"\";position: absolute;border-left: 1px solid gray;box-sizing: border-box;top: 0;bottom: 0;left: 50%;z-index: 0;}#sk-container-id-1 div.sk-serial {display: flex;flex-direction: column;align-items: center;background-color: white;padding-right: 0.2em;padding-left: 0.2em;position: relative;}#sk-container-id-1 div.sk-item {position: relative;z-index: 1;}#sk-container-id-1 div.sk-parallel {display: flex;align-items: stretch;justify-content: center;background-color: white;position: relative;}#sk-container-id-1 div.sk-item::before, #sk-container-id-1 div.sk-parallel-item::before {content: \"\";position: absolute;border-left: 1px solid gray;box-sizing: border-box;top: 0;bottom: 0;left: 50%;z-index: -1;}#sk-container-id-1 div.sk-parallel-item {display: flex;flex-direction: column;z-index: 1;position: relative;background-color: white;}#sk-container-id-1 div.sk-parallel-item:first-child::after {align-self: flex-end;width: 50%;}#sk-container-id-1 div.sk-parallel-item:last-child::after {align-self: flex-start;width: 50%;}#sk-container-id-1 div.sk-parallel-item:only-child::after {width: 0;}#sk-container-id-1 div.sk-dashed-wrapped {border: 1px dashed gray;margin: 0 0.4em 0.5em 0.4em;box-sizing: border-box;padding-bottom: 0.4em;background-color: white;}#sk-container-id-1 div.sk-label label {font-family: monospace;font-weight: bold;display: inline-block;line-height: 1.2em;}#sk-container-id-1 div.sk-label-container {text-align: center;}#sk-container-id-1 div.sk-container {/* jupyter's `normalize.less` sets `[hidden] { display: none; }` but bootstrap.min.css set `[hidden] { display: none !important; }` so we also need the `!important` here to be able to override the default hidden behavior on the sphinx rendered scikit-learn.org. See: https://github.com/scikit-learn/scikit-learn/issues/21755 */display: inline-block !important;position: relative;}#sk-container-id-1 div.sk-text-repr-fallback {display: none;}</style><div id=\"sk-container-id-1\" class=\"sk-top-container\"><div class=\"sk-text-repr-fallback\"><pre>GridSearchCV(cv=3, estimator=RandomForestClassifier(random_state=6),\n",
       "             param_grid={&#x27;criterion&#x27;: [&#x27;gini&#x27;], &#x27;max_depth&#x27;: [5, 7, 9],\n",
       "                         &#x27;max_features&#x27;: [0.25, 0.5],\n",
       "                         &#x27;n_estimators&#x27;: [50, 100, 200]})</pre><b>In a Jupyter environment, please rerun this cell to show the HTML representation or trust the notebook. <br />On GitHub, the HTML representation is unable to render, please try loading this page with nbviewer.org.</b></div><div class=\"sk-container\" hidden><div class=\"sk-item sk-dashed-wrapped\"><div class=\"sk-label-container\"><div class=\"sk-label sk-toggleable\"><input class=\"sk-toggleable__control sk-hidden--visually\" id=\"sk-estimator-id-1\" type=\"checkbox\" ><label for=\"sk-estimator-id-1\" class=\"sk-toggleable__label sk-toggleable__label-arrow\">GridSearchCV</label><div class=\"sk-toggleable__content\"><pre>GridSearchCV(cv=3, estimator=RandomForestClassifier(random_state=6),\n",
       "             param_grid={&#x27;criterion&#x27;: [&#x27;gini&#x27;], &#x27;max_depth&#x27;: [5, 7, 9],\n",
       "                         &#x27;max_features&#x27;: [0.25, 0.5],\n",
       "                         &#x27;n_estimators&#x27;: [50, 100, 200]})</pre></div></div></div><div class=\"sk-parallel\"><div class=\"sk-parallel-item\"><div class=\"sk-item\"><div class=\"sk-label-container\"><div class=\"sk-label sk-toggleable\"><input class=\"sk-toggleable__control sk-hidden--visually\" id=\"sk-estimator-id-2\" type=\"checkbox\" ><label for=\"sk-estimator-id-2\" class=\"sk-toggleable__label sk-toggleable__label-arrow\">estimator: RandomForestClassifier</label><div class=\"sk-toggleable__content\"><pre>RandomForestClassifier(random_state=6)</pre></div></div></div><div class=\"sk-serial\"><div class=\"sk-item\"><div class=\"sk-estimator sk-toggleable\"><input class=\"sk-toggleable__control sk-hidden--visually\" id=\"sk-estimator-id-3\" type=\"checkbox\" ><label for=\"sk-estimator-id-3\" class=\"sk-toggleable__label sk-toggleable__label-arrow\">RandomForestClassifier</label><div class=\"sk-toggleable__content\"><pre>RandomForestClassifier(random_state=6)</pre></div></div></div></div></div></div></div></div></div></div>"
      ],
      "text/plain": [
       "GridSearchCV(cv=3, estimator=RandomForestClassifier(random_state=6),\n",
       "             param_grid={'criterion': ['gini'], 'max_depth': [5, 7, 9],\n",
       "                         'max_features': [0.25, 0.5],\n",
       "                         'n_estimators': [50, 100, 200]})"
      ]
     },
     "execution_count": 113,
     "metadata": {},
     "output_type": "execute_result"
    }
   ],
   "source": [
    "# Instantiating the new classifier\n",
    "forest_CV = RandomForestClassifier(random_state=6)\n",
    "# Passing the parameters we defined\n",
    "forest_CV = GridSearchCV(estimator=forest_CV, param_grid=forest_param, cv=3)\n",
    "# Fitting the training data\n",
    "forest_CV.fit(X_train_full, y_train_resampled)"
   ]
  },
  {
   "cell_type": "code",
   "execution_count": 129,
   "metadata": {},
   "outputs": [
    {
     "name": "stdout",
     "output_type": "stream",
     "text": [
      "{'criterion': 'gini', 'max_depth': 9, 'max_features': 0.5, 'n_estimators': 50}\n",
      "RandomForestClassifier(max_depth=9, max_features=0.5, n_estimators=50,\n",
      "                       random_state=6)\n",
      "Forest Tuned Model F1 score is: 0.9915459322494805\n"
     ]
    }
   ],
   "source": [
    "print(forest_CV.best_params_)\n",
    "print(forest_CV.best_estimator_)\n",
    "print('Forest Tuned Model F1 score is:', forest_CV.best_score_)"
   ]
  },
  {
   "cell_type": "markdown",
   "metadata": {},
   "source": [
    "As seen with the Tuned Model above, we got a better F1 Score of 0.991 compared to our base model score of 0.969. The best combination of parameters is {'criterion': 'gini', 'max_depth': 9, 'max_features': 0.5, 'n_estimators': 50}"
   ]
  },
  {
   "cell_type": "markdown",
   "metadata": {},
   "source": [
    "## Second Model\n",
    "\n",
    "### Decision Tree Classifier\n",
    "A decision tree is a DAG type of classifier where each internal node represents a choice between a number of alternatives and each leaf node represents a classification. \n",
    "\n",
    "Initial Model\n"
   ]
  },
  {
   "cell_type": "code",
   "execution_count": 130,
   "metadata": {},
   "outputs": [
    {
     "name": "stdout",
     "output_type": "stream",
     "text": [
      "Decision Tree Initial Model F1 score is: 0.9693877551020408\n"
     ]
    }
   ],
   "source": [
    "# Instantiating the model and building it\n",
    "tree = DecisionTreeClassifier(random_state=6)\n",
    "tree.fit(X_train_full, y_train_resampled)\n",
    "tree_testpreds = tree.predict(X_test_full)\n",
    "decision_tree_f1_score = f1_score(y_test, tree_testpreds)\n",
    "print('Decision Tree Initial Model F1 score is:', decision_tree_f1_score)\n",
    "\n"
   ]
  },
  {
   "cell_type": "code",
   "execution_count": 131,
   "metadata": {},
   "outputs": [
    {
     "data": {
      "image/png": "[encoded data removed]",
      "text/plain": [
       "<Figure size 720x432 with 2 Axes>"
      ]
     },
     "metadata": {
      "needs_background": "light"
     },
     "output_type": "display_data"
    }
   ],
   "source": [
    "# Plotting the Confusion Matrix\n",
    "plt.figure(figsize=(10,6))\n",
    "cf_matrix = confusion_matrix(y_test, tree_testpreds)\n",
    "sns.heatmap(cf_matrix, annot=True, fmt=\"d\")\n",
    "plt.suptitle(\"Decision Tree Confusion Matrix\")\n",
    "plt.ylabel('Actual Values')\n",
    "plt.xlabel('Predicted Values');"
   ]
  },
  {
   "cell_type": "markdown",
   "metadata": {},
   "source": [
    "Grid SearchCV Decision Tree"
   ]
  },
  {
   "cell_type": "code",
   "execution_count": 132,
   "metadata": {},
   "outputs": [],
   "source": [
    "tree_param = {\n",
    "        'max_depth': [3, 4, 5],\n",
    "        'min_samples_leaf': [0.04, 0.06, 0.08],\n",
    "        'max_features': [0.2, 0.4, 0.6],\n",
    "        'criterion': ['gini', 'entropy']\n",
    "}"
   ]
  },
  {
   "cell_type": "code",
   "execution_count": 133,
   "metadata": {},
   "outputs": [
    {
     "data": {
      "text/html": [
       "<style>#sk-container-id-2 {color: black;background-color: white;}#sk-container-id-2 pre{padding: 0;}#sk-container-id-2 div.sk-toggleable {background-color: white;}#sk-container-id-2 label.sk-toggleable__label {cursor: pointer;display: block;width: 100%;margin-bottom: 0;padding: 0.3em;box-sizing: border-box;text-align: center;}#sk-container-id-2 label.sk-toggleable__label-arrow:before {content: \"▸\";float: left;margin-right: 0.25em;color: #696969;}#sk-container-id-2 label.sk-toggleable__label-arrow:hover:before {color: black;}#sk-container-id-2 div.sk-estimator:hover label.sk-toggleable__label-arrow:before {color: black;}#sk-container-id-2 div.sk-toggleable__content {max-height: 0;max-width: 0;overflow: hidden;text-align: left;background-color: #f0f8ff;}#sk-container-id-2 div.sk-toggleable__content pre {margin: 0.2em;color: black;border-radius: 0.25em;background-color: #f0f8ff;}#sk-container-id-2 input.sk-toggleable__control:checked~div.sk-toggleable__content {max-height: 200px;max-width: 100%;overflow: auto;}#sk-container-id-2 input.sk-toggleable__control:checked~label.sk-toggleable__label-arrow:before {content: \"▾\";}#sk-container-id-2 div.sk-estimator input.sk-toggleable__control:checked~label.sk-toggleable__label {background-color: #d4ebff;}#sk-container-id-2 div.sk-label input.sk-toggleable__control:checked~label.sk-toggleable__label {background-color: #d4ebff;}#sk-container-id-2 input.sk-hidden--visually {border: 0;clip: rect(1px 1px 1px 1px);clip: rect(1px, 1px, 1px, 1px);height: 1px;margin: -1px;overflow: hidden;padding: 0;position: absolute;width: 1px;}#sk-container-id-2 div.sk-estimator {font-family: monospace;background-color: #f0f8ff;border: 1px dotted black;border-radius: 0.25em;box-sizing: border-box;margin-bottom: 0.5em;}#sk-container-id-2 div.sk-estimator:hover {background-color: #d4ebff;}#sk-container-id-2 div.sk-parallel-item::after {content: \"\";width: 100%;border-bottom: 1px solid gray;flex-grow: 1;}#sk-container-id-2 div.sk-label:hover label.sk-toggleable__label {background-color: #d4ebff;}#sk-container-id-2 div.sk-serial::before {content: \"\";position: absolute;border-left: 1px solid gray;box-sizing: border-box;top: 0;bottom: 0;left: 50%;z-index: 0;}#sk-container-id-2 div.sk-serial {display: flex;flex-direction: column;align-items: center;background-color: white;padding-right: 0.2em;padding-left: 0.2em;position: relative;}#sk-container-id-2 div.sk-item {position: relative;z-index: 1;}#sk-container-id-2 div.sk-parallel {display: flex;align-items: stretch;justify-content: center;background-color: white;position: relative;}#sk-container-id-2 div.sk-item::before, #sk-container-id-2 div.sk-parallel-item::before {content: \"\";position: absolute;border-left: 1px solid gray;box-sizing: border-box;top: 0;bottom: 0;left: 50%;z-index: -1;}#sk-container-id-2 div.sk-parallel-item {display: flex;flex-direction: column;z-index: 1;position: relative;background-color: white;}#sk-container-id-2 div.sk-parallel-item:first-child::after {align-self: flex-end;width: 50%;}#sk-container-id-2 div.sk-parallel-item:last-child::after {align-self: flex-start;width: 50%;}#sk-container-id-2 div.sk-parallel-item:only-child::after {width: 0;}#sk-container-id-2 div.sk-dashed-wrapped {border: 1px dashed gray;margin: 0 0.4em 0.5em 0.4em;box-sizing: border-box;padding-bottom: 0.4em;background-color: white;}#sk-container-id-2 div.sk-label label {font-family: monospace;font-weight: bold;display: inline-block;line-height: 1.2em;}#sk-container-id-2 div.sk-label-container {text-align: center;}#sk-container-id-2 div.sk-container {/* jupyter's `normalize.less` sets `[hidden] { display: none; }` but bootstrap.min.css set `[hidden] { display: none !important; }` so we also need the `!important` here to be able to override the default hidden behavior on the sphinx rendered scikit-learn.org. See: https://github.com/scikit-learn/scikit-learn/issues/21755 */display: inline-block !important;position: relative;}#sk-container-id-2 div.sk-text-repr-fallback {display: none;}</style><div id=\"sk-container-id-2\" class=\"sk-top-container\"><div class=\"sk-text-repr-fallback\"><pre>GridSearchCV(cv=3, estimator=DecisionTreeClassifier(random_state=6),\n",
       "             param_grid={&#x27;criterion&#x27;: [&#x27;gini&#x27;, &#x27;entropy&#x27;],\n",
       "                         &#x27;max_depth&#x27;: [3, 4, 5],\n",
       "                         &#x27;max_features&#x27;: [0.2, 0.4, 0.6],\n",
       "                         &#x27;min_samples_leaf&#x27;: [0.04, 0.06, 0.08]})</pre><b>In a Jupyter environment, please rerun this cell to show the HTML representation or trust the notebook. <br />On GitHub, the HTML representation is unable to render, please try loading this page with nbviewer.org.</b></div><div class=\"sk-container\" hidden><div class=\"sk-item sk-dashed-wrapped\"><div class=\"sk-label-container\"><div class=\"sk-label sk-toggleable\"><input class=\"sk-toggleable__control sk-hidden--visually\" id=\"sk-estimator-id-4\" type=\"checkbox\" ><label for=\"sk-estimator-id-4\" class=\"sk-toggleable__label sk-toggleable__label-arrow\">GridSearchCV</label><div class=\"sk-toggleable__content\"><pre>GridSearchCV(cv=3, estimator=DecisionTreeClassifier(random_state=6),\n",
       "             param_grid={&#x27;criterion&#x27;: [&#x27;gini&#x27;, &#x27;entropy&#x27;],\n",
       "                         &#x27;max_depth&#x27;: [3, 4, 5],\n",
       "                         &#x27;max_features&#x27;: [0.2, 0.4, 0.6],\n",
       "                         &#x27;min_samples_leaf&#x27;: [0.04, 0.06, 0.08]})</pre></div></div></div><div class=\"sk-parallel\"><div class=\"sk-parallel-item\"><div class=\"sk-item\"><div class=\"sk-label-container\"><div class=\"sk-label sk-toggleable\"><input class=\"sk-toggleable__control sk-hidden--visually\" id=\"sk-estimator-id-5\" type=\"checkbox\" ><label for=\"sk-estimator-id-5\" class=\"sk-toggleable__label sk-toggleable__label-arrow\">estimator: DecisionTreeClassifier</label><div class=\"sk-toggleable__content\"><pre>DecisionTreeClassifier(random_state=6)</pre></div></div></div><div class=\"sk-serial\"><div class=\"sk-item\"><div class=\"sk-estimator sk-toggleable\"><input class=\"sk-toggleable__control sk-hidden--visually\" id=\"sk-estimator-id-6\" type=\"checkbox\" ><label for=\"sk-estimator-id-6\" class=\"sk-toggleable__label sk-toggleable__label-arrow\">DecisionTreeClassifier</label><div class=\"sk-toggleable__content\"><pre>DecisionTreeClassifier(random_state=6)</pre></div></div></div></div></div></div></div></div></div></div>"
      ],
      "text/plain": [
       "GridSearchCV(cv=3, estimator=DecisionTreeClassifier(random_state=6),\n",
       "             param_grid={'criterion': ['gini', 'entropy'],\n",
       "                         'max_depth': [3, 4, 5],\n",
       "                         'max_features': [0.2, 0.4, 0.6],\n",
       "                         'min_samples_leaf': [0.04, 0.06, 0.08]})"
      ]
     },
     "execution_count": 133,
     "metadata": {},
     "output_type": "execute_result"
    }
   ],
   "source": [
    "tree_CV = DecisionTreeClassifier(random_state=6)\n",
    "tree_CV = GridSearchCV(estimator=tree_CV, param_grid=tree_param, cv=3)\n",
    "tree_CV.fit(X_train_full, y_train_resampled)"
   ]
  },
  {
   "cell_type": "code",
   "execution_count": 134,
   "metadata": {},
   "outputs": [
    {
     "name": "stdout",
     "output_type": "stream",
     "text": [
      "{'criterion': 'gini', 'max_depth': 3, 'max_features': 0.6, 'min_samples_leaf': 0.04}\n",
      "DecisionTreeClassifier(max_depth=3, max_features=0.6, min_samples_leaf=0.04,\n",
      "                       random_state=6)\n",
      "Decision Tree Tuned Model F1 score is: 0.9901690838188362\n"
     ]
    }
   ],
   "source": [
    "print(tree_CV.best_params_)\n",
    "print(tree_CV.best_estimator_)\n",
    "print('Decision Tree Tuned Model F1 score is:', tree_CV.best_score_)"
   ]
  },
  {
   "cell_type": "markdown",
   "metadata": {},
   "source": [
    "As seen with the Tuned Model above, we got a better F1 Score of 0.990 compared to our initial model score of 0.969. The best combination of parameters is {'criterion': 'gini', 'max_depth': 3, 'max_features': 0.6, 'min_samples_leaf': 0.04}"
   ]
  },
  {
   "cell_type": "markdown",
   "metadata": {},
   "source": [
    "## Third Model\n",
    "\n",
    "### KNN Classifier\n",
    "\n",
    "KNN is a distance-based classifier, meaning that it implicitly assumes that the smaller the distance between two points, the more similar they are. In KNN, each column acts as a dimension.\n",
    "\n",
    "Initial Model"
   ]
  },
  {
   "cell_type": "code",
   "execution_count": 135,
   "metadata": {},
   "outputs": [
    {
     "name": "stdout",
     "output_type": "stream",
     "text": [
      "KNN Initial Model F1 score is: 0.6987951807228916\n"
     ]
    }
   ],
   "source": [
    "knn = KNeighborsClassifier()\n",
    "knn.fit(X_train_full, y_train_resampled)\n",
    "knn_testpreds = knn.predict(X_test_full)\n",
    "knn_f1_score = f1_score(y_test, knn_testpreds)\n",
    "print('KNN Initial Model F1 score is:', knn_f1_score)"
   ]
  },
  {
   "cell_type": "code",
   "execution_count": 136,
   "metadata": {},
   "outputs": [
    {
     "data": {
      "image/png": "[encoded data removed]",
      "text/plain": [
       "<Figure size 720x432 with 2 Axes>"
      ]
     },
     "metadata": {
      "needs_background": "light"
     },
     "output_type": "display_data"
    }
   ],
   "source": [
    "# Plotting the Confusion Matrix\n",
    "plt.figure(figsize=(10,6))\n",
    "cf_matrix = confusion_matrix(y_test, knn_testpreds)\n",
    "sns.heatmap(cf_matrix, annot=True, fmt=\"d\")\n",
    "plt.suptitle(\"KNN Confusion Matrix\")\n",
    "plt.ylabel('Actual Values')\n",
    "plt.xlabel('Predicted Values');"
   ]
  },
  {
   "cell_type": "markdown",
   "metadata": {},
   "source": [
    "Grid SearchCV KNN Classifier"
   ]
  },
  {
   "cell_type": "code",
   "execution_count": 137,
   "metadata": {},
   "outputs": [],
   "source": [
    "knn_param = {\n",
    "        'max_depth': [3, 4, 5],\n",
    "        'min_samples_leaf': [0.04, 0.06, 0.08],\n",
    "        'max_features': [0.2, 0.4, 0.6],\n",
    "        'criterion': ['gini', 'entropy']\n",
    "}"
   ]
  },
  {
   "cell_type": "code",
   "execution_count": 138,
   "metadata": {},
   "outputs": [
    {
     "name": "stdout",
     "output_type": "stream",
     "text": [
      "{'n_neighbors': [1, 2, 3, 4, 5, 6, 7, 8, 9, 10, 11, 12, 13, 14, 15, 16, 17, 18, 19, 20, 21, 22, 23, 24, 25, 26, 27, 28, 29, 30], 'weights': ['uniform', 'distance']}\n"
     ]
    }
   ],
   "source": [
    "# define the parameter values that should be searched\n",
    "k_range = list(range(1, 31))\n",
    "# Another parameter besides k that we might vary is the weights parameters\n",
    "weight_options = ['uniform', 'distance']\n",
    "# default options --> uniform (all points in the neighborhood are weighted equally)\n",
    "# another option --> distance (weights closer neighbors more heavily than further neighbors)\n",
    "# we create a list\n",
    "param_grid = dict(n_neighbors=k_range, weights=weight_options)\n",
    "print(param_grid)"
   ]
  },
  {
   "cell_type": "code",
   "execution_count": 139,
   "metadata": {},
   "outputs": [
    {
     "data": {
      "text/html": [
       "<style>#sk-container-id-3 {color: black;background-color: white;}#sk-container-id-3 pre{padding: 0;}#sk-container-id-3 div.sk-toggleable {background-color: white;}#sk-container-id-3 label.sk-toggleable__label {cursor: pointer;display: block;width: 100%;margin-bottom: 0;padding: 0.3em;box-sizing: border-box;text-align: center;}#sk-container-id-3 label.sk-toggleable__label-arrow:before {content: \"▸\";float: left;margin-right: 0.25em;color: #696969;}#sk-container-id-3 label.sk-toggleable__label-arrow:hover:before {color: black;}#sk-container-id-3 div.sk-estimator:hover label.sk-toggleable__label-arrow:before {color: black;}#sk-container-id-3 div.sk-toggleable__content {max-height: 0;max-width: 0;overflow: hidden;text-align: left;background-color: #f0f8ff;}#sk-container-id-3 div.sk-toggleable__content pre {margin: 0.2em;color: black;border-radius: 0.25em;background-color: #f0f8ff;}#sk-container-id-3 input.sk-toggleable__control:checked~div.sk-toggleable__content {max-height: 200px;max-width: 100%;overflow: auto;}#sk-container-id-3 input.sk-toggleable__control:checked~label.sk-toggleable__label-arrow:before {content: \"▾\";}#sk-container-id-3 div.sk-estimator input.sk-toggleable__control:checked~label.sk-toggleable__label {background-color: #d4ebff;}#sk-container-id-3 div.sk-label input.sk-toggleable__control:checked~label.sk-toggleable__label {background-color: #d4ebff;}#sk-container-id-3 input.sk-hidden--visually {border: 0;clip: rect(1px 1px 1px 1px);clip: rect(1px, 1px, 1px, 1px);height: 1px;margin: -1px;overflow: hidden;padding: 0;position: absolute;width: 1px;}#sk-container-id-3 div.sk-estimator {font-family: monospace;background-color: #f0f8ff;border: 1px dotted black;border-radius: 0.25em;box-sizing: border-box;margin-bottom: 0.5em;}#sk-container-id-3 div.sk-estimator:hover {background-color: #d4ebff;}#sk-container-id-3 div.sk-parallel-item::after {content: \"\";width: 100%;border-bottom: 1px solid gray;flex-grow: 1;}#sk-container-id-3 div.sk-label:hover label.sk-toggleable__label {background-color: #d4ebff;}#sk-container-id-3 div.sk-serial::before {content: \"\";position: absolute;border-left: 1px solid gray;box-sizing: border-box;top: 0;bottom: 0;left: 50%;z-index: 0;}#sk-container-id-3 div.sk-serial {display: flex;flex-direction: column;align-items: center;background-color: white;padding-right: 0.2em;padding-left: 0.2em;position: relative;}#sk-container-id-3 div.sk-item {position: relative;z-index: 1;}#sk-container-id-3 div.sk-parallel {display: flex;align-items: stretch;justify-content: center;background-color: white;position: relative;}#sk-container-id-3 div.sk-item::before, #sk-container-id-3 div.sk-parallel-item::before {content: \"\";position: absolute;border-left: 1px solid gray;box-sizing: border-box;top: 0;bottom: 0;left: 50%;z-index: -1;}#sk-container-id-3 div.sk-parallel-item {display: flex;flex-direction: column;z-index: 1;position: relative;background-color: white;}#sk-container-id-3 div.sk-parallel-item:first-child::after {align-self: flex-end;width: 50%;}#sk-container-id-3 div.sk-parallel-item:last-child::after {align-self: flex-start;width: 50%;}#sk-container-id-3 div.sk-parallel-item:only-child::after {width: 0;}#sk-container-id-3 div.sk-dashed-wrapped {border: 1px dashed gray;margin: 0 0.4em 0.5em 0.4em;box-sizing: border-box;padding-bottom: 0.4em;background-color: white;}#sk-container-id-3 div.sk-label label {font-family: monospace;font-weight: bold;display: inline-block;line-height: 1.2em;}#sk-container-id-3 div.sk-label-container {text-align: center;}#sk-container-id-3 div.sk-container {/* jupyter's `normalize.less` sets `[hidden] { display: none; }` but bootstrap.min.css set `[hidden] { display: none !important; }` so we also need the `!important` here to be able to override the default hidden behavior on the sphinx rendered scikit-learn.org. See: https://github.com/scikit-learn/scikit-learn/issues/21755 */display: inline-block !important;position: relative;}#sk-container-id-3 div.sk-text-repr-fallback {display: none;}</style><div id=\"sk-container-id-3\" class=\"sk-top-container\"><div class=\"sk-text-repr-fallback\"><pre>GridSearchCV(cv=10, estimator=KNeighborsClassifier(),\n",
       "             param_grid={&#x27;n_neighbors&#x27;: [1, 2, 3, 4, 5, 6, 7, 8, 9, 10, 11, 12,\n",
       "                                         13, 14, 15, 16, 17, 18, 19, 20, 21, 22,\n",
       "                                         23, 24, 25, 26, 27, 28, 29, 30],\n",
       "                         &#x27;weights&#x27;: [&#x27;uniform&#x27;, &#x27;distance&#x27;]},\n",
       "             scoring=&#x27;accuracy&#x27;)</pre><b>In a Jupyter environment, please rerun this cell to show the HTML representation or trust the notebook. <br />On GitHub, the HTML representation is unable to render, please try loading this page with nbviewer.org.</b></div><div class=\"sk-container\" hidden><div class=\"sk-item sk-dashed-wrapped\"><div class=\"sk-label-container\"><div class=\"sk-label sk-toggleable\"><input class=\"sk-toggleable__control sk-hidden--visually\" id=\"sk-estimator-id-7\" type=\"checkbox\" ><label for=\"sk-estimator-id-7\" class=\"sk-toggleable__label sk-toggleable__label-arrow\">GridSearchCV</label><div class=\"sk-toggleable__content\"><pre>GridSearchCV(cv=10, estimator=KNeighborsClassifier(),\n",
       "             param_grid={&#x27;n_neighbors&#x27;: [1, 2, 3, 4, 5, 6, 7, 8, 9, 10, 11, 12,\n",
       "                                         13, 14, 15, 16, 17, 18, 19, 20, 21, 22,\n",
       "                                         23, 24, 25, 26, 27, 28, 29, 30],\n",
       "                         &#x27;weights&#x27;: [&#x27;uniform&#x27;, &#x27;distance&#x27;]},\n",
       "             scoring=&#x27;accuracy&#x27;)</pre></div></div></div><div class=\"sk-parallel\"><div class=\"sk-parallel-item\"><div class=\"sk-item\"><div class=\"sk-label-container\"><div class=\"sk-label sk-toggleable\"><input class=\"sk-toggleable__control sk-hidden--visually\" id=\"sk-estimator-id-8\" type=\"checkbox\" ><label for=\"sk-estimator-id-8\" class=\"sk-toggleable__label sk-toggleable__label-arrow\">estimator: KNeighborsClassifier</label><div class=\"sk-toggleable__content\"><pre>KNeighborsClassifier()</pre></div></div></div><div class=\"sk-serial\"><div class=\"sk-item\"><div class=\"sk-estimator sk-toggleable\"><input class=\"sk-toggleable__control sk-hidden--visually\" id=\"sk-estimator-id-9\" type=\"checkbox\" ><label for=\"sk-estimator-id-9\" class=\"sk-toggleable__label sk-toggleable__label-arrow\">KNeighborsClassifier</label><div class=\"sk-toggleable__content\"><pre>KNeighborsClassifier()</pre></div></div></div></div></div></div></div></div></div></div>"
      ],
      "text/plain": [
       "GridSearchCV(cv=10, estimator=KNeighborsClassifier(),\n",
       "             param_grid={'n_neighbors': [1, 2, 3, 4, 5, 6, 7, 8, 9, 10, 11, 12,\n",
       "                                         13, 14, 15, 16, 17, 18, 19, 20, 21, 22,\n",
       "                                         23, 24, 25, 26, 27, 28, 29, 30],\n",
       "                         'weights': ['uniform', 'distance']},\n",
       "             scoring='accuracy')"
      ]
     },
     "execution_count": 139,
     "metadata": {},
     "output_type": "execute_result"
    }
   ],
   "source": [
    "grid = GridSearchCV(knn, param_grid, cv=10, scoring='accuracy')\n",
    "grid.fit(X_train_full, y_train_resampled)"
   ]
  },
  {
   "cell_type": "code",
   "execution_count": 140,
   "metadata": {},
   "outputs": [
    {
     "name": "stdout",
     "output_type": "stream",
     "text": [
      "{'n_neighbors': 2, 'weights': 'uniform'}\n",
      "KNeighborsClassifier(n_neighbors=2)\n",
      "KNN Tuned Model F1 score is: 0.9747538901943056\n"
     ]
    }
   ],
   "source": [
    "print(grid.best_params_)\n",
    "print(grid.best_estimator_)\n",
    "print('KNN Tuned Model F1 score is:', grid.best_score_)"
   ]
  },
  {
   "cell_type": "markdown",
   "metadata": {},
   "source": [
    "As seen with the Tuned Model above, we got a significantly better F1 Score of 0.975 compared to our initial model score of 0.698. The best combination of parameters is {'n_neighbors': 2, 'weights': 'uniform'}"
   ]
  },
  {
   "cell_type": "markdown",
   "metadata": {},
   "source": [
    "Compare the Accuracy Scores of all models"
   ]
  },
  {
   "cell_type": "code",
   "execution_count": 141,
   "metadata": {},
   "outputs": [
    {
     "name": "stdout",
     "output_type": "stream",
     "text": [
      "Forest Initial Model F1 score is: 0.9685279187817258\n",
      "Forest Tuned Model F1 score is: 0.9915459322494805\n",
      " \n",
      "Decision Tree Initial Model F1 score is: 0.9693877551020408\n",
      "Decision Tree Tuned Model F1 score is: 0.9901690838188362\n",
      " \n",
      "KNN Initial Model F1 score is: 0.6987951807228916\n",
      "KNN Tuned Model F1 score is: 0.9747538901943056\n"
     ]
    }
   ],
   "source": [
    "print('Forest Initial Model F1 score is:', forest_f1_score)\n",
    "print('Forest Tuned Model F1 score is:', forest_CV.best_score_)\n",
    "print(\" \")\n",
    "print('Decision Tree Initial Model F1 score is:', decision_tree_f1_score)\n",
    "print('Decision Tree Tuned Model F1 score is:', tree_CV.best_score_)\n",
    "print(\" \")\n",
    "print('KNN Initial Model F1 score is:', knn_f1_score)\n",
    "print('KNN Tuned Model F1 score is:', grid.best_score_)\n"
   ]
  },
  {
   "cell_type": "markdown",
   "metadata": {},
   "source": [
    "The Tuned Forest Model has the best F1 score compared to all models. This means that this is the best classifier of them all. By passing the following parameters, `{'criterion': 'gini', 'max_depth': 9, 'max_features': 0.5, 'n_estimators': 50}`, to our classifier we got an F1 score of 0.991"
   ]
  },
  {
   "cell_type": "markdown",
   "metadata": {},
   "source": [
    "## Feature Selection"
   ]
  },
  {
   "cell_type": "code",
   "execution_count": null,
   "metadata": {},
   "outputs": [],
   "source": [
    "from sklearn.linear_model import Lasso\n",
    "from sklearn import metrics \n",
    "from sklearn.metrics import accuracy_score, f1_score, recall_score\n",
    "lasso = Lasso(alpha = 0.001, normalize = False)\n",
    "lasso = lasso.fit(X_train_full, y_train_resampled)\n",
    "y_train_predFS = lasso.predict(X_train_full)"
   ]
  },
  {
   "cell_type": "code",
   "execution_count": null,
   "metadata": {},
   "outputs": [
    {
     "data": {
      "text/plain": [
       "<AxesSubplot:title={'center':'Modal Coefficients'}>"
      ]
     },
     "execution_count": 83,
     "metadata": {},
     "output_type": "execute_result"
    },
    {
     "data": {
      "image/png": "[encoded data removed]",
      "text/plain": [
       "<Figure size 1152x1296 with 1 Axes>"
      ]
     },
     "metadata": {},
     "output_type": "display_data"
    }
   ],
   "source": [
    "lasso_coef = pd.DataFrame(data=lasso.coef_).T\n",
    "lasso_coef.columns = X_train_full.columns\n",
    "lasso_coef = lasso_coef.T.sort_values(by=0).T\n",
    "lasso_coef.plot(kind='bar', title='Modal Coefficients', legend=True, figsize=(16,18))"
   ]
  },
  {
   "cell_type": "code",
   "execution_count": null,
   "metadata": {},
   "outputs": [
    {
     "data": {
      "text/html": [
       "<div>\n",
       "<style scoped>\n",
       "    .dataframe tbody tr th:only-of-type {\n",
       "        vertical-align: middle;\n",
       "    }\n",
       "\n",
       "    .dataframe tbody tr th {\n",
       "        vertical-align: top;\n",
       "    }\n",
       "\n",
       "    .dataframe thead th {\n",
       "        text-align: right;\n",
       "    }\n",
       "</style>\n",
       "<table border=\"1\" class=\"dataframe\">\n",
       "  <thead>\n",
       "    <tr style=\"text-align: right;\">\n",
       "      <th></th>\n",
       "      <th>0</th>\n",
       "    </tr>\n",
       "  </thead>\n",
       "  <tbody>\n",
       "    <tr>\n",
       "      <th>Field Contact</th>\n",
       "      <td>-6.159451e-02</td>\n",
       "    </tr>\n",
       "    <tr>\n",
       "      <th>January</th>\n",
       "      <td>-4.769776e-02</td>\n",
       "    </tr>\n",
       "    <tr>\n",
       "      <th>March</th>\n",
       "      <td>-4.666403e-02</td>\n",
       "    </tr>\n",
       "    <tr>\n",
       "      <th>April</th>\n",
       "      <td>-3.757858e-02</td>\n",
       "    </tr>\n",
       "    <tr>\n",
       "      <th>February</th>\n",
       "      <td>-3.614831e-02</td>\n",
       "    </tr>\n",
       "    <tr>\n",
       "      <th>Unknown Subject Age</th>\n",
       "      <td>-1.395488e-02</td>\n",
       "    </tr>\n",
       "    <tr>\n",
       "      <th>Subject Hispanic</th>\n",
       "      <td>-8.301709e-03</td>\n",
       "    </tr>\n",
       "    <tr>\n",
       "      <th>Female</th>\n",
       "      <td>-7.922461e-03</td>\n",
       "    </tr>\n",
       "    <tr>\n",
       "      <th>1 - 17</th>\n",
       "      <td>-7.297602e-03</td>\n",
       "    </tr>\n",
       "    <tr>\n",
       "      <th>Not Specified</th>\n",
       "      <td>-1.715582e-03</td>\n",
       "    </tr>\n",
       "    <tr>\n",
       "      <th>night</th>\n",
       "      <td>-1.171898e-03</td>\n",
       "    </tr>\n",
       "    <tr>\n",
       "      <th>Y</th>\n",
       "      <td>-3.306947e-17</td>\n",
       "    </tr>\n",
       "    <tr>\n",
       "      <th>56 and Above</th>\n",
       "      <td>-0.000000e+00</td>\n",
       "    </tr>\n",
       "    <tr>\n",
       "      <th>Gender Diverse (gender non-conforming and/or transgender)</th>\n",
       "      <td>-0.000000e+00</td>\n",
       "    </tr>\n",
       "    <tr>\n",
       "      <th>Male</th>\n",
       "      <td>0.000000e+00</td>\n",
       "    </tr>\n",
       "    <tr>\n",
       "      <th>Unknown</th>\n",
       "      <td>-0.000000e+00</td>\n",
       "    </tr>\n",
       "    <tr>\n",
       "      <th>Unknown Subject Gender</th>\n",
       "      <td>0.000000e+00</td>\n",
       "    </tr>\n",
       "    <tr>\n",
       "      <th>afternoon</th>\n",
       "      <td>0.000000e+00</td>\n",
       "    </tr>\n",
       "    <tr>\n",
       "      <th>evening</th>\n",
       "      <td>-0.000000e+00</td>\n",
       "    </tr>\n",
       "    <tr>\n",
       "      <th>Unknown Subject Race</th>\n",
       "      <td>-0.000000e+00</td>\n",
       "    </tr>\n",
       "    <tr>\n",
       "      <th>46 - 55</th>\n",
       "      <td>0.000000e+00</td>\n",
       "    </tr>\n",
       "    <tr>\n",
       "      <th>August</th>\n",
       "      <td>0.000000e+00</td>\n",
       "    </tr>\n",
       "    <tr>\n",
       "      <th>July</th>\n",
       "      <td>0.000000e+00</td>\n",
       "    </tr>\n",
       "    <tr>\n",
       "      <th>June</th>\n",
       "      <td>0.000000e+00</td>\n",
       "    </tr>\n",
       "    <tr>\n",
       "      <th>18 - 25</th>\n",
       "      <td>-0.000000e+00</td>\n",
       "    </tr>\n",
       "    <tr>\n",
       "      <th>May</th>\n",
       "      <td>0.000000e+00</td>\n",
       "    </tr>\n",
       "    <tr>\n",
       "      <th>October</th>\n",
       "      <td>0.000000e+00</td>\n",
       "    </tr>\n",
       "    <tr>\n",
       "      <th>September</th>\n",
       "      <td>0.000000e+00</td>\n",
       "    </tr>\n",
       "    <tr>\n",
       "      <th>Citation / Infraction</th>\n",
       "      <td>-0.000000e+00</td>\n",
       "    </tr>\n",
       "    <tr>\n",
       "      <th>Unknown</th>\n",
       "      <td>0.000000e+00</td>\n",
       "    </tr>\n",
       "    <tr>\n",
       "      <th>officer_age</th>\n",
       "      <td>-0.000000e+00</td>\n",
       "    </tr>\n",
       "    <tr>\n",
       "      <th>Asian</th>\n",
       "      <td>-0.000000e+00</td>\n",
       "    </tr>\n",
       "    <tr>\n",
       "      <th>Firearm</th>\n",
       "      <td>-0.000000e+00</td>\n",
       "    </tr>\n",
       "    <tr>\n",
       "      <th>Non-Firearm</th>\n",
       "      <td>-0.000000e+00</td>\n",
       "    </tr>\n",
       "    <tr>\n",
       "      <th>None</th>\n",
       "      <td>0.000000e+00</td>\n",
       "    </tr>\n",
       "    <tr>\n",
       "      <th>F</th>\n",
       "      <td>-0.000000e+00</td>\n",
       "    </tr>\n",
       "    <tr>\n",
       "      <th>M</th>\n",
       "      <td>0.000000e+00</td>\n",
       "    </tr>\n",
       "    <tr>\n",
       "      <th>American Indian/Alaska Native</th>\n",
       "      <td>-0.000000e+00</td>\n",
       "    </tr>\n",
       "    <tr>\n",
       "      <th>Subject Native Hawaiian or Other Pacific Islander</th>\n",
       "      <td>-0.000000e+00</td>\n",
       "    </tr>\n",
       "    <tr>\n",
       "      <th>Black or African American</th>\n",
       "      <td>-0.000000e+00</td>\n",
       "    </tr>\n",
       "    <tr>\n",
       "      <th>Referred for Prosecution</th>\n",
       "      <td>0.000000e+00</td>\n",
       "    </tr>\n",
       "    <tr>\n",
       "      <th>Nat Hawaiian/Oth Pac Islander</th>\n",
       "      <td>-0.000000e+00</td>\n",
       "    </tr>\n",
       "    <tr>\n",
       "      <th>Two or More Races</th>\n",
       "      <td>0.000000e+00</td>\n",
       "    </tr>\n",
       "    <tr>\n",
       "      <th>Multi-Racial</th>\n",
       "      <td>0.000000e+00</td>\n",
       "    </tr>\n",
       "    <tr>\n",
       "      <th>Subject American Indian or Alaska Native</th>\n",
       "      <td>-0.000000e+00</td>\n",
       "    </tr>\n",
       "    <tr>\n",
       "      <th>Subject Asian</th>\n",
       "      <td>-0.000000e+00</td>\n",
       "    </tr>\n",
       "    <tr>\n",
       "      <th>Offense Report</th>\n",
       "      <td>-0.000000e+00</td>\n",
       "    </tr>\n",
       "    <tr>\n",
       "      <th>Hispanic or Latino</th>\n",
       "      <td>0.000000e+00</td>\n",
       "    </tr>\n",
       "    <tr>\n",
       "      <th>morning</th>\n",
       "      <td>4.875669e-03</td>\n",
       "    </tr>\n",
       "    <tr>\n",
       "      <th>November</th>\n",
       "      <td>6.826224e-03</td>\n",
       "    </tr>\n",
       "    <tr>\n",
       "      <th>26 - 35</th>\n",
       "      <td>7.523995e-03</td>\n",
       "    </tr>\n",
       "    <tr>\n",
       "      <th>36 - 45</th>\n",
       "      <td>9.558270e-03</td>\n",
       "    </tr>\n",
       "    <tr>\n",
       "      <th>N</th>\n",
       "      <td>9.742392e-03</td>\n",
       "    </tr>\n",
       "    <tr>\n",
       "      <th>December</th>\n",
       "      <td>1.279228e-02</td>\n",
       "    </tr>\n",
       "    <tr>\n",
       "      <th>White</th>\n",
       "      <td>1.337298e-02</td>\n",
       "    </tr>\n",
       "    <tr>\n",
       "      <th>Subject Black or African American</th>\n",
       "      <td>3.828403e-02</td>\n",
       "    </tr>\n",
       "    <tr>\n",
       "      <th>Subject White</th>\n",
       "      <td>3.993763e-02</td>\n",
       "    </tr>\n",
       "    <tr>\n",
       "      <th>reported_year</th>\n",
       "      <td>5.115470e-01</td>\n",
       "    </tr>\n",
       "    <tr>\n",
       "      <th>Arrest</th>\n",
       "      <td>6.970738e-01</td>\n",
       "    </tr>\n",
       "  </tbody>\n",
       "</table>\n",
       "</div>"
      ],
      "text/plain": [
       "                                                               0\n",
       "Field Contact                                      -6.159451e-02\n",
       "January                                            -4.769776e-02\n",
       "March                                              -4.666403e-02\n",
       "April                                              -3.757858e-02\n",
       "February                                           -3.614831e-02\n",
       "Unknown Subject Age                                -1.395488e-02\n",
       "Subject Hispanic                                   -8.301709e-03\n",
       "Female                                             -7.922461e-03\n",
       "1 - 17                                             -7.297602e-03\n",
       "Not Specified                                      -1.715582e-03\n",
       "night                                              -1.171898e-03\n",
       "Y                                                  -3.306947e-17\n",
       "56 and Above                                       -0.000000e+00\n",
       "Gender Diverse (gender non-conforming and/or tr... -0.000000e+00\n",
       "Male                                                0.000000e+00\n",
       "Unknown                                            -0.000000e+00\n",
       "Unknown Subject Gender                              0.000000e+00\n",
       "afternoon                                           0.000000e+00\n",
       "evening                                            -0.000000e+00\n",
       "Unknown Subject Race                               -0.000000e+00\n",
       "46 - 55                                             0.000000e+00\n",
       "August                                              0.000000e+00\n",
       "July                                                0.000000e+00\n",
       "June                                                0.000000e+00\n",
       "18 - 25                                            -0.000000e+00\n",
       "May                                                 0.000000e+00\n",
       "October                                             0.000000e+00\n",
       "September                                           0.000000e+00\n",
       "Citation / Infraction                              -0.000000e+00\n",
       "Unknown                                             0.000000e+00\n",
       "officer_age                                        -0.000000e+00\n",
       "Asian                                              -0.000000e+00\n",
       "Firearm                                            -0.000000e+00\n",
       "Non-Firearm                                        -0.000000e+00\n",
       "None                                                0.000000e+00\n",
       "F                                                  -0.000000e+00\n",
       "M                                                   0.000000e+00\n",
       "American Indian/Alaska Native                      -0.000000e+00\n",
       "Subject Native Hawaiian or Other Pacific Islander  -0.000000e+00\n",
       "Black or African American                          -0.000000e+00\n",
       "Referred for Prosecution                            0.000000e+00\n",
       "Nat Hawaiian/Oth Pac Islander                      -0.000000e+00\n",
       "Two or More Races                                   0.000000e+00\n",
       "Multi-Racial                                        0.000000e+00\n",
       "Subject American Indian or Alaska Native           -0.000000e+00\n",
       "Subject Asian                                      -0.000000e+00\n",
       "Offense Report                                     -0.000000e+00\n",
       "Hispanic or Latino                                  0.000000e+00\n",
       "morning                                             4.875669e-03\n",
       "November                                            6.826224e-03\n",
       "26 - 35                                             7.523995e-03\n",
       "36 - 45                                             9.558270e-03\n",
       "N                                                   9.742392e-03\n",
       "December                                            1.279228e-02\n",
       "White                                               1.337298e-02\n",
       "Subject Black or African American                   3.828403e-02\n",
       "Subject White                                       3.993763e-02\n",
       "reported_year                                       5.115470e-01\n",
       "Arrest                                              6.970738e-01"
      ]
     },
     "execution_count": 84,
     "metadata": {},
     "output_type": "execute_result"
    }
   ],
   "source": [
    "lasso_coef.T"
   ]
  },
  {
   "cell_type": "markdown",
   "metadata": {},
   "source": [
    "### Findings\n",
    "* Factors that highly influence a Terry Stop arrests\n",
    "Reported Year Reported Month Subject Age Group Weapon Type Reported Time\n",
    "* factors that highly result to a person being stoped, frisked, and arrested after a Terry Stop?\n",
    "When we look at the data for frisks, we see that the focus is really on just two precincts: the East and South. The number of frisks during Terry stops increased in only those two precincts, and the likelihood that a stop would lead to a frisk also increased in those same two places\n",
    "* Whether Terry Stops are biased towards minority groups. Overall, the data skews heavily male, and is almost entirely two racial groups: blacks/African Americans and whites. Blacks continue to be over-represented in the Terry stops data compared to their representation in the entire population of Seattle."
   ]
  },
  {
   "cell_type": "markdown",
   "metadata": {},
   "source": [
    "### Recommendations\n",
    "* Combined Law Enforcement and Community Policing\n",
    "Members of the community join police officers and observe the officers' activities while working their Beat.This can lead to an increase in public trust, a better understanding of the people in their jurisdiction, as well as educate people about why certain policies are in place.\n",
    "* In determining whether probable cause exists, courts more readily accept the judgment of a law enforcement officer if it is backed by evidence of a crime/weapon possession."
   ]
  },
  {
   "cell_type": "markdown",
   "metadata": {},
   "source": [
    "### Future Work\n",
    "* The dataset contained a lot of NaN or incomplete information. Collect more data that adds more context o the nature of stops\n",
    "* Audit record system and reduce redundant columns to reduce noise\n",
    "* Look into data for police reported stops in other regions for comparison\n",
    "* Collect and analyze data on those arrested and eventually found guilty in court"
   ]
  }
 ],
 "metadata": {
  "kernelspec": {
   "display_name": "Python (learn-env)",
   "language": "python",
   "name": "learn-env"
  },
  "language_info": {
   "codemirror_mode": {
    "name": "ipython",
    "version": 3
   },
   "file_extension": ".py",
   "mimetype": "text/x-python",
   "name": "python",
   "nbconvert_exporter": "python",
   "pygments_lexer": "ipython3",
   "version": "3.9.12"
  },
  "vscode": {
   "interpreter": {
    "hash": "0ecbf1faea8edbcf421f3d5110b57129d03932a5726b8477335e9acdbe69a5e2"
   }
  }
 },
 "nbformat": 4,
 "nbformat_minor": 2
}
